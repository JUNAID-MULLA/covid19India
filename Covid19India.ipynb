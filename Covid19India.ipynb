{
  "nbformat": 4,
  "nbformat_minor": 0,
  "metadata": {
    "colab": {
      "name": "Covid19India.ipynb",
      "provenance": [],
      "include_colab_link": true
    },
    "kernelspec": {
      "display_name": "Python 3",
      "language": "python",
      "name": "python3"
    },
    "language_info": {
      "codemirror_mode": {
        "name": "ipython",
        "version": 3
      },
      "file_extension": ".py",
      "mimetype": "text/x-python",
      "name": "python",
      "nbconvert_exporter": "python",
      "pygments_lexer": "ipython3",
      "version": "3.7.3"
    }
  },
  "cells": [
    {
      "cell_type": "markdown",
      "metadata": {
        "id": "view-in-github",
        "colab_type": "text"
      },
      "source": [
        "<a href=\"https://colab.research.google.com/github/harjeet31/covid19India/blob/master/Covid19India.ipynb\" target=\"_parent\"><img src=\"https://colab.research.google.com/assets/colab-badge.svg\" alt=\"Open In Colab\"/></a>"
      ]
    },
    {
      "cell_type": "markdown",
      "metadata": {
        "colab_type": "text",
        "id": "yzbi5N8NtlzO"
      },
      "source": [
        "# Covid19India - EDA\n",
        "\n",
        "Data Description\n",
        "The dataset consists of the information about Covid19India cases taken from [Covid19India API](https://api.covid19india.org/raw_data.json). \n",
        " \n",
        "Below is a table showing names of all the columns and their description.\n",
        " \n",
        "| Attributes | Dtype   |\n",
        "|------|------|\n",
        "| agebracket | object|\n",
        "| backupnotes | object|\n",
        "| contractedfromwhichpatientsuspected | object |\n",
        "| currentstatus | object |\n",
        "| dateannounced | object |\n",
        "| detectedcity | object |\n",
        "| detecteddistrict | object |\n",
        "| detectedstate | object |\n",
        "| estimatedonsetdate | object |\n",
        "| gender | object |\n",
        "| nationality | object |\n",
        "| notes | object |\n",
        "| patientnumber | object |\n",
        "| source1 | object |\n",
        "| source2 | object |\n",
        "| source3 | object |\n",
        "| statecode | object |\n",
        "| statepatientnumber | object |\n",
        "| statuschangedate | object |\n",
        "| typeoftransmission | object |\n",
        "\n",
        "## Import Libraries"
      ]
    },
    {
      "cell_type": "code",
      "metadata": {
        "colab_type": "code",
        "id": "k4qjh7AmtlzP",
        "colab": {}
      },
      "source": [
        "import os\n",
        "from requests import request\n",
        "import urllib.request\n",
        "import json\n",
        "from pandas.io.json import json_normalize\n",
        "\n",
        "import numpy as np\n",
        "import pandas as pd\n",
        "import pandas_profiling\n",
        "import seaborn as sns\n",
        "import matplotlib.pyplot as plt\n",
        "import plotly\n",
        "import plotly.graph_objects as go\n",
        "import plotly.express as px\n",
        "\n",
        "%matplotlib inline\n"
      ],
      "execution_count": 0,
      "outputs": []
    },
    {
      "cell_type": "markdown",
      "metadata": {
        "colab_type": "text",
        "id": "GxcAOcDytlzS"
      },
      "source": [
        "# Read Data from [Covid19India API](https://api.covid19india.org/raw_data.json)"
      ]
    },
    {
      "cell_type": "code",
      "metadata": {
        "colab_type": "code",
        "id": "Q65WoUDPtlzT",
        "colab": {}
      },
      "source": [
        "response=request(url='https://api.covid19india.org/raw_data.json', method='get')\n",
        "elevations = response.json()\n",
        "rec = elevations['raw_data']"
      ],
      "execution_count": 0,
      "outputs": []
    },
    {
      "cell_type": "code",
      "metadata": {
        "colab_type": "code",
        "id": "5pucpA-xtlzW",
        "outputId": "a448f717-ada9-4cfd-972a-742a05f63235",
        "colab": {
          "base_uri": "https://localhost:8080/",
          "height": 85
        }
      },
      "source": [
        "df = json_normalize(rec)"
      ],
      "execution_count": 0,
      "outputs": [
        {
          "output_type": "stream",
          "text": [
            "/usr/local/lib/python3.6/dist-packages/ipykernel_launcher.py:1: FutureWarning:\n",
            "\n",
            "pandas.io.json.json_normalize is deprecated, use pandas.json_normalize instead\n",
            "\n"
          ],
          "name": "stderr"
        }
      ]
    },
    {
      "cell_type": "code",
      "metadata": {
        "colab_type": "code",
        "id": "fpp4Ar8TtlzY",
        "outputId": "89750cbf-4709-4094-edf6-8c360b7fb4e8",
        "colab": {
          "base_uri": "https://localhost:8080/",
          "height": 462
        }
      },
      "source": [
        "df.head()"
      ],
      "execution_count": 0,
      "outputs": [
        {
          "output_type": "execute_result",
          "data": {
            "text/html": [
              "<div>\n",
              "<style scoped>\n",
              "    .dataframe tbody tr th:only-of-type {\n",
              "        vertical-align: middle;\n",
              "    }\n",
              "\n",
              "    .dataframe tbody tr th {\n",
              "        vertical-align: top;\n",
              "    }\n",
              "\n",
              "    .dataframe thead th {\n",
              "        text-align: right;\n",
              "    }\n",
              "</style>\n",
              "<table border=\"1\" class=\"dataframe\">\n",
              "  <thead>\n",
              "    <tr style=\"text-align: right;\">\n",
              "      <th></th>\n",
              "      <th>agebracket</th>\n",
              "      <th>backupnotes</th>\n",
              "      <th>contractedfromwhichpatientsuspected</th>\n",
              "      <th>currentstatus</th>\n",
              "      <th>dateannounced</th>\n",
              "      <th>detectedcity</th>\n",
              "      <th>detecteddistrict</th>\n",
              "      <th>detectedstate</th>\n",
              "      <th>estimatedonsetdate</th>\n",
              "      <th>gender</th>\n",
              "      <th>nationality</th>\n",
              "      <th>notes</th>\n",
              "      <th>patientnumber</th>\n",
              "      <th>source1</th>\n",
              "      <th>source2</th>\n",
              "      <th>source3</th>\n",
              "      <th>statecode</th>\n",
              "      <th>statepatientnumber</th>\n",
              "      <th>statuschangedate</th>\n",
              "      <th>typeoftransmission</th>\n",
              "    </tr>\n",
              "  </thead>\n",
              "  <tbody>\n",
              "    <tr>\n",
              "      <th>0</th>\n",
              "      <td>20</td>\n",
              "      <td>Student from Wuhan</td>\n",
              "      <td></td>\n",
              "      <td>Recovered</td>\n",
              "      <td>30/01/2020</td>\n",
              "      <td>Thrissur</td>\n",
              "      <td>Thrissur</td>\n",
              "      <td>Kerala</td>\n",
              "      <td></td>\n",
              "      <td>F</td>\n",
              "      <td>India</td>\n",
              "      <td>Travelled from Wuhan</td>\n",
              "      <td>1</td>\n",
              "      <td>https://twitter.com/vijayanpinarayi/status/122...</td>\n",
              "      <td>https://weather.com/en-IN/india/news/news/2020...</td>\n",
              "      <td></td>\n",
              "      <td>KL</td>\n",
              "      <td>KL-TS-P1</td>\n",
              "      <td>14/02/2020</td>\n",
              "      <td>Imported</td>\n",
              "    </tr>\n",
              "    <tr>\n",
              "      <th>1</th>\n",
              "      <td></td>\n",
              "      <td>Student from Wuhan</td>\n",
              "      <td></td>\n",
              "      <td>Recovered</td>\n",
              "      <td>02/02/2020</td>\n",
              "      <td>Alappuzha</td>\n",
              "      <td>Alappuzha</td>\n",
              "      <td>Kerala</td>\n",
              "      <td></td>\n",
              "      <td></td>\n",
              "      <td>India</td>\n",
              "      <td>Travelled from Wuhan</td>\n",
              "      <td>2</td>\n",
              "      <td>https://www.indiatoday.in/india/story/kerala-r...</td>\n",
              "      <td>https://weather.com/en-IN/india/news/news/2020...</td>\n",
              "      <td></td>\n",
              "      <td>KL</td>\n",
              "      <td>KL-AL-P1</td>\n",
              "      <td>14/02/2020</td>\n",
              "      <td>Imported</td>\n",
              "    </tr>\n",
              "    <tr>\n",
              "      <th>2</th>\n",
              "      <td></td>\n",
              "      <td>Student from Wuhan</td>\n",
              "      <td></td>\n",
              "      <td>Recovered</td>\n",
              "      <td>03/02/2020</td>\n",
              "      <td>Kasaragod</td>\n",
              "      <td>Kasaragod</td>\n",
              "      <td>Kerala</td>\n",
              "      <td></td>\n",
              "      <td></td>\n",
              "      <td>India</td>\n",
              "      <td>Travelled from Wuhan</td>\n",
              "      <td>3</td>\n",
              "      <td>https://www.indiatoday.in/india/story/kerala-n...</td>\n",
              "      <td>https://twitter.com/ANI/status/122422148580539...</td>\n",
              "      <td>https://weather.com/en-IN/india/news/news/2020...</td>\n",
              "      <td>KL</td>\n",
              "      <td>KL-KS-P1</td>\n",
              "      <td>14/02/2020</td>\n",
              "      <td>Imported</td>\n",
              "    </tr>\n",
              "    <tr>\n",
              "      <th>3</th>\n",
              "      <td>45</td>\n",
              "      <td>Travel history to Italy and Austria</td>\n",
              "      <td></td>\n",
              "      <td>Recovered</td>\n",
              "      <td>02/03/2020</td>\n",
              "      <td>East Delhi (Mayur Vihar)</td>\n",
              "      <td>East Delhi</td>\n",
              "      <td>Delhi</td>\n",
              "      <td></td>\n",
              "      <td>M</td>\n",
              "      <td>India</td>\n",
              "      <td>Travelled from Austria, Italy</td>\n",
              "      <td>4</td>\n",
              "      <td>https://www.indiatoday.in/india/story/not-a-ja...</td>\n",
              "      <td>https://economictimes.indiatimes.com/news/poli...</td>\n",
              "      <td></td>\n",
              "      <td>DL</td>\n",
              "      <td>DL-P1</td>\n",
              "      <td>15/03/2020</td>\n",
              "      <td>Imported</td>\n",
              "    </tr>\n",
              "    <tr>\n",
              "      <th>4</th>\n",
              "      <td>24</td>\n",
              "      <td>Travel history to Dubai, Singapore contact</td>\n",
              "      <td></td>\n",
              "      <td>Recovered</td>\n",
              "      <td>02/03/2020</td>\n",
              "      <td>Hyderabad</td>\n",
              "      <td>Hyderabad</td>\n",
              "      <td>Telangana</td>\n",
              "      <td></td>\n",
              "      <td>M</td>\n",
              "      <td>India</td>\n",
              "      <td>Travelled from Dubai to Bangalore on 20th Feb,...</td>\n",
              "      <td>5</td>\n",
              "      <td>https://www.deccanherald.com/national/south/qu...</td>\n",
              "      <td>https://www.indiatoday.in/india/story/coronavi...</td>\n",
              "      <td>https://www.thehindu.com/news/national/coronav...</td>\n",
              "      <td>TG</td>\n",
              "      <td>TS-P1</td>\n",
              "      <td>02/03/2020</td>\n",
              "      <td>Imported</td>\n",
              "    </tr>\n",
              "  </tbody>\n",
              "</table>\n",
              "</div>"
            ],
            "text/plain": [
              "  agebracket  ... typeoftransmission\n",
              "0         20  ...           Imported\n",
              "1             ...           Imported\n",
              "2             ...           Imported\n",
              "3         45  ...           Imported\n",
              "4         24  ...           Imported\n",
              "\n",
              "[5 rows x 20 columns]"
            ]
          },
          "metadata": {
            "tags": []
          },
          "execution_count": 28
        }
      ]
    },
    {
      "cell_type": "code",
      "metadata": {
        "colab_type": "code",
        "id": "6cN5TCxitlzb",
        "outputId": "5ed55c1d-9cd5-4271-af0d-0c4c1337519a",
        "colab": {
          "base_uri": "https://localhost:8080/",
          "height": 119
        }
      },
      "source": [
        "df.columns"
      ],
      "execution_count": 0,
      "outputs": [
        {
          "output_type": "execute_result",
          "data": {
            "text/plain": [
              "Index(['agebracket', 'backupnotes', 'contractedfromwhichpatientsuspected',\n",
              "       'currentstatus', 'dateannounced', 'detectedcity', 'detecteddistrict',\n",
              "       'detectedstate', 'estimatedonsetdate', 'gender', 'nationality', 'notes',\n",
              "       'patientnumber', 'source1', 'source2', 'source3', 'statecode',\n",
              "       'statepatientnumber', 'statuschangedate', 'typeoftransmission'],\n",
              "      dtype='object')"
            ]
          },
          "metadata": {
            "tags": []
          },
          "execution_count": 29
        }
      ]
    },
    {
      "cell_type": "code",
      "metadata": {
        "colab_type": "code",
        "id": "fijftD5Ctlze",
        "outputId": "b0f7118a-044b-4a9d-b4c2-044690a1d49b",
        "colab": {
          "base_uri": "https://localhost:8080/",
          "height": 34
        }
      },
      "source": [
        "df.shape"
      ],
      "execution_count": 0,
      "outputs": [
        {
          "output_type": "execute_result",
          "data": {
            "text/plain": [
              "(13060, 20)"
            ]
          },
          "metadata": {
            "tags": []
          },
          "execution_count": 30
        }
      ]
    },
    {
      "cell_type": "code",
      "metadata": {
        "colab_type": "code",
        "id": "mOewkOWptlzg",
        "outputId": "73528ec2-fade-4389-9778-51f523234fe8",
        "colab": {
          "base_uri": "https://localhost:8080/",
          "height": 462
        }
      },
      "source": [
        "data=df.copy()\n",
        "data.head()"
      ],
      "execution_count": 0,
      "outputs": [
        {
          "output_type": "execute_result",
          "data": {
            "text/html": [
              "<div>\n",
              "<style scoped>\n",
              "    .dataframe tbody tr th:only-of-type {\n",
              "        vertical-align: middle;\n",
              "    }\n",
              "\n",
              "    .dataframe tbody tr th {\n",
              "        vertical-align: top;\n",
              "    }\n",
              "\n",
              "    .dataframe thead th {\n",
              "        text-align: right;\n",
              "    }\n",
              "</style>\n",
              "<table border=\"1\" class=\"dataframe\">\n",
              "  <thead>\n",
              "    <tr style=\"text-align: right;\">\n",
              "      <th></th>\n",
              "      <th>agebracket</th>\n",
              "      <th>backupnotes</th>\n",
              "      <th>contractedfromwhichpatientsuspected</th>\n",
              "      <th>currentstatus</th>\n",
              "      <th>dateannounced</th>\n",
              "      <th>detectedcity</th>\n",
              "      <th>detecteddistrict</th>\n",
              "      <th>detectedstate</th>\n",
              "      <th>estimatedonsetdate</th>\n",
              "      <th>gender</th>\n",
              "      <th>nationality</th>\n",
              "      <th>notes</th>\n",
              "      <th>patientnumber</th>\n",
              "      <th>source1</th>\n",
              "      <th>source2</th>\n",
              "      <th>source3</th>\n",
              "      <th>statecode</th>\n",
              "      <th>statepatientnumber</th>\n",
              "      <th>statuschangedate</th>\n",
              "      <th>typeoftransmission</th>\n",
              "    </tr>\n",
              "  </thead>\n",
              "  <tbody>\n",
              "    <tr>\n",
              "      <th>0</th>\n",
              "      <td>20</td>\n",
              "      <td>Student from Wuhan</td>\n",
              "      <td></td>\n",
              "      <td>Recovered</td>\n",
              "      <td>30/01/2020</td>\n",
              "      <td>Thrissur</td>\n",
              "      <td>Thrissur</td>\n",
              "      <td>Kerala</td>\n",
              "      <td></td>\n",
              "      <td>F</td>\n",
              "      <td>India</td>\n",
              "      <td>Travelled from Wuhan</td>\n",
              "      <td>1</td>\n",
              "      <td>https://twitter.com/vijayanpinarayi/status/122...</td>\n",
              "      <td>https://weather.com/en-IN/india/news/news/2020...</td>\n",
              "      <td></td>\n",
              "      <td>KL</td>\n",
              "      <td>KL-TS-P1</td>\n",
              "      <td>14/02/2020</td>\n",
              "      <td>Imported</td>\n",
              "    </tr>\n",
              "    <tr>\n",
              "      <th>1</th>\n",
              "      <td></td>\n",
              "      <td>Student from Wuhan</td>\n",
              "      <td></td>\n",
              "      <td>Recovered</td>\n",
              "      <td>02/02/2020</td>\n",
              "      <td>Alappuzha</td>\n",
              "      <td>Alappuzha</td>\n",
              "      <td>Kerala</td>\n",
              "      <td></td>\n",
              "      <td></td>\n",
              "      <td>India</td>\n",
              "      <td>Travelled from Wuhan</td>\n",
              "      <td>2</td>\n",
              "      <td>https://www.indiatoday.in/india/story/kerala-r...</td>\n",
              "      <td>https://weather.com/en-IN/india/news/news/2020...</td>\n",
              "      <td></td>\n",
              "      <td>KL</td>\n",
              "      <td>KL-AL-P1</td>\n",
              "      <td>14/02/2020</td>\n",
              "      <td>Imported</td>\n",
              "    </tr>\n",
              "    <tr>\n",
              "      <th>2</th>\n",
              "      <td></td>\n",
              "      <td>Student from Wuhan</td>\n",
              "      <td></td>\n",
              "      <td>Recovered</td>\n",
              "      <td>03/02/2020</td>\n",
              "      <td>Kasaragod</td>\n",
              "      <td>Kasaragod</td>\n",
              "      <td>Kerala</td>\n",
              "      <td></td>\n",
              "      <td></td>\n",
              "      <td>India</td>\n",
              "      <td>Travelled from Wuhan</td>\n",
              "      <td>3</td>\n",
              "      <td>https://www.indiatoday.in/india/story/kerala-n...</td>\n",
              "      <td>https://twitter.com/ANI/status/122422148580539...</td>\n",
              "      <td>https://weather.com/en-IN/india/news/news/2020...</td>\n",
              "      <td>KL</td>\n",
              "      <td>KL-KS-P1</td>\n",
              "      <td>14/02/2020</td>\n",
              "      <td>Imported</td>\n",
              "    </tr>\n",
              "    <tr>\n",
              "      <th>3</th>\n",
              "      <td>45</td>\n",
              "      <td>Travel history to Italy and Austria</td>\n",
              "      <td></td>\n",
              "      <td>Recovered</td>\n",
              "      <td>02/03/2020</td>\n",
              "      <td>East Delhi (Mayur Vihar)</td>\n",
              "      <td>East Delhi</td>\n",
              "      <td>Delhi</td>\n",
              "      <td></td>\n",
              "      <td>M</td>\n",
              "      <td>India</td>\n",
              "      <td>Travelled from Austria, Italy</td>\n",
              "      <td>4</td>\n",
              "      <td>https://www.indiatoday.in/india/story/not-a-ja...</td>\n",
              "      <td>https://economictimes.indiatimes.com/news/poli...</td>\n",
              "      <td></td>\n",
              "      <td>DL</td>\n",
              "      <td>DL-P1</td>\n",
              "      <td>15/03/2020</td>\n",
              "      <td>Imported</td>\n",
              "    </tr>\n",
              "    <tr>\n",
              "      <th>4</th>\n",
              "      <td>24</td>\n",
              "      <td>Travel history to Dubai, Singapore contact</td>\n",
              "      <td></td>\n",
              "      <td>Recovered</td>\n",
              "      <td>02/03/2020</td>\n",
              "      <td>Hyderabad</td>\n",
              "      <td>Hyderabad</td>\n",
              "      <td>Telangana</td>\n",
              "      <td></td>\n",
              "      <td>M</td>\n",
              "      <td>India</td>\n",
              "      <td>Travelled from Dubai to Bangalore on 20th Feb,...</td>\n",
              "      <td>5</td>\n",
              "      <td>https://www.deccanherald.com/national/south/qu...</td>\n",
              "      <td>https://www.indiatoday.in/india/story/coronavi...</td>\n",
              "      <td>https://www.thehindu.com/news/national/coronav...</td>\n",
              "      <td>TG</td>\n",
              "      <td>TS-P1</td>\n",
              "      <td>02/03/2020</td>\n",
              "      <td>Imported</td>\n",
              "    </tr>\n",
              "  </tbody>\n",
              "</table>\n",
              "</div>"
            ],
            "text/plain": [
              "  agebracket  ... typeoftransmission\n",
              "0         20  ...           Imported\n",
              "1             ...           Imported\n",
              "2             ...           Imported\n",
              "3         45  ...           Imported\n",
              "4         24  ...           Imported\n",
              "\n",
              "[5 rows x 20 columns]"
            ]
          },
          "metadata": {
            "tags": []
          },
          "execution_count": 31
        }
      ]
    },
    {
      "cell_type": "code",
      "metadata": {
        "colab_type": "code",
        "id": "OV2mw0bttlzj",
        "outputId": "45f45bb2-5646-42e4-9aa5-cf19c7638796",
        "colab": {
          "base_uri": "https://localhost:8080/",
          "height": 323
        }
      },
      "source": [
        "profile = pandas_profiling.ProfileReport(df)\n",
        "profile.to_file(output_file=\"covid19_data_before_preprocessing.html\")"
      ],
      "execution_count": 0,
      "outputs": [
        {
          "output_type": "error",
          "ename": "TypeError",
          "evalue": "ignored",
          "traceback": [
            "\u001b[0;31m---------------------------------------------------------------------------\u001b[0m",
            "\u001b[0;31mTypeError\u001b[0m                                 Traceback (most recent call last)",
            "\u001b[0;32m<ipython-input-9-ffab589baca8>\u001b[0m in \u001b[0;36m<module>\u001b[0;34m()\u001b[0m\n\u001b[0;32m----> 1\u001b[0;31m \u001b[0mprofile\u001b[0m \u001b[0;34m=\u001b[0m \u001b[0mpandas_profiling\u001b[0m\u001b[0;34m.\u001b[0m\u001b[0mProfileReport\u001b[0m\u001b[0;34m(\u001b[0m\u001b[0mdf\u001b[0m\u001b[0;34m)\u001b[0m\u001b[0;34m\u001b[0m\u001b[0;34m\u001b[0m\u001b[0m\n\u001b[0m\u001b[1;32m      2\u001b[0m \u001b[0mprofile\u001b[0m\u001b[0;34m.\u001b[0m\u001b[0mto_file\u001b[0m\u001b[0;34m(\u001b[0m\u001b[0moutput_file\u001b[0m\u001b[0;34m=\u001b[0m\u001b[0;34m\"covid19_data_before_preprocessing.html\"\u001b[0m\u001b[0;34m)\u001b[0m\u001b[0;34m\u001b[0m\u001b[0;34m\u001b[0m\u001b[0m\n",
            "\u001b[0;32m/usr/local/lib/python3.6/dist-packages/pandas_profiling/__init__.py\u001b[0m in \u001b[0;36m__init__\u001b[0;34m(self, df, **kwargs)\u001b[0m\n\u001b[1;32m     64\u001b[0m         \u001b[0msample\u001b[0m \u001b[0;34m=\u001b[0m \u001b[0mkwargs\u001b[0m\u001b[0;34m.\u001b[0m\u001b[0mget\u001b[0m\u001b[0;34m(\u001b[0m\u001b[0;34m'sample'\u001b[0m\u001b[0;34m,\u001b[0m \u001b[0mdf\u001b[0m\u001b[0;34m.\u001b[0m\u001b[0mhead\u001b[0m\u001b[0;34m(\u001b[0m\u001b[0;34m)\u001b[0m\u001b[0;34m)\u001b[0m\u001b[0;34m\u001b[0m\u001b[0;34m\u001b[0m\u001b[0m\n\u001b[1;32m     65\u001b[0m \u001b[0;34m\u001b[0m\u001b[0m\n\u001b[0;32m---> 66\u001b[0;31m         \u001b[0mdescription_set\u001b[0m \u001b[0;34m=\u001b[0m \u001b[0mdescribe\u001b[0m\u001b[0;34m(\u001b[0m\u001b[0mdf\u001b[0m\u001b[0;34m,\u001b[0m \u001b[0;34m**\u001b[0m\u001b[0mkwargs\u001b[0m\u001b[0;34m)\u001b[0m\u001b[0;34m\u001b[0m\u001b[0;34m\u001b[0m\u001b[0m\n\u001b[0m\u001b[1;32m     67\u001b[0m \u001b[0;34m\u001b[0m\u001b[0m\n\u001b[1;32m     68\u001b[0m         self.html = to_html(sample,\n",
            "\u001b[0;32m/usr/local/lib/python3.6/dist-packages/pandas_profiling/describe.py\u001b[0m in \u001b[0;36mdescribe\u001b[0;34m(df, bins, check_correlation, correlation_threshold, correlation_overrides, check_recoded, pool_size, **kwargs)\u001b[0m\n\u001b[1;32m    390\u001b[0m             \u001b[0;32mif\u001b[0m \u001b[0mname\u001b[0m \u001b[0;32mnot\u001b[0m \u001b[0;32min\u001b[0m \u001b[0mnames\u001b[0m\u001b[0;34m:\u001b[0m\u001b[0;34m\u001b[0m\u001b[0;34m\u001b[0m\u001b[0m\n\u001b[1;32m    391\u001b[0m                 \u001b[0mnames\u001b[0m\u001b[0;34m.\u001b[0m\u001b[0mappend\u001b[0m\u001b[0;34m(\u001b[0m\u001b[0mname\u001b[0m\u001b[0;34m)\u001b[0m\u001b[0;34m\u001b[0m\u001b[0;34m\u001b[0m\u001b[0m\n\u001b[0;32m--> 392\u001b[0;31m     \u001b[0mvariable_stats\u001b[0m \u001b[0;34m=\u001b[0m \u001b[0mpd\u001b[0m\u001b[0;34m.\u001b[0m\u001b[0mconcat\u001b[0m\u001b[0;34m(\u001b[0m\u001b[0mldesc\u001b[0m\u001b[0;34m,\u001b[0m \u001b[0mjoin_axes\u001b[0m\u001b[0;34m=\u001b[0m\u001b[0mpd\u001b[0m\u001b[0;34m.\u001b[0m\u001b[0mIndex\u001b[0m\u001b[0;34m(\u001b[0m\u001b[0;34m[\u001b[0m\u001b[0mnames\u001b[0m\u001b[0;34m]\u001b[0m\u001b[0;34m)\u001b[0m\u001b[0;34m,\u001b[0m \u001b[0maxis\u001b[0m\u001b[0;34m=\u001b[0m\u001b[0;36m1\u001b[0m\u001b[0;34m)\u001b[0m\u001b[0;34m\u001b[0m\u001b[0;34m\u001b[0m\u001b[0m\n\u001b[0m\u001b[1;32m    393\u001b[0m     \u001b[0mvariable_stats\u001b[0m\u001b[0;34m.\u001b[0m\u001b[0mcolumns\u001b[0m\u001b[0;34m.\u001b[0m\u001b[0mnames\u001b[0m \u001b[0;34m=\u001b[0m \u001b[0mdf\u001b[0m\u001b[0;34m.\u001b[0m\u001b[0mcolumns\u001b[0m\u001b[0;34m.\u001b[0m\u001b[0mnames\u001b[0m\u001b[0;34m\u001b[0m\u001b[0;34m\u001b[0m\u001b[0m\n\u001b[1;32m    394\u001b[0m \u001b[0;34m\u001b[0m\u001b[0m\n",
            "\u001b[0;31mTypeError\u001b[0m: concat() got an unexpected keyword argument 'join_axes'"
          ]
        }
      ]
    },
    {
      "cell_type": "code",
      "metadata": {
        "id": "WhgpPkd9A1dM",
        "colab_type": "code",
        "colab": {}
      },
      "source": [
        "#pandas_profiling.ProfileReport(df)"
      ],
      "execution_count": 0,
      "outputs": []
    },
    {
      "cell_type": "markdown",
      "metadata": {
        "colab_type": "text",
        "id": "4s3TVSm8tlzm"
      },
      "source": [
        "**Observations**\n",
        "- `agebracket` has a high cardinality: 86 distinct values\n",
        "- `backupnotes` has a high cardinality: 223 distinct values\t\n",
        "- `contractedfromwhichpatientsuspected` has a high cardinality: 144 distinct values\t\n",
        "- `detectedcity` has a high cardinality: 313 distinct values\t\n",
        "- `detecteddistrict` has a high cardinality: 349 distinct values\t\n",
        "- `estimatedonsetdate` has constant value as NULL NEEDS TO BE Rejected\n",
        "- `notes` has a high cardinality: 709 distinct values\t\n",
        "- `source1` has a high cardinality: 785 distinct values\t\n",
        "- `source2` has a high cardinality: 338 distinct values\t\n",
        "- `source3` has a high cardinality: 102 distinct values\t\n",
        "- `statepatientnumber` has a high cardinality: 1463 distinct values"
      ]
    },
    {
      "cell_type": "code",
      "metadata": {
        "colab_type": "code",
        "id": "Y_MzJAg3tlzm",
        "outputId": "b931e51e-281c-42fc-b5a8-6f614009d363",
        "colab": {
          "base_uri": "https://localhost:8080/",
          "height": 34
        }
      },
      "source": [
        "print(\"Data Shape : Rows = {} , Columns = {}\".format(df.shape[0],df.shape[1]))"
      ],
      "execution_count": 0,
      "outputs": [
        {
          "output_type": "stream",
          "text": [
            "Data Shape : Rows = 13060 , Columns = 20\n"
          ],
          "name": "stdout"
        }
      ]
    },
    {
      "cell_type": "code",
      "metadata": {
        "colab_type": "code",
        "id": "53FFVaTxtlzo",
        "outputId": "211a6c9e-6ce2-4d1d-8a6a-c8bede07b1de",
        "colab": {
          "base_uri": "https://localhost:8080/",
          "height": 136
        }
      },
      "source": [
        "print(\"Column Names are : \\n\", df.columns)"
      ],
      "execution_count": 0,
      "outputs": [
        {
          "output_type": "stream",
          "text": [
            "Column Names are : \n",
            " Index(['agebracket', 'backupnotes', 'contractedfromwhichpatientsuspected',\n",
            "       'currentstatus', 'dateannounced', 'detectedcity', 'detecteddistrict',\n",
            "       'detectedstate', 'estimatedonsetdate', 'gender', 'nationality', 'notes',\n",
            "       'patientnumber', 'source1', 'source2', 'source3', 'statecode',\n",
            "       'statepatientnumber', 'statuschangedate', 'typeoftransmission'],\n",
            "      dtype='object')\n"
          ],
          "name": "stdout"
        }
      ]
    },
    {
      "cell_type": "code",
      "metadata": {
        "colab_type": "code",
        "id": "_i_9q9VYtlzr",
        "outputId": "5103d667-de43-488f-8551-4ec29389c0d5",
        "colab": {
          "base_uri": "https://localhost:8080/",
          "height": 359
        }
      },
      "source": [
        "df.drop(['estimatedonsetdate', 'notes', 'contractedfromwhichpatientsuspected', 'source1', 'source2', 'source3', 'backupnotes' ], axis = 1, inplace = True)\n",
        "df.sample(10)"
      ],
      "execution_count": 0,
      "outputs": [
        {
          "output_type": "execute_result",
          "data": {
            "text/html": [
              "<div>\n",
              "<style scoped>\n",
              "    .dataframe tbody tr th:only-of-type {\n",
              "        vertical-align: middle;\n",
              "    }\n",
              "\n",
              "    .dataframe tbody tr th {\n",
              "        vertical-align: top;\n",
              "    }\n",
              "\n",
              "    .dataframe thead th {\n",
              "        text-align: right;\n",
              "    }\n",
              "</style>\n",
              "<table border=\"1\" class=\"dataframe\">\n",
              "  <thead>\n",
              "    <tr style=\"text-align: right;\">\n",
              "      <th></th>\n",
              "      <th>agebracket</th>\n",
              "      <th>currentstatus</th>\n",
              "      <th>dateannounced</th>\n",
              "      <th>detectedcity</th>\n",
              "      <th>detecteddistrict</th>\n",
              "      <th>detectedstate</th>\n",
              "      <th>gender</th>\n",
              "      <th>nationality</th>\n",
              "      <th>patientnumber</th>\n",
              "      <th>statecode</th>\n",
              "      <th>statepatientnumber</th>\n",
              "      <th>statuschangedate</th>\n",
              "      <th>typeoftransmission</th>\n",
              "    </tr>\n",
              "  </thead>\n",
              "  <tbody>\n",
              "    <tr>\n",
              "      <th>8063</th>\n",
              "      <td></td>\n",
              "      <td>Hospitalized</td>\n",
              "      <td>11/04/2020</td>\n",
              "      <td></td>\n",
              "      <td></td>\n",
              "      <td>Delhi</td>\n",
              "      <td></td>\n",
              "      <td></td>\n",
              "      <td>8064</td>\n",
              "      <td>DL</td>\n",
              "      <td></td>\n",
              "      <td>11/04/2020</td>\n",
              "      <td></td>\n",
              "    </tr>\n",
              "    <tr>\n",
              "      <th>9173</th>\n",
              "      <td></td>\n",
              "      <td>Hospitalized</td>\n",
              "      <td>12/04/2020</td>\n",
              "      <td></td>\n",
              "      <td>Jaipur</td>\n",
              "      <td>Rajasthan</td>\n",
              "      <td></td>\n",
              "      <td></td>\n",
              "      <td>9174</td>\n",
              "      <td>RJ</td>\n",
              "      <td></td>\n",
              "      <td>12/04/2020</td>\n",
              "      <td></td>\n",
              "    </tr>\n",
              "    <tr>\n",
              "      <th>5986</th>\n",
              "      <td></td>\n",
              "      <td>Hospitalized</td>\n",
              "      <td>09/04/2020</td>\n",
              "      <td></td>\n",
              "      <td>Ahmadabad</td>\n",
              "      <td>Gujarat</td>\n",
              "      <td></td>\n",
              "      <td></td>\n",
              "      <td>5987</td>\n",
              "      <td>GJ</td>\n",
              "      <td></td>\n",
              "      <td>09/04/2020</td>\n",
              "      <td></td>\n",
              "    </tr>\n",
              "    <tr>\n",
              "      <th>3121</th>\n",
              "      <td></td>\n",
              "      <td>Hospitalized</td>\n",
              "      <td>04/04/2020</td>\n",
              "      <td></td>\n",
              "      <td>Banswara</td>\n",
              "      <td>Rajasthan</td>\n",
              "      <td></td>\n",
              "      <td></td>\n",
              "      <td>3122</td>\n",
              "      <td>RJ</td>\n",
              "      <td></td>\n",
              "      <td>04/04/2020</td>\n",
              "      <td></td>\n",
              "    </tr>\n",
              "    <tr>\n",
              "      <th>9795</th>\n",
              "      <td></td>\n",
              "      <td>Hospitalized</td>\n",
              "      <td>13/04/2020</td>\n",
              "      <td></td>\n",
              "      <td>Hyderabad</td>\n",
              "      <td>Telangana</td>\n",
              "      <td></td>\n",
              "      <td></td>\n",
              "      <td>9796</td>\n",
              "      <td>TG</td>\n",
              "      <td></td>\n",
              "      <td>13/04/2020</td>\n",
              "      <td></td>\n",
              "    </tr>\n",
              "    <tr>\n",
              "      <th>9351</th>\n",
              "      <td></td>\n",
              "      <td>Hospitalized</td>\n",
              "      <td>13/04/2020</td>\n",
              "      <td></td>\n",
              "      <td>Thane</td>\n",
              "      <td>Maharashtra</td>\n",
              "      <td></td>\n",
              "      <td></td>\n",
              "      <td>9352</td>\n",
              "      <td>MH</td>\n",
              "      <td></td>\n",
              "      <td>13/04/2020</td>\n",
              "      <td></td>\n",
              "    </tr>\n",
              "    <tr>\n",
              "      <th>4400</th>\n",
              "      <td></td>\n",
              "      <td>Hospitalized</td>\n",
              "      <td>06/04/2020</td>\n",
              "      <td></td>\n",
              "      <td>Mathura</td>\n",
              "      <td>Uttar Pradesh</td>\n",
              "      <td></td>\n",
              "      <td></td>\n",
              "      <td>4401</td>\n",
              "      <td>UP</td>\n",
              "      <td></td>\n",
              "      <td>06/04/2020</td>\n",
              "      <td></td>\n",
              "    </tr>\n",
              "    <tr>\n",
              "      <th>5483</th>\n",
              "      <td></td>\n",
              "      <td>Hospitalized</td>\n",
              "      <td>08/04/2020</td>\n",
              "      <td></td>\n",
              "      <td>Srinagar</td>\n",
              "      <td>Jammu and Kashmir</td>\n",
              "      <td></td>\n",
              "      <td></td>\n",
              "      <td>5484</td>\n",
              "      <td>JK</td>\n",
              "      <td></td>\n",
              "      <td>08/04/2020</td>\n",
              "      <td></td>\n",
              "    </tr>\n",
              "    <tr>\n",
              "      <th>6789</th>\n",
              "      <td></td>\n",
              "      <td>Hospitalized</td>\n",
              "      <td>10/04/2020</td>\n",
              "      <td></td>\n",
              "      <td>Bhavnagar</td>\n",
              "      <td>Gujarat</td>\n",
              "      <td></td>\n",
              "      <td></td>\n",
              "      <td>6790</td>\n",
              "      <td>GJ</td>\n",
              "      <td></td>\n",
              "      <td>10/04/2020</td>\n",
              "      <td></td>\n",
              "    </tr>\n",
              "    <tr>\n",
              "      <th>12524</th>\n",
              "      <td></td>\n",
              "      <td>Hospitalized</td>\n",
              "      <td>16/04/2020</td>\n",
              "      <td></td>\n",
              "      <td>Surat</td>\n",
              "      <td>Gujarat</td>\n",
              "      <td>F</td>\n",
              "      <td></td>\n",
              "      <td>12525</td>\n",
              "      <td>GJ</td>\n",
              "      <td></td>\n",
              "      <td>16/04/2020</td>\n",
              "      <td></td>\n",
              "    </tr>\n",
              "  </tbody>\n",
              "</table>\n",
              "</div>"
            ],
            "text/plain": [
              "      agebracket currentstatus  ... statuschangedate typeoftransmission\n",
              "8063              Hospitalized  ...       11/04/2020                   \n",
              "9173              Hospitalized  ...       12/04/2020                   \n",
              "5986              Hospitalized  ...       09/04/2020                   \n",
              "3121              Hospitalized  ...       04/04/2020                   \n",
              "9795              Hospitalized  ...       13/04/2020                   \n",
              "9351              Hospitalized  ...       13/04/2020                   \n",
              "4400              Hospitalized  ...       06/04/2020                   \n",
              "5483              Hospitalized  ...       08/04/2020                   \n",
              "6789              Hospitalized  ...       10/04/2020                   \n",
              "12524             Hospitalized  ...       16/04/2020                   \n",
              "\n",
              "[10 rows x 13 columns]"
            ]
          },
          "metadata": {
            "tags": []
          },
          "execution_count": 34
        }
      ]
    },
    {
      "cell_type": "code",
      "metadata": {
        "colab_type": "code",
        "id": "VEWRyPzktlzu",
        "colab": {}
      },
      "source": [
        "df['agebracket'] = pd.to_numeric(df['agebracket'], errors='coerce')\n",
        "df['agebracket'] = df['agebracket'].astype('float')\n"
      ],
      "execution_count": 0,
      "outputs": []
    },
    {
      "cell_type": "code",
      "metadata": {
        "colab_type": "code",
        "id": "zFhAa7-5tlzw",
        "colab": {}
      },
      "source": [
        "df['statuschangedate'] = pd.to_datetime(df['statuschangedate'])\n",
        "df['dateannounced'] = pd.to_datetime(df['dateannounced'])\n",
        "\n",
        "df['durationOfAnyStatus'] = df['statuschangedate'] - df['dateannounced']\n",
        "df['durationOfAnyStatus'] = df['durationOfAnyStatus'].dt.days\n",
        "\n",
        "df['statuschangedate'] = df['statuschangedate'].dt.strftime('%Y-%m-%d')\n",
        "df['dateannounced'] = df['dateannounced'].dt.strftime('%Y-%m-%d')"
      ],
      "execution_count": 0,
      "outputs": []
    },
    {
      "cell_type": "code",
      "metadata": {
        "colab_type": "code",
        "id": "l3yqd0litlzz",
        "outputId": "8bafa473-a89b-4759-e735-88a93b528f55",
        "colab": {
          "base_uri": "https://localhost:8080/",
          "height": 374
        }
      },
      "source": [
        "df.info()"
      ],
      "execution_count": 0,
      "outputs": [
        {
          "output_type": "stream",
          "text": [
            "<class 'pandas.core.frame.DataFrame'>\n",
            "RangeIndex: 13060 entries, 0 to 13059\n",
            "Data columns (total 14 columns):\n",
            " #   Column               Non-Null Count  Dtype  \n",
            "---  ------               --------------  -----  \n",
            " 0   agebracket           1551 non-null   float64\n",
            " 1   currentstatus        13060 non-null  object \n",
            " 2   dateannounced        12969 non-null  object \n",
            " 3   detectedcity         13060 non-null  object \n",
            " 4   detecteddistrict     13060 non-null  object \n",
            " 5   detectedstate        13060 non-null  object \n",
            " 6   gender               13060 non-null  object \n",
            " 7   nationality          13060 non-null  object \n",
            " 8   patientnumber        13060 non-null  object \n",
            " 9   statecode            13060 non-null  object \n",
            " 10  statepatientnumber   13060 non-null  object \n",
            " 11  statuschangedate     12858 non-null  object \n",
            " 12  typeoftransmission   13060 non-null  object \n",
            " 13  durationOfAnyStatus  12858 non-null  float64\n",
            "dtypes: float64(2), object(12)\n",
            "memory usage: 1.4+ MB\n"
          ],
          "name": "stdout"
        }
      ]
    },
    {
      "cell_type": "code",
      "metadata": {
        "colab_type": "code",
        "id": "qFj1gdV4tlz1",
        "outputId": "aa1cef07-78c9-43b2-d9d5-fb3c1525628f",
        "colab": {
          "base_uri": "https://localhost:8080/",
          "height": 359
        }
      },
      "source": [
        "df.sample(10)"
      ],
      "execution_count": 0,
      "outputs": [
        {
          "output_type": "execute_result",
          "data": {
            "text/html": [
              "<div>\n",
              "<style scoped>\n",
              "    .dataframe tbody tr th:only-of-type {\n",
              "        vertical-align: middle;\n",
              "    }\n",
              "\n",
              "    .dataframe tbody tr th {\n",
              "        vertical-align: top;\n",
              "    }\n",
              "\n",
              "    .dataframe thead th {\n",
              "        text-align: right;\n",
              "    }\n",
              "</style>\n",
              "<table border=\"1\" class=\"dataframe\">\n",
              "  <thead>\n",
              "    <tr style=\"text-align: right;\">\n",
              "      <th></th>\n",
              "      <th>agebracket</th>\n",
              "      <th>currentstatus</th>\n",
              "      <th>dateannounced</th>\n",
              "      <th>detectedcity</th>\n",
              "      <th>detecteddistrict</th>\n",
              "      <th>detectedstate</th>\n",
              "      <th>gender</th>\n",
              "      <th>nationality</th>\n",
              "      <th>patientnumber</th>\n",
              "      <th>statecode</th>\n",
              "      <th>statepatientnumber</th>\n",
              "      <th>statuschangedate</th>\n",
              "      <th>typeoftransmission</th>\n",
              "      <th>durationOfAnyStatus</th>\n",
              "    </tr>\n",
              "  </thead>\n",
              "  <tbody>\n",
              "    <tr>\n",
              "      <th>7959</th>\n",
              "      <td>NaN</td>\n",
              "      <td>Hospitalized</td>\n",
              "      <td>2020-11-04</td>\n",
              "      <td></td>\n",
              "      <td>Cuddalore</td>\n",
              "      <td>Tamil Nadu</td>\n",
              "      <td></td>\n",
              "      <td></td>\n",
              "      <td>7960</td>\n",
              "      <td>TN</td>\n",
              "      <td>TN-P934</td>\n",
              "      <td>2020-11-04</td>\n",
              "      <td></td>\n",
              "      <td>0.0</td>\n",
              "    </tr>\n",
              "    <tr>\n",
              "      <th>1669</th>\n",
              "      <td>54.0</td>\n",
              "      <td>Hospitalized</td>\n",
              "      <td>2020-01-04</td>\n",
              "      <td></td>\n",
              "      <td>Chittoor</td>\n",
              "      <td>Andhra Pradesh</td>\n",
              "      <td>M</td>\n",
              "      <td></td>\n",
              "      <td>1670</td>\n",
              "      <td>AP</td>\n",
              "      <td>AP-P60</td>\n",
              "      <td>2020-01-04</td>\n",
              "      <td>Local</td>\n",
              "      <td>0.0</td>\n",
              "    </tr>\n",
              "    <tr>\n",
              "      <th>4703</th>\n",
              "      <td>NaN</td>\n",
              "      <td>Hospitalized</td>\n",
              "      <td>2020-06-04</td>\n",
              "      <td></td>\n",
              "      <td>Bhopal</td>\n",
              "      <td>Madhya Pradesh</td>\n",
              "      <td></td>\n",
              "      <td></td>\n",
              "      <td>4704</td>\n",
              "      <td>MP</td>\n",
              "      <td></td>\n",
              "      <td>2020-06-04</td>\n",
              "      <td></td>\n",
              "      <td>0.0</td>\n",
              "    </tr>\n",
              "    <tr>\n",
              "      <th>8223</th>\n",
              "      <td>NaN</td>\n",
              "      <td>Hospitalized</td>\n",
              "      <td>2020-11-04</td>\n",
              "      <td></td>\n",
              "      <td></td>\n",
              "      <td>Delhi</td>\n",
              "      <td></td>\n",
              "      <td></td>\n",
              "      <td>8224</td>\n",
              "      <td>DL</td>\n",
              "      <td></td>\n",
              "      <td>2020-11-04</td>\n",
              "      <td></td>\n",
              "      <td>0.0</td>\n",
              "    </tr>\n",
              "    <tr>\n",
              "      <th>1560</th>\n",
              "      <td>NaN</td>\n",
              "      <td>Hospitalized</td>\n",
              "      <td>2020-03-31</td>\n",
              "      <td></td>\n",
              "      <td>Chennai</td>\n",
              "      <td>Tamil Nadu</td>\n",
              "      <td></td>\n",
              "      <td></td>\n",
              "      <td>1561</td>\n",
              "      <td>TN</td>\n",
              "      <td>TN-P121</td>\n",
              "      <td>2020-03-31</td>\n",
              "      <td>TBD</td>\n",
              "      <td>0.0</td>\n",
              "    </tr>\n",
              "    <tr>\n",
              "      <th>3980</th>\n",
              "      <td>NaN</td>\n",
              "      <td>Hospitalized</td>\n",
              "      <td>2020-05-04</td>\n",
              "      <td></td>\n",
              "      <td>Mumbai</td>\n",
              "      <td>Maharashtra</td>\n",
              "      <td></td>\n",
              "      <td></td>\n",
              "      <td>3981</td>\n",
              "      <td>MH</td>\n",
              "      <td></td>\n",
              "      <td>2020-05-04</td>\n",
              "      <td></td>\n",
              "      <td>0.0</td>\n",
              "    </tr>\n",
              "    <tr>\n",
              "      <th>848</th>\n",
              "      <td>NaN</td>\n",
              "      <td>Hospitalized</td>\n",
              "      <td>2020-03-27</td>\n",
              "      <td>Mumbai</td>\n",
              "      <td>Other States*</td>\n",
              "      <td>Maharashtra</td>\n",
              "      <td></td>\n",
              "      <td></td>\n",
              "      <td>849</td>\n",
              "      <td>MH</td>\n",
              "      <td></td>\n",
              "      <td>2020-03-27</td>\n",
              "      <td>Imported</td>\n",
              "      <td>0.0</td>\n",
              "    </tr>\n",
              "    <tr>\n",
              "      <th>3805</th>\n",
              "      <td>NaN</td>\n",
              "      <td>Hospitalized</td>\n",
              "      <td>2020-05-04</td>\n",
              "      <td></td>\n",
              "      <td>Baramula</td>\n",
              "      <td>Jammu and Kashmir</td>\n",
              "      <td></td>\n",
              "      <td>India</td>\n",
              "      <td>3806</td>\n",
              "      <td>JK</td>\n",
              "      <td></td>\n",
              "      <td>2020-05-04</td>\n",
              "      <td></td>\n",
              "      <td>0.0</td>\n",
              "    </tr>\n",
              "    <tr>\n",
              "      <th>6957</th>\n",
              "      <td>NaN</td>\n",
              "      <td>Hospitalized</td>\n",
              "      <td>2020-10-04</td>\n",
              "      <td></td>\n",
              "      <td>Coimbatore</td>\n",
              "      <td>Tamil Nadu</td>\n",
              "      <td>M</td>\n",
              "      <td></td>\n",
              "      <td>6958</td>\n",
              "      <td>TN</td>\n",
              "      <td>TN-P878</td>\n",
              "      <td>2020-10-04</td>\n",
              "      <td></td>\n",
              "      <td>0.0</td>\n",
              "    </tr>\n",
              "    <tr>\n",
              "      <th>11744</th>\n",
              "      <td>NaN</td>\n",
              "      <td>Hospitalized</td>\n",
              "      <td>2020-04-15</td>\n",
              "      <td></td>\n",
              "      <td>Mumbai</td>\n",
              "      <td>Maharashtra</td>\n",
              "      <td></td>\n",
              "      <td></td>\n",
              "      <td>11745</td>\n",
              "      <td>MH</td>\n",
              "      <td></td>\n",
              "      <td>2020-04-15</td>\n",
              "      <td></td>\n",
              "      <td>0.0</td>\n",
              "    </tr>\n",
              "  </tbody>\n",
              "</table>\n",
              "</div>"
            ],
            "text/plain": [
              "       agebracket currentstatus  ... typeoftransmission durationOfAnyStatus\n",
              "7959          NaN  Hospitalized  ...                                    0.0\n",
              "1669         54.0  Hospitalized  ...              Local                 0.0\n",
              "4703          NaN  Hospitalized  ...                                    0.0\n",
              "8223          NaN  Hospitalized  ...                                    0.0\n",
              "1560          NaN  Hospitalized  ...                TBD                 0.0\n",
              "3980          NaN  Hospitalized  ...                                    0.0\n",
              "848           NaN  Hospitalized  ...           Imported                 0.0\n",
              "3805          NaN  Hospitalized  ...                                    0.0\n",
              "6957          NaN  Hospitalized  ...                                    0.0\n",
              "11744         NaN  Hospitalized  ...                                    0.0\n",
              "\n",
              "[10 rows x 14 columns]"
            ]
          },
          "metadata": {
            "tags": []
          },
          "execution_count": 39
        }
      ]
    },
    {
      "cell_type": "code",
      "metadata": {
        "colab_type": "code",
        "id": "-0dhKA_0tlz3",
        "outputId": "6f65add0-d951-4f78-c7f4-4974cec767a3",
        "colab": {
          "base_uri": "https://localhost:8080/",
          "height": 323
        }
      },
      "source": [
        "profile = pandas_profiling.ProfileReport(df)\n",
        "profile.to_file(output_file=\"covid19_data_after_preprocessing.html\")"
      ],
      "execution_count": 0,
      "outputs": [
        {
          "output_type": "error",
          "ename": "TypeError",
          "evalue": "ignored",
          "traceback": [
            "\u001b[0;31m---------------------------------------------------------------------------\u001b[0m",
            "\u001b[0;31mTypeError\u001b[0m                                 Traceback (most recent call last)",
            "\u001b[0;32m<ipython-input-40-a4f5c75d7e2d>\u001b[0m in \u001b[0;36m<module>\u001b[0;34m()\u001b[0m\n\u001b[0;32m----> 1\u001b[0;31m \u001b[0mprofile\u001b[0m \u001b[0;34m=\u001b[0m \u001b[0mpandas_profiling\u001b[0m\u001b[0;34m.\u001b[0m\u001b[0mProfileReport\u001b[0m\u001b[0;34m(\u001b[0m\u001b[0mdf\u001b[0m\u001b[0;34m)\u001b[0m\u001b[0;34m\u001b[0m\u001b[0;34m\u001b[0m\u001b[0m\n\u001b[0m\u001b[1;32m      2\u001b[0m \u001b[0mprofile\u001b[0m\u001b[0;34m.\u001b[0m\u001b[0mto_file\u001b[0m\u001b[0;34m(\u001b[0m\u001b[0moutput_file\u001b[0m\u001b[0;34m=\u001b[0m\u001b[0;34m\"covid19_data_after_preprocessing.html\"\u001b[0m\u001b[0;34m)\u001b[0m\u001b[0;34m\u001b[0m\u001b[0;34m\u001b[0m\u001b[0m\n",
            "\u001b[0;32m/usr/local/lib/python3.6/dist-packages/pandas_profiling/__init__.py\u001b[0m in \u001b[0;36m__init__\u001b[0;34m(self, df, **kwargs)\u001b[0m\n\u001b[1;32m     64\u001b[0m         \u001b[0msample\u001b[0m \u001b[0;34m=\u001b[0m \u001b[0mkwargs\u001b[0m\u001b[0;34m.\u001b[0m\u001b[0mget\u001b[0m\u001b[0;34m(\u001b[0m\u001b[0;34m'sample'\u001b[0m\u001b[0;34m,\u001b[0m \u001b[0mdf\u001b[0m\u001b[0;34m.\u001b[0m\u001b[0mhead\u001b[0m\u001b[0;34m(\u001b[0m\u001b[0;34m)\u001b[0m\u001b[0;34m)\u001b[0m\u001b[0;34m\u001b[0m\u001b[0;34m\u001b[0m\u001b[0m\n\u001b[1;32m     65\u001b[0m \u001b[0;34m\u001b[0m\u001b[0m\n\u001b[0;32m---> 66\u001b[0;31m         \u001b[0mdescription_set\u001b[0m \u001b[0;34m=\u001b[0m \u001b[0mdescribe\u001b[0m\u001b[0;34m(\u001b[0m\u001b[0mdf\u001b[0m\u001b[0;34m,\u001b[0m \u001b[0;34m**\u001b[0m\u001b[0mkwargs\u001b[0m\u001b[0;34m)\u001b[0m\u001b[0;34m\u001b[0m\u001b[0;34m\u001b[0m\u001b[0m\n\u001b[0m\u001b[1;32m     67\u001b[0m \u001b[0;34m\u001b[0m\u001b[0m\n\u001b[1;32m     68\u001b[0m         self.html = to_html(sample,\n",
            "\u001b[0;32m/usr/local/lib/python3.6/dist-packages/pandas_profiling/describe.py\u001b[0m in \u001b[0;36mdescribe\u001b[0;34m(df, bins, check_correlation, correlation_threshold, correlation_overrides, check_recoded, pool_size, **kwargs)\u001b[0m\n\u001b[1;32m    390\u001b[0m             \u001b[0;32mif\u001b[0m \u001b[0mname\u001b[0m \u001b[0;32mnot\u001b[0m \u001b[0;32min\u001b[0m \u001b[0mnames\u001b[0m\u001b[0;34m:\u001b[0m\u001b[0;34m\u001b[0m\u001b[0;34m\u001b[0m\u001b[0m\n\u001b[1;32m    391\u001b[0m                 \u001b[0mnames\u001b[0m\u001b[0;34m.\u001b[0m\u001b[0mappend\u001b[0m\u001b[0;34m(\u001b[0m\u001b[0mname\u001b[0m\u001b[0;34m)\u001b[0m\u001b[0;34m\u001b[0m\u001b[0;34m\u001b[0m\u001b[0m\n\u001b[0;32m--> 392\u001b[0;31m     \u001b[0mvariable_stats\u001b[0m \u001b[0;34m=\u001b[0m \u001b[0mpd\u001b[0m\u001b[0;34m.\u001b[0m\u001b[0mconcat\u001b[0m\u001b[0;34m(\u001b[0m\u001b[0mldesc\u001b[0m\u001b[0;34m,\u001b[0m \u001b[0mjoin_axes\u001b[0m\u001b[0;34m=\u001b[0m\u001b[0mpd\u001b[0m\u001b[0;34m.\u001b[0m\u001b[0mIndex\u001b[0m\u001b[0;34m(\u001b[0m\u001b[0;34m[\u001b[0m\u001b[0mnames\u001b[0m\u001b[0;34m]\u001b[0m\u001b[0;34m)\u001b[0m\u001b[0;34m,\u001b[0m \u001b[0maxis\u001b[0m\u001b[0;34m=\u001b[0m\u001b[0;36m1\u001b[0m\u001b[0;34m)\u001b[0m\u001b[0;34m\u001b[0m\u001b[0;34m\u001b[0m\u001b[0m\n\u001b[0m\u001b[1;32m    393\u001b[0m     \u001b[0mvariable_stats\u001b[0m\u001b[0;34m.\u001b[0m\u001b[0mcolumns\u001b[0m\u001b[0;34m.\u001b[0m\u001b[0mnames\u001b[0m \u001b[0;34m=\u001b[0m \u001b[0mdf\u001b[0m\u001b[0;34m.\u001b[0m\u001b[0mcolumns\u001b[0m\u001b[0;34m.\u001b[0m\u001b[0mnames\u001b[0m\u001b[0;34m\u001b[0m\u001b[0;34m\u001b[0m\u001b[0m\n\u001b[1;32m    394\u001b[0m \u001b[0;34m\u001b[0m\u001b[0m\n",
            "\u001b[0;31mTypeError\u001b[0m: concat() got an unexpected keyword argument 'join_axes'"
          ]
        }
      ]
    },
    {
      "cell_type": "markdown",
      "metadata": {
        "colab_type": "text",
        "id": "Ts-re8cptlz5"
      },
      "source": [
        "**Observations**\n",
        "\n",
        "- Dataset info\n",
        "\n",
        "| Data | Info |\n",
        "|------|------|\n",
        "| Number of variables | 14 |\n",
        "| Number of observations | 8067 |\n",
        "| Missing cells | 301 (0.3%) |\n",
        "| Duplicate rows | 0 (0.0%) |\n",
        "| Total size in memory | 882.4 KiB |\n",
        "\n",
        "- Variables types\n",
        "\n",
        "| Varibale | Count |\n",
        "|------|------|\n",
        "| Numeric | 2 |\n",
        "| Categorical | 12|\n",
        "\n",
        "\n",
        "- `agebracket` has a high cardinality: 86 distinct values\n",
        "- `detectedcity` has a high cardinality: 314 distinct values\n",
        "- `detecteddistrict` has a high cardinality: 349 distinct values\n",
        "- `durationOfAnyStatus` has 7579 (94.0%) zeros\n",
        "- `durationOfAnyStatus` has 301 (3.7%) missing values\n",
        "- `statepatientnumber` has a high cardinality: 1463 distinct values\n",
        "\n",
        "\n",
        "\n",
        "- `currentstatus` distribution\n",
        "\n",
        "| Value\t| Count | Frequency (%) |\n",
        "|------|------|------|\n",
        "| Hospitalized | 7706 | 95.5% |\n",
        "| Unknown | 192 | 2.4% |\n",
        "| Recovered | 137 | 1.7% |\t \n",
        "| Deceased | 31 | 0.4% | \n",
        "| Migrated | 1 | < 0.1% |\t\n",
        "\n",
        "- `typeoftransmission` distribution\n",
        "\n",
        "| Value\t| Count | Frequency (%) |\n",
        "|------|------|------|\n",
        "| Unknown | 5233 | 64.9% |\n",
        "| Local | 1606 | 19.9% |\n",
        "| TBD | 630 | 7.8% |\t \n",
        "| Imported | 596 | 7.4% | "
      ]
    },
    {
      "cell_type": "code",
      "metadata": {
        "colab_type": "code",
        "id": "PJivaqkntlz6",
        "colab": {}
      },
      "source": [
        "df['agebracket'] = pd.to_numeric(df['agebracket'], errors='coerce')"
      ],
      "execution_count": 0,
      "outputs": []
    },
    {
      "cell_type": "markdown",
      "metadata": {
        "id": "5niVs7w3B8vZ",
        "colab_type": "text"
      },
      "source": [
        "### Function for different plots"
      ]
    },
    {
      "cell_type": "code",
      "metadata": {
        "id": "79gKkV4JB6wa",
        "colab_type": "code",
        "colab": {}
      },
      "source": [
        "''' Function to plot countplot between to columns with bins valaues [0,20,30,40,50,60,70,80,90,100] '''\n",
        "\n",
        "def countplot(columnname1,columnname2,plotTitle):\n",
        "    bins = [0,20,30,40,50,60,70,80,90,100]\n",
        "    plt.figure(figsize = (14,8))\n",
        "    sns.countplot(x=pd.cut(columnname1,bins), hue = columnname2 , orient = 'h')\n",
        "    plt.xlabel(columnname1.name)\n",
        "    plt.yscale('log')\n",
        "    plt.title(plotTitle)\n",
        "    plt.grid(True)\n",
        "    plt.show()\n",
        "    return"
      ],
      "execution_count": 0,
      "outputs": []
    },
    {
      "cell_type": "code",
      "metadata": {
        "id": "I-E0AHlyCTsr",
        "colab_type": "code",
        "colab": {}
      },
      "source": [
        "''' Function to plot boxplot between two columns '''\n",
        "\n",
        "def boxplot(dfname,columnname1,columnname2,plotTitle):\n",
        "  plt.figure(figsize=(12, 6), dpi = 100)\n",
        "  sns.boxplot(x = columnname1, y = columnname2, data = dfname, palette = 'viridis')\n",
        "  plt.title(plotTitle)\n",
        "  plt.xlabel(columnname1)\n",
        "  plt.xticks(rotation=90) \n",
        "  plt.ylabel(columnname2)\n",
        "  plt.tight_layout()\n",
        "  plt.show()\n",
        "  return"
      ],
      "execution_count": 0,
      "outputs": []
    },
    {
      "cell_type": "code",
      "metadata": {
        "id": "-5o8Awm0EfbA",
        "colab_type": "code",
        "colab": {}
      },
      "source": [
        "''' Function to plot pieChart '''\n",
        "  \n",
        "def pieChart(dfname,columnname, plotTitle):\n",
        "    fig = px.pie(dfname, values=columnname, names=dfname.index\n",
        "             ,color_discrete_sequence=px.colors.sequential.Plasma_r,title=plotTitle)\n",
        "    fig.update_traces(textposition='outside', textinfo='value+label')\n",
        "    fig.show()\n",
        "    return"
      ],
      "execution_count": 0,
      "outputs": []
    },
    {
      "cell_type": "code",
      "metadata": {
        "id": "mMbvCqcmItOY",
        "colab_type": "code",
        "colab": {}
      },
      "source": [
        "''' Function to plot bar chart'''\n",
        "\n",
        "def barChart(dfname , columnname1 , columnname2, plotTitle ,barOrientation):\n",
        "  fig = px.bar(dfname, x=columnname1, y=columnname2, orientation=barOrientation, text=columnname1, width=600,\n",
        "       color_discrete_sequence = ['#35495e'], title=plotTitle)\n",
        "  fig.update_xaxes(title='')\n",
        "  fig.update_yaxes(title='')\n",
        "  fig.show()\n",
        "  return"
      ],
      "execution_count": 0,
      "outputs": []
    },
    {
      "cell_type": "code",
      "metadata": {
        "id": "jhSjxdODKLKO",
        "colab_type": "code",
        "colab": {}
      },
      "source": [
        "''' Function to plot Histogram Distribution'''\n",
        "\n",
        "def histogramChart(dfname , columnname , plotTitle):\n",
        "    fig = px.histogram(dfname, x=columnname, color_discrete_sequence = ['#35495e'], nbins=50,title=plotTitle)\n",
        "    fig.show()\n",
        "    return"
      ],
      "execution_count": 0,
      "outputs": []
    },
    {
      "cell_type": "code",
      "metadata": {
        "id": "Y_SIbWdQMwkC",
        "colab_type": "code",
        "colab": {}
      },
      "source": [
        "''' Function to plot Tree Map'''\n",
        "\n",
        "def treeMapCart(dfname , columnList , valueColumn , plotTitle):\n",
        "  fig = px.treemap(dfname, path=columnList, values=valueColumn, height=700,\n",
        "           title=plotTitle, color_discrete_sequence = px.colors.qualitative.Prism)\n",
        "  fig.data[0].textinfo = 'label+text+value'\n",
        "  fig.show()\n",
        "  return \n"
      ],
      "execution_count": 0,
      "outputs": []
    },
    {
      "cell_type": "markdown",
      "metadata": {
        "colab_type": "text",
        "id": "rnOe_C8-tlz8"
      },
      "source": [
        "## Age range distribution with Covid-19"
      ]
    },
    {
      "cell_type": "code",
      "metadata": {
        "id": "yu1lQVxbDJF8",
        "colab_type": "code",
        "outputId": "4d20380a-8422-47a1-f66a-0b147576cffc",
        "colab": {
          "base_uri": "https://localhost:8080/",
          "height": 721
        }
      },
      "source": [
        "countplot(df[\"agebracket\"],df[\"currentstatus\"],\"Age range with Covid-19 patient\")"
      ],
      "execution_count": 0,
      "outputs": [
        {
          "output_type": "display_data",
          "data": {
            "image/png": "[encoded data removed]",
            "text/plain": [
              "<Figure size 1400x800 with 1 Axes>"
            ]
          },
          "metadata": {
            "tags": []
          }
        }
      ]
    },
    {
      "cell_type": "markdown",
      "metadata": {
        "id": "dt3E-SvIDnVk",
        "colab_type": "text"
      },
      "source": [
        "### COVID-19 - Age Range distribution across Nationality"
      ]
    },
    {
      "cell_type": "code",
      "metadata": {
        "id": "cOcEFa78DpAr",
        "colab_type": "code",
        "outputId": "4a79d76f-410f-4b68-cd1b-b65510d51f05",
        "colab": {
          "base_uri": "https://localhost:8080/",
          "height": 607
        }
      },
      "source": [
        "boxplot(df,\"nationality\",\"agebracket\",\"Covid19 - Age Range distribution across Nationality\")"
      ],
      "execution_count": 0,
      "outputs": [
        {
          "output_type": "display_data",
          "data": {
            "image/png": "[encoded data removed]",
            "text/plain": [
              "<Figure size 1200x600 with 1 Axes>"
            ]
          },
          "metadata": {
            "tags": []
          }
        }
      ]
    },
    {
      "cell_type": "markdown",
      "metadata": {
        "colab_type": "text",
        "id": "zBaBOsbvtl0A"
      },
      "source": [
        "## Covid-19 Cases Distribution across States"
      ]
    },
    {
      "cell_type": "code",
      "metadata": {
        "colab_type": "code",
        "id": "iMD91U4Etl0A",
        "outputId": "ee97c7f6-2f61-4ba0-b835-3f048f35f368",
        "colab": {
          "base_uri": "https://localhost:8080/",
          "height": 542
        }
      },
      "source": [
        "state = df.groupby('detectedstate').count()\n",
        "pieChart(state , 'currentstatus' ,'Covid19 cases based on State')"
      ],
      "execution_count": 0,
      "outputs": [
        {
          "output_type": "display_data",
          "data": {
            "text/html": [
              "<html>\n",
              "<head><meta charset=\"utf-8\" /></head>\n",
              "<body>\n",
              "    <div>\n",
              "            <script src=\"https://cdnjs.cloudflare.com/ajax/libs/mathjax/2.7.5/MathJax.js?config=TeX-AMS-MML_SVG\"></script><script type=\"text/javascript\">if (window.MathJax) {MathJax.Hub.Config({SVG: {font: \"STIX-Web\"}});}</script>\n",
              "                <script type=\"text/javascript\">window.PlotlyConfig = {MathJaxConfig: 'local'};</script>\n",
              "        <script src=\"https://cdn.plot.ly/plotly-latest.min.js\"></script>    \n",
              "            <div id=\"a1d3ba34-9509-404e-9162-8378fedac836\" class=\"plotly-graph-div\" style=\"height:525px; width:100%;\"></div>\n",
              "            <script type=\"text/javascript\">\n",
              "                \n",
              "                    window.PLOTLYENV=window.PLOTLYENV || {};\n",
              "                    \n",
              "                if (document.getElementById(\"a1d3ba34-9509-404e-9162-8378fedac836\")) {\n",
              "                    Plotly.newPlot(\n",
              "                        'a1d3ba34-9509-404e-9162-8378fedac836',\n",
              "                        [{\"domain\": {\"x\": [0.0, 1.0], \"y\": [0.0, 1.0]}, \"hoverlabel\": {\"namelength\": 0}, \"hovertemplate\": \"label=%{label}<br>currentstatus=%{value}\", \"labels\": [\"\", \"Andaman and Nicobar Islands\", \"Andhra Pradesh\", \"Arunachal Pradesh\", \"Assam\", \"Bihar\", \"Chandigarh\", \"Chhattisgarh\", \"Dadra and Nagar Haveli\", \"Delhi\", \"Goa\", \"Gujarat\", \"Haryana\", \"Himachal Pradesh\", \"Jammu and Kashmir\", \"Jharkhand\", \"Karnataka\", \"Kerala\", \"Ladakh\", \"Madhya Pradesh\", \"Maharashtra\", \"Manipur\", \"Meghalaya\", \"Mizoram\", \"Nagaland\", \"Odisha\", \"Puducherry\", \"Punjab\", \"Rajasthan\", \"Tamil Nadu\", \"Telangana\", \"Tripura\", \"Uttar Pradesh\", \"Uttarakhand\", \"West Bengal\"], \"legendgroup\": \"\", \"name\": \"\", \"showlegend\": true, \"textinfo\": \"value+label\", \"textposition\": \"outside\", \"type\": \"pie\", \"values\": [92, 11, 534, 1, 34, 74, 21, 33, 1, 1578, 7, 871, 213, 35, 314, 28, 315, 394, 18, 1115, 3081, 2, 7, 1, 1, 60, 7, 186, 1104, 1267, 650, 2, 735, 37, 231]}],\n",
              "                        {\"legend\": {\"tracegroupgap\": 0}, \"piecolorway\": [\"#f0f921\", \"#fdca26\", \"#fb9f3a\", \"#ed7953\", \"#d8576b\", \"#bd3786\", \"#9c179e\", \"#7201a8\", \"#46039f\", \"#0d0887\"], \"template\": {\"data\": {\"bar\": [{\"error_x\": {\"color\": \"#2a3f5f\"}, \"error_y\": {\"color\": \"#2a3f5f\"}, \"marker\": {\"line\": {\"color\": \"#E5ECF6\", \"width\": 0.5}}, \"type\": \"bar\"}], \"barpolar\": [{\"marker\": {\"line\": {\"color\": \"#E5ECF6\", \"width\": 0.5}}, \"type\": \"barpolar\"}], \"carpet\": [{\"aaxis\": {\"endlinecolor\": \"#2a3f5f\", \"gridcolor\": \"white\", \"linecolor\": \"white\", \"minorgridcolor\": \"white\", \"startlinecolor\": \"#2a3f5f\"}, \"baxis\": {\"endlinecolor\": \"#2a3f5f\", \"gridcolor\": \"white\", \"linecolor\": \"white\", \"minorgridcolor\": \"white\", \"startlinecolor\": \"#2a3f5f\"}, \"type\": \"carpet\"}], \"choropleth\": [{\"colorbar\": {\"outlinewidth\": 0, \"ticks\": \"\"}, \"type\": \"choropleth\"}], \"contour\": [{\"colorbar\": {\"outlinewidth\": 0, \"ticks\": \"\"}, \"colorscale\": [[0.0, \"#0d0887\"], [0.1111111111111111, \"#46039f\"], [0.2222222222222222, \"#7201a8\"], [0.3333333333333333, \"#9c179e\"], [0.4444444444444444, \"#bd3786\"], [0.5555555555555556, \"#d8576b\"], [0.6666666666666666, \"#ed7953\"], [0.7777777777777778, \"#fb9f3a\"], [0.8888888888888888, \"#fdca26\"], [1.0, \"#f0f921\"]], \"type\": \"contour\"}], \"contourcarpet\": [{\"colorbar\": {\"outlinewidth\": 0, \"ticks\": \"\"}, \"type\": \"contourcarpet\"}], \"heatmap\": [{\"colorbar\": {\"outlinewidth\": 0, \"ticks\": \"\"}, \"colorscale\": [[0.0, \"#0d0887\"], [0.1111111111111111, \"#46039f\"], [0.2222222222222222, \"#7201a8\"], [0.3333333333333333, \"#9c179e\"], [0.4444444444444444, \"#bd3786\"], [0.5555555555555556, \"#d8576b\"], [0.6666666666666666, \"#ed7953\"], [0.7777777777777778, \"#fb9f3a\"], [0.8888888888888888, \"#fdca26\"], [1.0, \"#f0f921\"]], \"type\": \"heatmap\"}], \"heatmapgl\": [{\"colorbar\": {\"outlinewidth\": 0, \"ticks\": \"\"}, \"colorscale\": [[0.0, \"#0d0887\"], [0.1111111111111111, \"#46039f\"], [0.2222222222222222, \"#7201a8\"], [0.3333333333333333, \"#9c179e\"], [0.4444444444444444, \"#bd3786\"], [0.5555555555555556, \"#d8576b\"], [0.6666666666666666, \"#ed7953\"], [0.7777777777777778, \"#fb9f3a\"], [0.8888888888888888, \"#fdca26\"], [1.0, \"#f0f921\"]], \"type\": \"heatmapgl\"}], \"histogram\": [{\"marker\": {\"colorbar\": {\"outlinewidth\": 0, \"ticks\": \"\"}}, \"type\": \"histogram\"}], \"histogram2d\": [{\"colorbar\": {\"outlinewidth\": 0, \"ticks\": \"\"}, \"colorscale\": [[0.0, \"#0d0887\"], [0.1111111111111111, \"#46039f\"], [0.2222222222222222, \"#7201a8\"], [0.3333333333333333, \"#9c179e\"], [0.4444444444444444, \"#bd3786\"], [0.5555555555555556, \"#d8576b\"], [0.6666666666666666, \"#ed7953\"], [0.7777777777777778, \"#fb9f3a\"], [0.8888888888888888, \"#fdca26\"], [1.0, \"#f0f921\"]], \"type\": \"histogram2d\"}], \"histogram2dcontour\": [{\"colorbar\": {\"outlinewidth\": 0, \"ticks\": \"\"}, \"colorscale\": [[0.0, \"#0d0887\"], [0.1111111111111111, \"#46039f\"], [0.2222222222222222, \"#7201a8\"], [0.3333333333333333, \"#9c179e\"], [0.4444444444444444, \"#bd3786\"], [0.5555555555555556, \"#d8576b\"], [0.6666666666666666, \"#ed7953\"], [0.7777777777777778, \"#fb9f3a\"], [0.8888888888888888, \"#fdca26\"], [1.0, \"#f0f921\"]], \"type\": \"histogram2dcontour\"}], \"mesh3d\": [{\"colorbar\": {\"outlinewidth\": 0, \"ticks\": \"\"}, \"type\": \"mesh3d\"}], \"parcoords\": [{\"line\": {\"colorbar\": {\"outlinewidth\": 0, \"ticks\": \"\"}}, \"type\": \"parcoords\"}], \"pie\": [{\"automargin\": true, \"type\": \"pie\"}], \"scatter\": [{\"marker\": {\"colorbar\": {\"outlinewidth\": 0, \"ticks\": \"\"}}, \"type\": \"scatter\"}], \"scatter3d\": [{\"line\": {\"colorbar\": {\"outlinewidth\": 0, \"ticks\": \"\"}}, \"marker\": {\"colorbar\": {\"outlinewidth\": 0, \"ticks\": \"\"}}, \"type\": \"scatter3d\"}], \"scattercarpet\": [{\"marker\": {\"colorbar\": {\"outlinewidth\": 0, \"ticks\": \"\"}}, \"type\": \"scattercarpet\"}], \"scattergeo\": [{\"marker\": {\"colorbar\": {\"outlinewidth\": 0, \"ticks\": \"\"}}, \"type\": \"scattergeo\"}], \"scattergl\": [{\"marker\": {\"colorbar\": {\"outlinewidth\": 0, \"ticks\": \"\"}}, \"type\": \"scattergl\"}], \"scattermapbox\": [{\"marker\": {\"colorbar\": {\"outlinewidth\": 0, \"ticks\": \"\"}}, \"type\": \"scattermapbox\"}], \"scatterpolar\": [{\"marker\": {\"colorbar\": {\"outlinewidth\": 0, \"ticks\": \"\"}}, \"type\": \"scatterpolar\"}], \"scatterpolargl\": [{\"marker\": {\"colorbar\": {\"outlinewidth\": 0, \"ticks\": \"\"}}, \"type\": \"scatterpolargl\"}], \"scatterternary\": [{\"marker\": {\"colorbar\": {\"outlinewidth\": 0, \"ticks\": \"\"}}, \"type\": \"scatterternary\"}], \"surface\": [{\"colorbar\": {\"outlinewidth\": 0, \"ticks\": \"\"}, \"colorscale\": [[0.0, \"#0d0887\"], [0.1111111111111111, \"#46039f\"], [0.2222222222222222, \"#7201a8\"], [0.3333333333333333, \"#9c179e\"], [0.4444444444444444, \"#bd3786\"], [0.5555555555555556, \"#d8576b\"], [0.6666666666666666, \"#ed7953\"], [0.7777777777777778, \"#fb9f3a\"], [0.8888888888888888, \"#fdca26\"], [1.0, \"#f0f921\"]], \"type\": \"surface\"}], \"table\": [{\"cells\": {\"fill\": {\"color\": \"#EBF0F8\"}, \"line\": {\"color\": \"white\"}}, \"header\": {\"fill\": {\"color\": \"#C8D4E3\"}, \"line\": {\"color\": \"white\"}}, \"type\": \"table\"}]}, \"layout\": {\"annotationdefaults\": {\"arrowcolor\": \"#2a3f5f\", \"arrowhead\": 0, \"arrowwidth\": 1}, \"coloraxis\": {\"colorbar\": {\"outlinewidth\": 0, \"ticks\": \"\"}}, \"colorscale\": {\"diverging\": [[0, \"#8e0152\"], [0.1, \"#c51b7d\"], [0.2, \"#de77ae\"], [0.3, \"#f1b6da\"], [0.4, \"#fde0ef\"], [0.5, \"#f7f7f7\"], [0.6, \"#e6f5d0\"], [0.7, \"#b8e186\"], [0.8, \"#7fbc41\"], [0.9, \"#4d9221\"], [1, \"#276419\"]], \"sequential\": [[0.0, \"#0d0887\"], [0.1111111111111111, \"#46039f\"], [0.2222222222222222, \"#7201a8\"], [0.3333333333333333, \"#9c179e\"], [0.4444444444444444, \"#bd3786\"], [0.5555555555555556, \"#d8576b\"], [0.6666666666666666, \"#ed7953\"], [0.7777777777777778, \"#fb9f3a\"], [0.8888888888888888, \"#fdca26\"], [1.0, \"#f0f921\"]], \"sequentialminus\": [[0.0, \"#0d0887\"], [0.1111111111111111, \"#46039f\"], [0.2222222222222222, \"#7201a8\"], [0.3333333333333333, \"#9c179e\"], [0.4444444444444444, \"#bd3786\"], [0.5555555555555556, \"#d8576b\"], [0.6666666666666666, \"#ed7953\"], [0.7777777777777778, \"#fb9f3a\"], [0.8888888888888888, \"#fdca26\"], [1.0, \"#f0f921\"]]}, \"colorway\": [\"#636efa\", \"#EF553B\", \"#00cc96\", \"#ab63fa\", \"#FFA15A\", \"#19d3f3\", \"#FF6692\", \"#B6E880\", \"#FF97FF\", \"#FECB52\"], \"font\": {\"color\": \"#2a3f5f\"}, \"geo\": {\"bgcolor\": \"white\", \"lakecolor\": \"white\", \"landcolor\": \"#E5ECF6\", \"showlakes\": true, \"showland\": true, \"subunitcolor\": \"white\"}, \"hoverlabel\": {\"align\": \"left\"}, \"hovermode\": \"closest\", \"mapbox\": {\"style\": \"light\"}, \"paper_bgcolor\": \"white\", \"plot_bgcolor\": \"#E5ECF6\", \"polar\": {\"angularaxis\": {\"gridcolor\": \"white\", \"linecolor\": \"white\", \"ticks\": \"\"}, \"bgcolor\": \"#E5ECF6\", \"radialaxis\": {\"gridcolor\": \"white\", \"linecolor\": \"white\", \"ticks\": \"\"}}, \"scene\": {\"xaxis\": {\"backgroundcolor\": \"#E5ECF6\", \"gridcolor\": \"white\", \"gridwidth\": 2, \"linecolor\": \"white\", \"showbackground\": true, \"ticks\": \"\", \"zerolinecolor\": \"white\"}, \"yaxis\": {\"backgroundcolor\": \"#E5ECF6\", \"gridcolor\": \"white\", \"gridwidth\": 2, \"linecolor\": \"white\", \"showbackground\": true, \"ticks\": \"\", \"zerolinecolor\": \"white\"}, \"zaxis\": {\"backgroundcolor\": \"#E5ECF6\", \"gridcolor\": \"white\", \"gridwidth\": 2, \"linecolor\": \"white\", \"showbackground\": true, \"ticks\": \"\", \"zerolinecolor\": \"white\"}}, \"shapedefaults\": {\"line\": {\"color\": \"#2a3f5f\"}}, \"ternary\": {\"aaxis\": {\"gridcolor\": \"white\", \"linecolor\": \"white\", \"ticks\": \"\"}, \"baxis\": {\"gridcolor\": \"white\", \"linecolor\": \"white\", \"ticks\": \"\"}, \"bgcolor\": \"#E5ECF6\", \"caxis\": {\"gridcolor\": \"white\", \"linecolor\": \"white\", \"ticks\": \"\"}}, \"title\": {\"x\": 0.05}, \"xaxis\": {\"automargin\": true, \"gridcolor\": \"white\", \"linecolor\": \"white\", \"ticks\": \"\", \"title\": {\"standoff\": 15}, \"zerolinecolor\": \"white\", \"zerolinewidth\": 2}, \"yaxis\": {\"automargin\": true, \"gridcolor\": \"white\", \"linecolor\": \"white\", \"ticks\": \"\", \"title\": {\"standoff\": 15}, \"zerolinecolor\": \"white\", \"zerolinewidth\": 2}}}, \"title\": {\"text\": \"Covid19 cases based on State\"}},\n",
              "                        {\"responsive\": true}\n",
              "                    ).then(function(){\n",
              "                            \n",
              "var gd = document.getElementById('a1d3ba34-9509-404e-9162-8378fedac836');\n",
              "var x = new MutationObserver(function (mutations, observer) {{\n",
              "        var display = window.getComputedStyle(gd).display;\n",
              "        if (!display || display === 'none') {{\n",
              "            console.log([gd, 'removed!']);\n",
              "            Plotly.purge(gd);\n",
              "            observer.disconnect();\n",
              "        }}\n",
              "}});\n",
              "\n",
              "// Listen for the removal of the full notebook cells\n",
              "var notebookContainer = gd.closest('#notebook-container');\n",
              "if (notebookContainer) {{\n",
              "    x.observe(notebookContainer, {childList: true});\n",
              "}}\n",
              "\n",
              "// Listen for the clearing of the current output cell\n",
              "var outputEl = gd.closest('.output');\n",
              "if (outputEl) {{\n",
              "    x.observe(outputEl, {childList: true});\n",
              "}}\n",
              "\n",
              "                        })\n",
              "                };\n",
              "                \n",
              "            </script>\n",
              "        </div>\n",
              "</body>\n",
              "</html>"
            ]
          },
          "metadata": {
            "tags": []
          }
        }
      ]
    },
    {
      "cell_type": "markdown",
      "metadata": {
        "colab_type": "text",
        "id": "E068HVKttl0E"
      },
      "source": [
        "## Covid-19 cases distribution based on Nationality"
      ]
    },
    {
      "cell_type": "code",
      "metadata": {
        "colab_type": "code",
        "id": "W0YNvlF-tl0F",
        "outputId": "61e0aa44-b044-42c9-d3a3-272f1a8afd7f",
        "colab": {
          "base_uri": "https://localhost:8080/",
          "height": 542
        }
      },
      "source": [
        "nationality = df.groupby('nationality').count()\n",
        "\n",
        "pieChart(nationality, 'currentstatus', 'Covid19 cases based on Nationality in India')\n"
      ],
      "execution_count": 0,
      "outputs": [
        {
          "output_type": "display_data",
          "data": {
            "text/html": [
              "<html>\n",
              "<head><meta charset=\"utf-8\" /></head>\n",
              "<body>\n",
              "    <div>\n",
              "            <script src=\"https://cdnjs.cloudflare.com/ajax/libs/mathjax/2.7.5/MathJax.js?config=TeX-AMS-MML_SVG\"></script><script type=\"text/javascript\">if (window.MathJax) {MathJax.Hub.Config({SVG: {font: \"STIX-Web\"}});}</script>\n",
              "                <script type=\"text/javascript\">window.PlotlyConfig = {MathJaxConfig: 'local'};</script>\n",
              "        <script src=\"https://cdn.plot.ly/plotly-latest.min.js\"></script>    \n",
              "            <div id=\"a08eee67-eaa0-4874-89b5-d0afe042546f\" class=\"plotly-graph-div\" style=\"height:525px; width:100%;\"></div>\n",
              "            <script type=\"text/javascript\">\n",
              "                \n",
              "                    window.PLOTLYENV=window.PLOTLYENV || {};\n",
              "                    \n",
              "                if (document.getElementById(\"a08eee67-eaa0-4874-89b5-d0afe042546f\")) {\n",
              "                    Plotly.newPlot(\n",
              "                        'a08eee67-eaa0-4874-89b5-d0afe042546f',\n",
              "                        [{\"domain\": {\"x\": [0.0, 1.0], \"y\": [0.0, 1.0]}, \"hoverlabel\": {\"namelength\": 0}, \"hovertemplate\": \"label=%{label}<br>currentstatus=%{value}\", \"labels\": [\"\", \"Canada\", \"India\", \"Indonesia\", \"Italy\", \"Malaysia\", \"Myanmar\", \"Phillipines\", \"Thailand\", \"Tibet\", \"United Kingdom\", \"United States of America\"], \"legendgroup\": \"\", \"name\": \"\", \"showlegend\": true, \"textinfo\": \"value+label\", \"textposition\": \"outside\", \"type\": \"pie\", \"values\": [11762, 1, 1249, 15, 18, 1, 1, 2, 2, 1, 7, 1]}],\n",
              "                        {\"legend\": {\"tracegroupgap\": 0}, \"piecolorway\": [\"#f0f921\", \"#fdca26\", \"#fb9f3a\", \"#ed7953\", \"#d8576b\", \"#bd3786\", \"#9c179e\", \"#7201a8\", \"#46039f\", \"#0d0887\"], \"template\": {\"data\": {\"bar\": [{\"error_x\": {\"color\": \"#2a3f5f\"}, \"error_y\": {\"color\": \"#2a3f5f\"}, \"marker\": {\"line\": {\"color\": \"#E5ECF6\", \"width\": 0.5}}, \"type\": \"bar\"}], \"barpolar\": [{\"marker\": {\"line\": {\"color\": \"#E5ECF6\", \"width\": 0.5}}, \"type\": \"barpolar\"}], \"carpet\": [{\"aaxis\": {\"endlinecolor\": \"#2a3f5f\", \"gridcolor\": \"white\", \"linecolor\": \"white\", \"minorgridcolor\": \"white\", \"startlinecolor\": \"#2a3f5f\"}, \"baxis\": {\"endlinecolor\": \"#2a3f5f\", \"gridcolor\": \"white\", \"linecolor\": \"white\", \"minorgridcolor\": \"white\", \"startlinecolor\": \"#2a3f5f\"}, \"type\": \"carpet\"}], \"choropleth\": [{\"colorbar\": {\"outlinewidth\": 0, \"ticks\": \"\"}, \"type\": \"choropleth\"}], \"contour\": [{\"colorbar\": {\"outlinewidth\": 0, \"ticks\": \"\"}, \"colorscale\": [[0.0, \"#0d0887\"], [0.1111111111111111, \"#46039f\"], [0.2222222222222222, \"#7201a8\"], [0.3333333333333333, \"#9c179e\"], [0.4444444444444444, \"#bd3786\"], [0.5555555555555556, \"#d8576b\"], [0.6666666666666666, \"#ed7953\"], [0.7777777777777778, \"#fb9f3a\"], [0.8888888888888888, \"#fdca26\"], [1.0, \"#f0f921\"]], \"type\": \"contour\"}], \"contourcarpet\": [{\"colorbar\": {\"outlinewidth\": 0, \"ticks\": \"\"}, \"type\": \"contourcarpet\"}], \"heatmap\": [{\"colorbar\": {\"outlinewidth\": 0, \"ticks\": \"\"}, \"colorscale\": [[0.0, \"#0d0887\"], [0.1111111111111111, \"#46039f\"], [0.2222222222222222, \"#7201a8\"], [0.3333333333333333, \"#9c179e\"], [0.4444444444444444, \"#bd3786\"], [0.5555555555555556, \"#d8576b\"], [0.6666666666666666, \"#ed7953\"], [0.7777777777777778, \"#fb9f3a\"], [0.8888888888888888, \"#fdca26\"], [1.0, \"#f0f921\"]], \"type\": \"heatmap\"}], \"heatmapgl\": [{\"colorbar\": {\"outlinewidth\": 0, \"ticks\": \"\"}, \"colorscale\": [[0.0, \"#0d0887\"], [0.1111111111111111, \"#46039f\"], [0.2222222222222222, \"#7201a8\"], [0.3333333333333333, \"#9c179e\"], [0.4444444444444444, \"#bd3786\"], [0.5555555555555556, \"#d8576b\"], [0.6666666666666666, \"#ed7953\"], [0.7777777777777778, \"#fb9f3a\"], [0.8888888888888888, \"#fdca26\"], [1.0, \"#f0f921\"]], \"type\": \"heatmapgl\"}], \"histogram\": [{\"marker\": {\"colorbar\": {\"outlinewidth\": 0, \"ticks\": \"\"}}, \"type\": \"histogram\"}], \"histogram2d\": [{\"colorbar\": {\"outlinewidth\": 0, \"ticks\": \"\"}, \"colorscale\": [[0.0, \"#0d0887\"], [0.1111111111111111, \"#46039f\"], [0.2222222222222222, \"#7201a8\"], [0.3333333333333333, \"#9c179e\"], [0.4444444444444444, \"#bd3786\"], [0.5555555555555556, \"#d8576b\"], [0.6666666666666666, \"#ed7953\"], [0.7777777777777778, \"#fb9f3a\"], [0.8888888888888888, \"#fdca26\"], [1.0, \"#f0f921\"]], \"type\": \"histogram2d\"}], \"histogram2dcontour\": [{\"colorbar\": {\"outlinewidth\": 0, \"ticks\": \"\"}, \"colorscale\": [[0.0, \"#0d0887\"], [0.1111111111111111, \"#46039f\"], [0.2222222222222222, \"#7201a8\"], [0.3333333333333333, \"#9c179e\"], [0.4444444444444444, \"#bd3786\"], [0.5555555555555556, \"#d8576b\"], [0.6666666666666666, \"#ed7953\"], [0.7777777777777778, \"#fb9f3a\"], [0.8888888888888888, \"#fdca26\"], [1.0, \"#f0f921\"]], \"type\": \"histogram2dcontour\"}], \"mesh3d\": [{\"colorbar\": {\"outlinewidth\": 0, \"ticks\": \"\"}, \"type\": \"mesh3d\"}], \"parcoords\": [{\"line\": {\"colorbar\": {\"outlinewidth\": 0, \"ticks\": \"\"}}, \"type\": \"parcoords\"}], \"pie\": [{\"automargin\": true, \"type\": \"pie\"}], \"scatter\": [{\"marker\": {\"colorbar\": {\"outlinewidth\": 0, \"ticks\": \"\"}}, \"type\": \"scatter\"}], \"scatter3d\": [{\"line\": {\"colorbar\": {\"outlinewidth\": 0, \"ticks\": \"\"}}, \"marker\": {\"colorbar\": {\"outlinewidth\": 0, \"ticks\": \"\"}}, \"type\": \"scatter3d\"}], \"scattercarpet\": [{\"marker\": {\"colorbar\": {\"outlinewidth\": 0, \"ticks\": \"\"}}, \"type\": \"scattercarpet\"}], \"scattergeo\": [{\"marker\": {\"colorbar\": {\"outlinewidth\": 0, \"ticks\": \"\"}}, \"type\": \"scattergeo\"}], \"scattergl\": [{\"marker\": {\"colorbar\": {\"outlinewidth\": 0, \"ticks\": \"\"}}, \"type\": \"scattergl\"}], \"scattermapbox\": [{\"marker\": {\"colorbar\": {\"outlinewidth\": 0, \"ticks\": \"\"}}, \"type\": \"scattermapbox\"}], \"scatterpolar\": [{\"marker\": {\"colorbar\": {\"outlinewidth\": 0, \"ticks\": \"\"}}, \"type\": \"scatterpolar\"}], \"scatterpolargl\": [{\"marker\": {\"colorbar\": {\"outlinewidth\": 0, \"ticks\": \"\"}}, \"type\": \"scatterpolargl\"}], \"scatterternary\": [{\"marker\": {\"colorbar\": {\"outlinewidth\": 0, \"ticks\": \"\"}}, \"type\": \"scatterternary\"}], \"surface\": [{\"colorbar\": {\"outlinewidth\": 0, \"ticks\": \"\"}, \"colorscale\": [[0.0, \"#0d0887\"], [0.1111111111111111, \"#46039f\"], [0.2222222222222222, \"#7201a8\"], [0.3333333333333333, \"#9c179e\"], [0.4444444444444444, \"#bd3786\"], [0.5555555555555556, \"#d8576b\"], [0.6666666666666666, \"#ed7953\"], [0.7777777777777778, \"#fb9f3a\"], [0.8888888888888888, \"#fdca26\"], [1.0, \"#f0f921\"]], \"type\": \"surface\"}], \"table\": [{\"cells\": {\"fill\": {\"color\": \"#EBF0F8\"}, \"line\": {\"color\": \"white\"}}, \"header\": {\"fill\": {\"color\": \"#C8D4E3\"}, \"line\": {\"color\": \"white\"}}, \"type\": \"table\"}]}, \"layout\": {\"annotationdefaults\": {\"arrowcolor\": \"#2a3f5f\", \"arrowhead\": 0, \"arrowwidth\": 1}, \"coloraxis\": {\"colorbar\": {\"outlinewidth\": 0, \"ticks\": \"\"}}, \"colorscale\": {\"diverging\": [[0, \"#8e0152\"], [0.1, \"#c51b7d\"], [0.2, \"#de77ae\"], [0.3, \"#f1b6da\"], [0.4, \"#fde0ef\"], [0.5, \"#f7f7f7\"], [0.6, \"#e6f5d0\"], [0.7, \"#b8e186\"], [0.8, \"#7fbc41\"], [0.9, \"#4d9221\"], [1, \"#276419\"]], \"sequential\": [[0.0, \"#0d0887\"], [0.1111111111111111, \"#46039f\"], [0.2222222222222222, \"#7201a8\"], [0.3333333333333333, \"#9c179e\"], [0.4444444444444444, \"#bd3786\"], [0.5555555555555556, \"#d8576b\"], [0.6666666666666666, \"#ed7953\"], [0.7777777777777778, \"#fb9f3a\"], [0.8888888888888888, \"#fdca26\"], [1.0, \"#f0f921\"]], \"sequentialminus\": [[0.0, \"#0d0887\"], [0.1111111111111111, \"#46039f\"], [0.2222222222222222, \"#7201a8\"], [0.3333333333333333, \"#9c179e\"], [0.4444444444444444, \"#bd3786\"], [0.5555555555555556, \"#d8576b\"], [0.6666666666666666, \"#ed7953\"], [0.7777777777777778, \"#fb9f3a\"], [0.8888888888888888, \"#fdca26\"], [1.0, \"#f0f921\"]]}, \"colorway\": [\"#636efa\", \"#EF553B\", \"#00cc96\", \"#ab63fa\", \"#FFA15A\", \"#19d3f3\", \"#FF6692\", \"#B6E880\", \"#FF97FF\", \"#FECB52\"], \"font\": {\"color\": \"#2a3f5f\"}, \"geo\": {\"bgcolor\": \"white\", \"lakecolor\": \"white\", \"landcolor\": \"#E5ECF6\", \"showlakes\": true, \"showland\": true, \"subunitcolor\": \"white\"}, \"hoverlabel\": {\"align\": \"left\"}, \"hovermode\": \"closest\", \"mapbox\": {\"style\": \"light\"}, \"paper_bgcolor\": \"white\", \"plot_bgcolor\": \"#E5ECF6\", \"polar\": {\"angularaxis\": {\"gridcolor\": \"white\", \"linecolor\": \"white\", \"ticks\": \"\"}, \"bgcolor\": \"#E5ECF6\", \"radialaxis\": {\"gridcolor\": \"white\", \"linecolor\": \"white\", \"ticks\": \"\"}}, \"scene\": {\"xaxis\": {\"backgroundcolor\": \"#E5ECF6\", \"gridcolor\": \"white\", \"gridwidth\": 2, \"linecolor\": \"white\", \"showbackground\": true, \"ticks\": \"\", \"zerolinecolor\": \"white\"}, \"yaxis\": {\"backgroundcolor\": \"#E5ECF6\", \"gridcolor\": \"white\", \"gridwidth\": 2, \"linecolor\": \"white\", \"showbackground\": true, \"ticks\": \"\", \"zerolinecolor\": \"white\"}, \"zaxis\": {\"backgroundcolor\": \"#E5ECF6\", \"gridcolor\": \"white\", \"gridwidth\": 2, \"linecolor\": \"white\", \"showbackground\": true, \"ticks\": \"\", \"zerolinecolor\": \"white\"}}, \"shapedefaults\": {\"line\": {\"color\": \"#2a3f5f\"}}, \"ternary\": {\"aaxis\": {\"gridcolor\": \"white\", \"linecolor\": \"white\", \"ticks\": \"\"}, \"baxis\": {\"gridcolor\": \"white\", \"linecolor\": \"white\", \"ticks\": \"\"}, \"bgcolor\": \"#E5ECF6\", \"caxis\": {\"gridcolor\": \"white\", \"linecolor\": \"white\", \"ticks\": \"\"}}, \"title\": {\"x\": 0.05}, \"xaxis\": {\"automargin\": true, \"gridcolor\": \"white\", \"linecolor\": \"white\", \"ticks\": \"\", \"title\": {\"standoff\": 15}, \"zerolinecolor\": \"white\", \"zerolinewidth\": 2}, \"yaxis\": {\"automargin\": true, \"gridcolor\": \"white\", \"linecolor\": \"white\", \"ticks\": \"\", \"title\": {\"standoff\": 15}, \"zerolinecolor\": \"white\", \"zerolinewidth\": 2}}}, \"title\": {\"text\": \"Covid19 cases based on Nationality in India\"}},\n",
              "                        {\"responsive\": true}\n",
              "                    ).then(function(){\n",
              "                            \n",
              "var gd = document.getElementById('a08eee67-eaa0-4874-89b5-d0afe042546f');\n",
              "var x = new MutationObserver(function (mutations, observer) {{\n",
              "        var display = window.getComputedStyle(gd).display;\n",
              "        if (!display || display === 'none') {{\n",
              "            console.log([gd, 'removed!']);\n",
              "            Plotly.purge(gd);\n",
              "            observer.disconnect();\n",
              "        }}\n",
              "}});\n",
              "\n",
              "// Listen for the removal of the full notebook cells\n",
              "var notebookContainer = gd.closest('#notebook-container');\n",
              "if (notebookContainer) {{\n",
              "    x.observe(notebookContainer, {childList: true});\n",
              "}}\n",
              "\n",
              "// Listen for the clearing of the current output cell\n",
              "var outputEl = gd.closest('.output');\n",
              "if (outputEl) {{\n",
              "    x.observe(outputEl, {childList: true});\n",
              "}}\n",
              "\n",
              "                        })\n",
              "                };\n",
              "                \n",
              "            </script>\n",
              "        </div>\n",
              "</body>\n",
              "</html>"
            ]
          },
          "metadata": {
            "tags": []
          }
        }
      ]
    },
    {
      "cell_type": "markdown",
      "metadata": {
        "colab_type": "text",
        "id": "Wned48pktl0H"
      },
      "source": [
        "## No. of foreign citizens affected by Covid-19 in India"
      ]
    },
    {
      "cell_type": "code",
      "metadata": {
        "colab_type": "code",
        "id": "7Vpw2CNitl0H",
        "outputId": "ed5bdf8a-2be6-47a6-c3b7-d49c6978302c",
        "colab": {
          "base_uri": "https://localhost:8080/",
          "height": 542
        }
      },
      "source": [
        "temp = df.groupby('nationality')['patientnumber'].count().reset_index()\n",
        "temp = temp.sort_values('patientnumber')\n",
        "temp = temp[temp['nationality']!='']\n",
        "temp = temp[temp['nationality']!='India']\n",
        "\n",
        "barChart(temp , 'patientnumber' , 'nationality' , 'No. of foreign citizens' ,'h' )\n"
      ],
      "execution_count": 0,
      "outputs": [
        {
          "output_type": "display_data",
          "data": {
            "text/html": [
              "<html>\n",
              "<head><meta charset=\"utf-8\" /></head>\n",
              "<body>\n",
              "    <div>\n",
              "            <script src=\"https://cdnjs.cloudflare.com/ajax/libs/mathjax/2.7.5/MathJax.js?config=TeX-AMS-MML_SVG\"></script><script type=\"text/javascript\">if (window.MathJax) {MathJax.Hub.Config({SVG: {font: \"STIX-Web\"}});}</script>\n",
              "                <script type=\"text/javascript\">window.PlotlyConfig = {MathJaxConfig: 'local'};</script>\n",
              "        <script src=\"https://cdn.plot.ly/plotly-latest.min.js\"></script>    \n",
              "            <div id=\"25345ff0-c53b-4559-851e-d7e242f45162\" class=\"plotly-graph-div\" style=\"height:525px; width:600px;\"></div>\n",
              "            <script type=\"text/javascript\">\n",
              "                \n",
              "                    window.PLOTLYENV=window.PLOTLYENV || {};\n",
              "                    \n",
              "                if (document.getElementById(\"25345ff0-c53b-4559-851e-d7e242f45162\")) {\n",
              "                    Plotly.newPlot(\n",
              "                        '25345ff0-c53b-4559-851e-d7e242f45162',\n",
              "                        [{\"alignmentgroup\": \"True\", \"hoverlabel\": {\"namelength\": 0}, \"hovertemplate\": \"patientnumber=%{text}<br>nationality=%{y}\", \"legendgroup\": \"\", \"marker\": {\"color\": \"#35495e\"}, \"name\": \"\", \"offsetgroup\": \"\", \"orientation\": \"h\", \"showlegend\": false, \"text\": [1.0, 1.0, 1.0, 1.0, 1.0, 2.0, 2.0, 7.0, 15.0, 18.0], \"textposition\": \"auto\", \"type\": \"bar\", \"x\": [1, 1, 1, 1, 1, 2, 2, 7, 15, 18], \"xaxis\": \"x\", \"y\": [\"Canada\", \"Malaysia\", \"Myanmar\", \"Tibet\", \"United States of America\", \"Phillipines\", \"Thailand\", \"United Kingdom\", \"Indonesia\", \"Italy\"], \"yaxis\": \"y\"}],\n",
              "                        {\"barmode\": \"relative\", \"legend\": {\"tracegroupgap\": 0}, \"template\": {\"data\": {\"bar\": [{\"error_x\": {\"color\": \"#2a3f5f\"}, \"error_y\": {\"color\": \"#2a3f5f\"}, \"marker\": {\"line\": {\"color\": \"#E5ECF6\", \"width\": 0.5}}, \"type\": \"bar\"}], \"barpolar\": [{\"marker\": {\"line\": {\"color\": \"#E5ECF6\", \"width\": 0.5}}, \"type\": \"barpolar\"}], \"carpet\": [{\"aaxis\": {\"endlinecolor\": \"#2a3f5f\", \"gridcolor\": \"white\", \"linecolor\": \"white\", \"minorgridcolor\": \"white\", \"startlinecolor\": \"#2a3f5f\"}, \"baxis\": {\"endlinecolor\": \"#2a3f5f\", \"gridcolor\": \"white\", \"linecolor\": \"white\", \"minorgridcolor\": \"white\", \"startlinecolor\": \"#2a3f5f\"}, \"type\": \"carpet\"}], \"choropleth\": [{\"colorbar\": {\"outlinewidth\": 0, \"ticks\": \"\"}, \"type\": \"choropleth\"}], \"contour\": [{\"colorbar\": {\"outlinewidth\": 0, \"ticks\": \"\"}, \"colorscale\": [[0.0, \"#0d0887\"], [0.1111111111111111, \"#46039f\"], [0.2222222222222222, \"#7201a8\"], [0.3333333333333333, \"#9c179e\"], [0.4444444444444444, \"#bd3786\"], [0.5555555555555556, \"#d8576b\"], [0.6666666666666666, \"#ed7953\"], [0.7777777777777778, \"#fb9f3a\"], [0.8888888888888888, \"#fdca26\"], [1.0, \"#f0f921\"]], \"type\": \"contour\"}], \"contourcarpet\": [{\"colorbar\": {\"outlinewidth\": 0, \"ticks\": \"\"}, \"type\": \"contourcarpet\"}], \"heatmap\": [{\"colorbar\": {\"outlinewidth\": 0, \"ticks\": \"\"}, \"colorscale\": [[0.0, \"#0d0887\"], [0.1111111111111111, \"#46039f\"], [0.2222222222222222, \"#7201a8\"], [0.3333333333333333, \"#9c179e\"], [0.4444444444444444, \"#bd3786\"], [0.5555555555555556, \"#d8576b\"], [0.6666666666666666, \"#ed7953\"], [0.7777777777777778, \"#fb9f3a\"], [0.8888888888888888, \"#fdca26\"], [1.0, \"#f0f921\"]], \"type\": \"heatmap\"}], \"heatmapgl\": [{\"colorbar\": {\"outlinewidth\": 0, \"ticks\": \"\"}, \"colorscale\": [[0.0, \"#0d0887\"], [0.1111111111111111, \"#46039f\"], [0.2222222222222222, \"#7201a8\"], [0.3333333333333333, \"#9c179e\"], [0.4444444444444444, \"#bd3786\"], [0.5555555555555556, \"#d8576b\"], [0.6666666666666666, \"#ed7953\"], [0.7777777777777778, \"#fb9f3a\"], [0.8888888888888888, \"#fdca26\"], [1.0, \"#f0f921\"]], \"type\": \"heatmapgl\"}], \"histogram\": [{\"marker\": {\"colorbar\": {\"outlinewidth\": 0, \"ticks\": \"\"}}, \"type\": \"histogram\"}], \"histogram2d\": [{\"colorbar\": {\"outlinewidth\": 0, \"ticks\": \"\"}, \"colorscale\": [[0.0, \"#0d0887\"], [0.1111111111111111, \"#46039f\"], [0.2222222222222222, \"#7201a8\"], [0.3333333333333333, \"#9c179e\"], [0.4444444444444444, \"#bd3786\"], [0.5555555555555556, \"#d8576b\"], [0.6666666666666666, \"#ed7953\"], [0.7777777777777778, \"#fb9f3a\"], [0.8888888888888888, \"#fdca26\"], [1.0, \"#f0f921\"]], \"type\": \"histogram2d\"}], \"histogram2dcontour\": [{\"colorbar\": {\"outlinewidth\": 0, \"ticks\": \"\"}, \"colorscale\": [[0.0, \"#0d0887\"], [0.1111111111111111, \"#46039f\"], [0.2222222222222222, \"#7201a8\"], [0.3333333333333333, \"#9c179e\"], [0.4444444444444444, \"#bd3786\"], [0.5555555555555556, \"#d8576b\"], [0.6666666666666666, \"#ed7953\"], [0.7777777777777778, \"#fb9f3a\"], [0.8888888888888888, \"#fdca26\"], [1.0, \"#f0f921\"]], \"type\": \"histogram2dcontour\"}], \"mesh3d\": [{\"colorbar\": {\"outlinewidth\": 0, \"ticks\": \"\"}, \"type\": \"mesh3d\"}], \"parcoords\": [{\"line\": {\"colorbar\": {\"outlinewidth\": 0, \"ticks\": \"\"}}, \"type\": \"parcoords\"}], \"pie\": [{\"automargin\": true, \"type\": \"pie\"}], \"scatter\": [{\"marker\": {\"colorbar\": {\"outlinewidth\": 0, \"ticks\": \"\"}}, \"type\": \"scatter\"}], \"scatter3d\": [{\"line\": {\"colorbar\": {\"outlinewidth\": 0, \"ticks\": \"\"}}, \"marker\": {\"colorbar\": {\"outlinewidth\": 0, \"ticks\": \"\"}}, \"type\": \"scatter3d\"}], \"scattercarpet\": [{\"marker\": {\"colorbar\": {\"outlinewidth\": 0, \"ticks\": \"\"}}, \"type\": \"scattercarpet\"}], \"scattergeo\": [{\"marker\": {\"colorbar\": {\"outlinewidth\": 0, \"ticks\": \"\"}}, \"type\": \"scattergeo\"}], \"scattergl\": [{\"marker\": {\"colorbar\": {\"outlinewidth\": 0, \"ticks\": \"\"}}, \"type\": \"scattergl\"}], \"scattermapbox\": [{\"marker\": {\"colorbar\": {\"outlinewidth\": 0, \"ticks\": \"\"}}, \"type\": \"scattermapbox\"}], \"scatterpolar\": [{\"marker\": {\"colorbar\": {\"outlinewidth\": 0, \"ticks\": \"\"}}, \"type\": \"scatterpolar\"}], \"scatterpolargl\": [{\"marker\": {\"colorbar\": {\"outlinewidth\": 0, \"ticks\": \"\"}}, \"type\": \"scatterpolargl\"}], \"scatterternary\": [{\"marker\": {\"colorbar\": {\"outlinewidth\": 0, \"ticks\": \"\"}}, \"type\": \"scatterternary\"}], \"surface\": [{\"colorbar\": {\"outlinewidth\": 0, \"ticks\": \"\"}, \"colorscale\": [[0.0, \"#0d0887\"], [0.1111111111111111, \"#46039f\"], [0.2222222222222222, \"#7201a8\"], [0.3333333333333333, \"#9c179e\"], [0.4444444444444444, \"#bd3786\"], [0.5555555555555556, \"#d8576b\"], [0.6666666666666666, \"#ed7953\"], [0.7777777777777778, \"#fb9f3a\"], [0.8888888888888888, \"#fdca26\"], [1.0, \"#f0f921\"]], \"type\": \"surface\"}], \"table\": [{\"cells\": {\"fill\": {\"color\": \"#EBF0F8\"}, \"line\": {\"color\": \"white\"}}, \"header\": {\"fill\": {\"color\": \"#C8D4E3\"}, \"line\": {\"color\": \"white\"}}, \"type\": \"table\"}]}, \"layout\": {\"annotationdefaults\": {\"arrowcolor\": \"#2a3f5f\", \"arrowhead\": 0, \"arrowwidth\": 1}, \"coloraxis\": {\"colorbar\": {\"outlinewidth\": 0, \"ticks\": \"\"}}, \"colorscale\": {\"diverging\": [[0, \"#8e0152\"], [0.1, \"#c51b7d\"], [0.2, \"#de77ae\"], [0.3, \"#f1b6da\"], [0.4, \"#fde0ef\"], [0.5, \"#f7f7f7\"], [0.6, \"#e6f5d0\"], [0.7, \"#b8e186\"], [0.8, \"#7fbc41\"], [0.9, \"#4d9221\"], [1, \"#276419\"]], \"sequential\": [[0.0, \"#0d0887\"], [0.1111111111111111, \"#46039f\"], [0.2222222222222222, \"#7201a8\"], [0.3333333333333333, \"#9c179e\"], [0.4444444444444444, \"#bd3786\"], [0.5555555555555556, \"#d8576b\"], [0.6666666666666666, \"#ed7953\"], [0.7777777777777778, \"#fb9f3a\"], [0.8888888888888888, \"#fdca26\"], [1.0, \"#f0f921\"]], \"sequentialminus\": [[0.0, \"#0d0887\"], [0.1111111111111111, \"#46039f\"], [0.2222222222222222, \"#7201a8\"], [0.3333333333333333, \"#9c179e\"], [0.4444444444444444, \"#bd3786\"], [0.5555555555555556, \"#d8576b\"], [0.6666666666666666, \"#ed7953\"], [0.7777777777777778, \"#fb9f3a\"], [0.8888888888888888, \"#fdca26\"], [1.0, \"#f0f921\"]]}, \"colorway\": [\"#636efa\", \"#EF553B\", \"#00cc96\", \"#ab63fa\", \"#FFA15A\", \"#19d3f3\", \"#FF6692\", \"#B6E880\", \"#FF97FF\", \"#FECB52\"], \"font\": {\"color\": \"#2a3f5f\"}, \"geo\": {\"bgcolor\": \"white\", \"lakecolor\": \"white\", \"landcolor\": \"#E5ECF6\", \"showlakes\": true, \"showland\": true, \"subunitcolor\": \"white\"}, \"hoverlabel\": {\"align\": \"left\"}, \"hovermode\": \"closest\", \"mapbox\": {\"style\": \"light\"}, \"paper_bgcolor\": \"white\", \"plot_bgcolor\": \"#E5ECF6\", \"polar\": {\"angularaxis\": {\"gridcolor\": \"white\", \"linecolor\": \"white\", \"ticks\": \"\"}, \"bgcolor\": \"#E5ECF6\", \"radialaxis\": {\"gridcolor\": \"white\", \"linecolor\": \"white\", \"ticks\": \"\"}}, \"scene\": {\"xaxis\": {\"backgroundcolor\": \"#E5ECF6\", \"gridcolor\": \"white\", \"gridwidth\": 2, \"linecolor\": \"white\", \"showbackground\": true, \"ticks\": \"\", \"zerolinecolor\": \"white\"}, \"yaxis\": {\"backgroundcolor\": \"#E5ECF6\", \"gridcolor\": \"white\", \"gridwidth\": 2, \"linecolor\": \"white\", \"showbackground\": true, \"ticks\": \"\", \"zerolinecolor\": \"white\"}, \"zaxis\": {\"backgroundcolor\": \"#E5ECF6\", \"gridcolor\": \"white\", \"gridwidth\": 2, \"linecolor\": \"white\", \"showbackground\": true, \"ticks\": \"\", \"zerolinecolor\": \"white\"}}, \"shapedefaults\": {\"line\": {\"color\": \"#2a3f5f\"}}, \"ternary\": {\"aaxis\": {\"gridcolor\": \"white\", \"linecolor\": \"white\", \"ticks\": \"\"}, \"baxis\": {\"gridcolor\": \"white\", \"linecolor\": \"white\", \"ticks\": \"\"}, \"bgcolor\": \"#E5ECF6\", \"caxis\": {\"gridcolor\": \"white\", \"linecolor\": \"white\", \"ticks\": \"\"}}, \"title\": {\"x\": 0.05}, \"xaxis\": {\"automargin\": true, \"gridcolor\": \"white\", \"linecolor\": \"white\", \"ticks\": \"\", \"title\": {\"standoff\": 15}, \"zerolinecolor\": \"white\", \"zerolinewidth\": 2}, \"yaxis\": {\"automargin\": true, \"gridcolor\": \"white\", \"linecolor\": \"white\", \"ticks\": \"\", \"title\": {\"standoff\": 15}, \"zerolinecolor\": \"white\", \"zerolinewidth\": 2}}}, \"title\": {\"text\": \"No. of foreign citizens\"}, \"width\": 600, \"xaxis\": {\"anchor\": \"y\", \"domain\": [0.0, 1.0], \"title\": {\"text\": \"\"}}, \"yaxis\": {\"anchor\": \"x\", \"domain\": [0.0, 1.0], \"title\": {\"text\": \"\"}}},\n",
              "                        {\"responsive\": true}\n",
              "                    ).then(function(){\n",
              "                            \n",
              "var gd = document.getElementById('25345ff0-c53b-4559-851e-d7e242f45162');\n",
              "var x = new MutationObserver(function (mutations, observer) {{\n",
              "        var display = window.getComputedStyle(gd).display;\n",
              "        if (!display || display === 'none') {{\n",
              "            console.log([gd, 'removed!']);\n",
              "            Plotly.purge(gd);\n",
              "            observer.disconnect();\n",
              "        }}\n",
              "}});\n",
              "\n",
              "// Listen for the removal of the full notebook cells\n",
              "var notebookContainer = gd.closest('#notebook-container');\n",
              "if (notebookContainer) {{\n",
              "    x.observe(notebookContainer, {childList: true});\n",
              "}}\n",
              "\n",
              "// Listen for the clearing of the current output cell\n",
              "var outputEl = gd.closest('.output');\n",
              "if (outputEl) {{\n",
              "    x.observe(outputEl, {childList: true});\n",
              "}}\n",
              "\n",
              "                        })\n",
              "                };\n",
              "                \n",
              "            </script>\n",
              "        </div>\n",
              "</body>\n",
              "</html>"
            ]
          },
          "metadata": {
            "tags": []
          }
        }
      ]
    },
    {
      "cell_type": "markdown",
      "metadata": {
        "colab_type": "text",
        "id": "cRTfFUbStl0J"
      },
      "source": [
        "## Covid-19 distribution based on Type of Transmission"
      ]
    },
    {
      "cell_type": "code",
      "metadata": {
        "colab_type": "code",
        "id": "XIE7UI7Itl0J",
        "outputId": "2632c803-2189-4ce6-b507-79fdc672a271",
        "colab": {
          "base_uri": "https://localhost:8080/",
          "height": 542
        }
      },
      "source": [
        "temp = pd.DataFrame(df[['typeoftransmission']].groupby('typeoftransmission')['typeoftransmission'].count())\n",
        "temp = temp.dropna()\n",
        "temp.columns = ['count']\n",
        "temp = temp.reset_index().sort_values(by='count')\n",
        "\n",
        "barChart(temp , 'count' , 'typeoftransmission' , 'Type of transmission','h' )"
      ],
      "execution_count": 0,
      "outputs": [
        {
          "output_type": "display_data",
          "data": {
            "text/html": [
              "<html>\n",
              "<head><meta charset=\"utf-8\" /></head>\n",
              "<body>\n",
              "    <div>\n",
              "            <script src=\"https://cdnjs.cloudflare.com/ajax/libs/mathjax/2.7.5/MathJax.js?config=TeX-AMS-MML_SVG\"></script><script type=\"text/javascript\">if (window.MathJax) {MathJax.Hub.Config({SVG: {font: \"STIX-Web\"}});}</script>\n",
              "                <script type=\"text/javascript\">window.PlotlyConfig = {MathJaxConfig: 'local'};</script>\n",
              "        <script src=\"https://cdn.plot.ly/plotly-latest.min.js\"></script>    \n",
              "            <div id=\"116143bb-08a8-4fdc-8d05-8c938eadae90\" class=\"plotly-graph-div\" style=\"height:525px; width:600px;\"></div>\n",
              "            <script type=\"text/javascript\">\n",
              "                \n",
              "                    window.PLOTLYENV=window.PLOTLYENV || {};\n",
              "                    \n",
              "                if (document.getElementById(\"116143bb-08a8-4fdc-8d05-8c938eadae90\")) {\n",
              "                    Plotly.newPlot(\n",
              "                        '116143bb-08a8-4fdc-8d05-8c938eadae90',\n",
              "                        [{\"alignmentgroup\": \"True\", \"hoverlabel\": {\"namelength\": 0}, \"hovertemplate\": \"count=%{text}<br>typeoftransmission=%{y}\", \"legendgroup\": \"\", \"marker\": {\"color\": \"#35495e\"}, \"name\": \"\", \"offsetgroup\": \"\", \"orientation\": \"h\", \"showlegend\": false, \"text\": [1.0, 2.0, 605.0, 637.0, 1697.0, 10118.0], \"textposition\": \"auto\", \"type\": \"bar\", \"x\": [1, 2, 605, 637, 1697, 10118], \"xaxis\": \"x\", \"y\": [\"Unknown\", \"Imported \", \"Imported\", \"TBD\", \"Local\", \"\"], \"yaxis\": \"y\"}],\n",
              "                        {\"barmode\": \"relative\", \"legend\": {\"tracegroupgap\": 0}, \"template\": {\"data\": {\"bar\": [{\"error_x\": {\"color\": \"#2a3f5f\"}, \"error_y\": {\"color\": \"#2a3f5f\"}, \"marker\": {\"line\": {\"color\": \"#E5ECF6\", \"width\": 0.5}}, \"type\": \"bar\"}], \"barpolar\": [{\"marker\": {\"line\": {\"color\": \"#E5ECF6\", \"width\": 0.5}}, \"type\": \"barpolar\"}], \"carpet\": [{\"aaxis\": {\"endlinecolor\": \"#2a3f5f\", \"gridcolor\": \"white\", \"linecolor\": \"white\", \"minorgridcolor\": \"white\", \"startlinecolor\": \"#2a3f5f\"}, \"baxis\": {\"endlinecolor\": \"#2a3f5f\", \"gridcolor\": \"white\", \"linecolor\": \"white\", \"minorgridcolor\": \"white\", \"startlinecolor\": \"#2a3f5f\"}, \"type\": \"carpet\"}], \"choropleth\": [{\"colorbar\": {\"outlinewidth\": 0, \"ticks\": \"\"}, \"type\": \"choropleth\"}], \"contour\": [{\"colorbar\": {\"outlinewidth\": 0, \"ticks\": \"\"}, \"colorscale\": [[0.0, \"#0d0887\"], [0.1111111111111111, \"#46039f\"], [0.2222222222222222, \"#7201a8\"], [0.3333333333333333, \"#9c179e\"], [0.4444444444444444, \"#bd3786\"], [0.5555555555555556, \"#d8576b\"], [0.6666666666666666, \"#ed7953\"], [0.7777777777777778, \"#fb9f3a\"], [0.8888888888888888, \"#fdca26\"], [1.0, \"#f0f921\"]], \"type\": \"contour\"}], \"contourcarpet\": [{\"colorbar\": {\"outlinewidth\": 0, \"ticks\": \"\"}, \"type\": \"contourcarpet\"}], \"heatmap\": [{\"colorbar\": {\"outlinewidth\": 0, \"ticks\": \"\"}, \"colorscale\": [[0.0, \"#0d0887\"], [0.1111111111111111, \"#46039f\"], [0.2222222222222222, \"#7201a8\"], [0.3333333333333333, \"#9c179e\"], [0.4444444444444444, \"#bd3786\"], [0.5555555555555556, \"#d8576b\"], [0.6666666666666666, \"#ed7953\"], [0.7777777777777778, \"#fb9f3a\"], [0.8888888888888888, \"#fdca26\"], [1.0, \"#f0f921\"]], \"type\": \"heatmap\"}], \"heatmapgl\": [{\"colorbar\": {\"outlinewidth\": 0, \"ticks\": \"\"}, \"colorscale\": [[0.0, \"#0d0887\"], [0.1111111111111111, \"#46039f\"], [0.2222222222222222, \"#7201a8\"], [0.3333333333333333, \"#9c179e\"], [0.4444444444444444, \"#bd3786\"], [0.5555555555555556, \"#d8576b\"], [0.6666666666666666, \"#ed7953\"], [0.7777777777777778, \"#fb9f3a\"], [0.8888888888888888, \"#fdca26\"], [1.0, \"#f0f921\"]], \"type\": \"heatmapgl\"}], \"histogram\": [{\"marker\": {\"colorbar\": {\"outlinewidth\": 0, \"ticks\": \"\"}}, \"type\": \"histogram\"}], \"histogram2d\": [{\"colorbar\": {\"outlinewidth\": 0, \"ticks\": \"\"}, \"colorscale\": [[0.0, \"#0d0887\"], [0.1111111111111111, \"#46039f\"], [0.2222222222222222, \"#7201a8\"], [0.3333333333333333, \"#9c179e\"], [0.4444444444444444, \"#bd3786\"], [0.5555555555555556, \"#d8576b\"], [0.6666666666666666, \"#ed7953\"], [0.7777777777777778, \"#fb9f3a\"], [0.8888888888888888, \"#fdca26\"], [1.0, \"#f0f921\"]], \"type\": \"histogram2d\"}], \"histogram2dcontour\": [{\"colorbar\": {\"outlinewidth\": 0, \"ticks\": \"\"}, \"colorscale\": [[0.0, \"#0d0887\"], [0.1111111111111111, \"#46039f\"], [0.2222222222222222, \"#7201a8\"], [0.3333333333333333, \"#9c179e\"], [0.4444444444444444, \"#bd3786\"], [0.5555555555555556, \"#d8576b\"], [0.6666666666666666, \"#ed7953\"], [0.7777777777777778, \"#fb9f3a\"], [0.8888888888888888, \"#fdca26\"], [1.0, \"#f0f921\"]], \"type\": \"histogram2dcontour\"}], \"mesh3d\": [{\"colorbar\": {\"outlinewidth\": 0, \"ticks\": \"\"}, \"type\": \"mesh3d\"}], \"parcoords\": [{\"line\": {\"colorbar\": {\"outlinewidth\": 0, \"ticks\": \"\"}}, \"type\": \"parcoords\"}], \"pie\": [{\"automargin\": true, \"type\": \"pie\"}], \"scatter\": [{\"marker\": {\"colorbar\": {\"outlinewidth\": 0, \"ticks\": \"\"}}, \"type\": \"scatter\"}], \"scatter3d\": [{\"line\": {\"colorbar\": {\"outlinewidth\": 0, \"ticks\": \"\"}}, \"marker\": {\"colorbar\": {\"outlinewidth\": 0, \"ticks\": \"\"}}, \"type\": \"scatter3d\"}], \"scattercarpet\": [{\"marker\": {\"colorbar\": {\"outlinewidth\": 0, \"ticks\": \"\"}}, \"type\": \"scattercarpet\"}], \"scattergeo\": [{\"marker\": {\"colorbar\": {\"outlinewidth\": 0, \"ticks\": \"\"}}, \"type\": \"scattergeo\"}], \"scattergl\": [{\"marker\": {\"colorbar\": {\"outlinewidth\": 0, \"ticks\": \"\"}}, \"type\": \"scattergl\"}], \"scattermapbox\": [{\"marker\": {\"colorbar\": {\"outlinewidth\": 0, \"ticks\": \"\"}}, \"type\": \"scattermapbox\"}], \"scatterpolar\": [{\"marker\": {\"colorbar\": {\"outlinewidth\": 0, \"ticks\": \"\"}}, \"type\": \"scatterpolar\"}], \"scatterpolargl\": [{\"marker\": {\"colorbar\": {\"outlinewidth\": 0, \"ticks\": \"\"}}, \"type\": \"scatterpolargl\"}], \"scatterternary\": [{\"marker\": {\"colorbar\": {\"outlinewidth\": 0, \"ticks\": \"\"}}, \"type\": \"scatterternary\"}], \"surface\": [{\"colorbar\": {\"outlinewidth\": 0, \"ticks\": \"\"}, \"colorscale\": [[0.0, \"#0d0887\"], [0.1111111111111111, \"#46039f\"], [0.2222222222222222, \"#7201a8\"], [0.3333333333333333, \"#9c179e\"], [0.4444444444444444, \"#bd3786\"], [0.5555555555555556, \"#d8576b\"], [0.6666666666666666, \"#ed7953\"], [0.7777777777777778, \"#fb9f3a\"], [0.8888888888888888, \"#fdca26\"], [1.0, \"#f0f921\"]], \"type\": \"surface\"}], \"table\": [{\"cells\": {\"fill\": {\"color\": \"#EBF0F8\"}, \"line\": {\"color\": \"white\"}}, \"header\": {\"fill\": {\"color\": \"#C8D4E3\"}, \"line\": {\"color\": \"white\"}}, \"type\": \"table\"}]}, \"layout\": {\"annotationdefaults\": {\"arrowcolor\": \"#2a3f5f\", \"arrowhead\": 0, \"arrowwidth\": 1}, \"coloraxis\": {\"colorbar\": {\"outlinewidth\": 0, \"ticks\": \"\"}}, \"colorscale\": {\"diverging\": [[0, \"#8e0152\"], [0.1, \"#c51b7d\"], [0.2, \"#de77ae\"], [0.3, \"#f1b6da\"], [0.4, \"#fde0ef\"], [0.5, \"#f7f7f7\"], [0.6, \"#e6f5d0\"], [0.7, \"#b8e186\"], [0.8, \"#7fbc41\"], [0.9, \"#4d9221\"], [1, \"#276419\"]], \"sequential\": [[0.0, \"#0d0887\"], [0.1111111111111111, \"#46039f\"], [0.2222222222222222, \"#7201a8\"], [0.3333333333333333, \"#9c179e\"], [0.4444444444444444, \"#bd3786\"], [0.5555555555555556, \"#d8576b\"], [0.6666666666666666, \"#ed7953\"], [0.7777777777777778, \"#fb9f3a\"], [0.8888888888888888, \"#fdca26\"], [1.0, \"#f0f921\"]], \"sequentialminus\": [[0.0, \"#0d0887\"], [0.1111111111111111, \"#46039f\"], [0.2222222222222222, \"#7201a8\"], [0.3333333333333333, \"#9c179e\"], [0.4444444444444444, \"#bd3786\"], [0.5555555555555556, \"#d8576b\"], [0.6666666666666666, \"#ed7953\"], [0.7777777777777778, \"#fb9f3a\"], [0.8888888888888888, \"#fdca26\"], [1.0, \"#f0f921\"]]}, \"colorway\": [\"#636efa\", \"#EF553B\", \"#00cc96\", \"#ab63fa\", \"#FFA15A\", \"#19d3f3\", \"#FF6692\", \"#B6E880\", \"#FF97FF\", \"#FECB52\"], \"font\": {\"color\": \"#2a3f5f\"}, \"geo\": {\"bgcolor\": \"white\", \"lakecolor\": \"white\", \"landcolor\": \"#E5ECF6\", \"showlakes\": true, \"showland\": true, \"subunitcolor\": \"white\"}, \"hoverlabel\": {\"align\": \"left\"}, \"hovermode\": \"closest\", \"mapbox\": {\"style\": \"light\"}, \"paper_bgcolor\": \"white\", \"plot_bgcolor\": \"#E5ECF6\", \"polar\": {\"angularaxis\": {\"gridcolor\": \"white\", \"linecolor\": \"white\", \"ticks\": \"\"}, \"bgcolor\": \"#E5ECF6\", \"radialaxis\": {\"gridcolor\": \"white\", \"linecolor\": \"white\", \"ticks\": \"\"}}, \"scene\": {\"xaxis\": {\"backgroundcolor\": \"#E5ECF6\", \"gridcolor\": \"white\", \"gridwidth\": 2, \"linecolor\": \"white\", \"showbackground\": true, \"ticks\": \"\", \"zerolinecolor\": \"white\"}, \"yaxis\": {\"backgroundcolor\": \"#E5ECF6\", \"gridcolor\": \"white\", \"gridwidth\": 2, \"linecolor\": \"white\", \"showbackground\": true, \"ticks\": \"\", \"zerolinecolor\": \"white\"}, \"zaxis\": {\"backgroundcolor\": \"#E5ECF6\", \"gridcolor\": \"white\", \"gridwidth\": 2, \"linecolor\": \"white\", \"showbackground\": true, \"ticks\": \"\", \"zerolinecolor\": \"white\"}}, \"shapedefaults\": {\"line\": {\"color\": \"#2a3f5f\"}}, \"ternary\": {\"aaxis\": {\"gridcolor\": \"white\", \"linecolor\": \"white\", \"ticks\": \"\"}, \"baxis\": {\"gridcolor\": \"white\", \"linecolor\": \"white\", \"ticks\": \"\"}, \"bgcolor\": \"#E5ECF6\", \"caxis\": {\"gridcolor\": \"white\", \"linecolor\": \"white\", \"ticks\": \"\"}}, \"title\": {\"x\": 0.05}, \"xaxis\": {\"automargin\": true, \"gridcolor\": \"white\", \"linecolor\": \"white\", \"ticks\": \"\", \"title\": {\"standoff\": 15}, \"zerolinecolor\": \"white\", \"zerolinewidth\": 2}, \"yaxis\": {\"automargin\": true, \"gridcolor\": \"white\", \"linecolor\": \"white\", \"ticks\": \"\", \"title\": {\"standoff\": 15}, \"zerolinecolor\": \"white\", \"zerolinewidth\": 2}}}, \"title\": {\"text\": \"Type of transmission\"}, \"width\": 600, \"xaxis\": {\"anchor\": \"y\", \"domain\": [0.0, 1.0], \"title\": {\"text\": \"\"}}, \"yaxis\": {\"anchor\": \"x\", \"domain\": [0.0, 1.0], \"title\": {\"text\": \"\"}}},\n",
              "                        {\"responsive\": true}\n",
              "                    ).then(function(){\n",
              "                            \n",
              "var gd = document.getElementById('116143bb-08a8-4fdc-8d05-8c938eadae90');\n",
              "var x = new MutationObserver(function (mutations, observer) {{\n",
              "        var display = window.getComputedStyle(gd).display;\n",
              "        if (!display || display === 'none') {{\n",
              "            console.log([gd, 'removed!']);\n",
              "            Plotly.purge(gd);\n",
              "            observer.disconnect();\n",
              "        }}\n",
              "}});\n",
              "\n",
              "// Listen for the removal of the full notebook cells\n",
              "var notebookContainer = gd.closest('#notebook-container');\n",
              "if (notebookContainer) {{\n",
              "    x.observe(notebookContainer, {childList: true});\n",
              "}}\n",
              "\n",
              "// Listen for the clearing of the current output cell\n",
              "var outputEl = gd.closest('.output');\n",
              "if (outputEl) {{\n",
              "    x.observe(outputEl, {childList: true});\n",
              "}}\n",
              "\n",
              "                        })\n",
              "                };\n",
              "                \n",
              "            </script>\n",
              "        </div>\n",
              "</body>\n",
              "</html>"
            ]
          },
          "metadata": {
            "tags": []
          }
        }
      ]
    },
    {
      "cell_type": "markdown",
      "metadata": {
        "colab_type": "text",
        "id": "w-1xVCuvtl0L"
      },
      "source": [
        "## Covid-19 cases Vs Age Brackets along with current status"
      ]
    },
    {
      "cell_type": "code",
      "metadata": {
        "colab_type": "code",
        "id": "TmFsgYGttl0M",
        "outputId": "1d02af7b-6d0e-4084-dba2-59ca0def1f6c",
        "colab": {
          "base_uri": "https://localhost:8080/",
          "height": 593
        }
      },
      "source": [
        "fig = plotly.subplots.make_subplots(\n",
        "    rows=1, cols=2, column_widths=[0.8, 0.2],\n",
        "    subplot_titles = ['Cases vs Age', ''],\n",
        "    specs=[[{\"type\": \"histogram\"}, {\"type\": \"pie\"}]]\n",
        ")\n",
        "\n",
        "temp = df[['agebracket', 'currentstatus']].dropna()\n",
        "print('Total no. of values :', df.shape[0], '\\nNo. of missing values :', df.shape[0]-temp.shape[0], '\\nNo. of available values :', df.shape[0]-(df.shape[0]-temp.shape[0]))\n",
        "gen_grp = temp.groupby('currentstatus').count()\n",
        "\n",
        "fig.add_trace(go.Pie(values=gen_grp.values.reshape(-1).tolist(), labels=['Deceased', 'Hospitalized', 'Recovered'], \n",
        "                     marker_colors = ['#fd0054', '#393e46', '#40a798'], hole=.3),1, 2)\n",
        "\n",
        "fig.add_trace(go.Histogram(x=temp[temp['currentstatus']=='Deceased']['agebracket'], nbinsx=50, name='Deceased', marker_color='#fd0054'), 1, 1)\n",
        "fig.add_trace(go.Histogram(x=temp[temp['currentstatus']=='Recovered']['agebracket'], nbinsx=50, name='Recovered', marker_color='#40a798'), 1, 1)\n",
        "fig.add_trace(go.Histogram(x=temp[temp['currentstatus']=='Hospitalized']['agebracket'], nbinsx=50, name='Hospitalized', marker_color='#393e46'), 1, 1)\n",
        "\n",
        "fig.update_layout(showlegend=False)\n",
        "fig.update_layout(barmode='stack')\n",
        "fig.data[0].textinfo = 'label+text+value+percent'\n",
        "\n",
        "fig.show()"
      ],
      "execution_count": 0,
      "outputs": [
        {
          "output_type": "stream",
          "text": [
            "Total no. of values : 13060 \n",
            "No. of missing values : 11509 \n",
            "No. of available values : 1551\n"
          ],
          "name": "stdout"
        },
        {
          "output_type": "display_data",
          "data": {
            "text/html": [
              "<html>\n",
              "<head><meta charset=\"utf-8\" /></head>\n",
              "<body>\n",
              "    <div>\n",
              "            <script src=\"https://cdnjs.cloudflare.com/ajax/libs/mathjax/2.7.5/MathJax.js?config=TeX-AMS-MML_SVG\"></script><script type=\"text/javascript\">if (window.MathJax) {MathJax.Hub.Config({SVG: {font: \"STIX-Web\"}});}</script>\n",
              "                <script type=\"text/javascript\">window.PlotlyConfig = {MathJaxConfig: 'local'};</script>\n",
              "        <script src=\"https://cdn.plot.ly/plotly-latest.min.js\"></script>    \n",
              "            <div id=\"0fb27b34-41e2-4004-a50e-0745fe768f32\" class=\"plotly-graph-div\" style=\"height:525px; width:100%;\"></div>\n",
              "            <script type=\"text/javascript\">\n",
              "                \n",
              "                    window.PLOTLYENV=window.PLOTLYENV || {};\n",
              "                    \n",
              "                if (document.getElementById(\"0fb27b34-41e2-4004-a50e-0745fe768f32\")) {\n",
              "                    Plotly.newPlot(\n",
              "                        '0fb27b34-41e2-4004-a50e-0745fe768f32',\n",
              "                        [{\"domain\": {\"x\": [0.8200000000000001, 1.0], \"y\": [0.0, 1.0]}, \"hole\": 0.3, \"labels\": [\"Deceased\", \"Hospitalized\", \"Recovered\"], \"marker\": {\"colors\": [\"#fd0054\", \"#393e46\", \"#40a798\"]}, \"textinfo\": \"label+text+value+percent\", \"type\": \"pie\", \"values\": [32, 1401, 118]}, {\"marker\": {\"color\": \"#fd0054\"}, \"name\": \"Deceased\", \"nbinsx\": 50, \"type\": \"histogram\", \"x\": [69.0, 76.0, 65.0, 70.0, 63.0, 67.0, 57.0, 38.0, 69.0, 85.0, 69.0, 54.0, 65.0, 65.0, 70.0, 35.0, 60.0, 74.0, 44.0, 68.0, 45.0, 48.0, 75.0, 75.0, 1.0, 80.0, 72.0, 71.0, 65.0, 66.0, 55.0, 80.0], \"xaxis\": \"x\", \"yaxis\": \"y\"}, {\"marker\": {\"color\": \"#40a798\"}, \"name\": \"Recovered\", \"nbinsx\": 50, \"type\": \"histogram\", \"x\": [20.0, 45.0, 24.0, 69.0, 55.0, 55.0, 55.0, 55.0, 55.0, 55.0, 55.0, 55.0, 55.0, 55.0, 55.0, 55.0, 70.0, 45.0, 16.0, 59.0, 45.0, 24.0, 54.0, 53.0, 65.0, 61.0, 46.0, 3.0, 48.0, 40.0, 47.0, 13.0, 96.0, 89.0, 85.0, 27.0, 26.0, 32.0, 45.0, 20.0, 67.0, 63.0, 18.0, 56.0, 25.0, 35.0, 35.0, 24.0, 21.0, 65.0, 34.0, 32.0, 23.0, 53.0, 35.0, 33.0, 22.0, 27.0, 64.0, 36.0, 27.0, 51.0, 48.0, 46.0, 21.0, 38.0, 41.0, 24.0, 22.0, 23.0, 32.0, 40.0, 65.0, 56.0, 47.0, 70.0, 23.0, 37.0, 63.0, 59.0, 26.0, 63.0, 69.0, 23.0, 24.0, 35.0, 26.0, 36.0, 1.0, 22.0, 18.0, 21.0, 25.0, 23.0, 70.0, 32.0, 38.0, 18.0, 21.0, 20.0, 38.0, 21.0, 42.0, 30.0, 45.0, 40.0, 48.0, 35.0, 40.0, 29.0, 58.0, 1.0, 51.0, 32.0, 34.0, 24.0, 35.0, 26.0], \"xaxis\": \"x\", \"yaxis\": \"y\"}, {\"marker\": {\"color\": \"#393e46\"}, \"name\": \"Hospitalized\", \"nbinsx\": 50, \"type\": \"histogram\", \"x\": [55.0, 55.0, 27.0, 65.0, 75.0, 25.0, 63.0, 3.0, 46.0, 70.0, 68.0, 45.0, 33.0, 33.0, 27.0, 37.0, 59.0, 43.0, 21.0, 24.0, 59.0, 46.0, 47.0, 42.0, 33.0, 3.0, 44.0, 51.0, 31.0, 29.0, 49.0, 26.0, 68.0, 52.0, 22.0, 34.0, 28.0, 25.0, 22.0, 27.0, 44.0, 20.0, 68.0, 21.0, 50.0, 67.0, 33.0, 30.0, 3.0, 38.0, 23.0, 22.0, 49.0, 24.0, 47.0, 32.0, 21.0, 51.0, 19.0, 22.0, 22.0, 32.0, 22.0, 69.0, 58.0, 24.0, 38.0, 20.0, 22.0, 47.0, 37.0, 35.0, 20.0, 41.0, 18.0, 69.0, 27.0, 26.0, 52.0, 21.0, 52.0, 27.0, 2.0, 63.0, 59.0, 45.0, 22.0, 24.0, 27.0, 60.0, 32.0, 53.0, 20.0, 42.0, 74.0, 28.0, 59.0, 41.0, 24.0, 26.0, 32.0, 38.0, 26.0, 39.0, 19.0, 35.0, 33.0, 69.0, 75.0, 65.0, 35.0, 34.0, 45.0, 40.0, 17.0, 36.0, 60.0, 54.0, 21.0, 23.0, 59.0, 22.0, 24.0, 31.0, 30.0, 32.0, 30.0, 21.0, 60.0, 64.0, 35.0, 25.0, 24.0, 81.0, 26.0, 58.0, 27.0, 32.0, 41.0, 33.0, 26.0, 34.0, 23.0, 23.0, 50.0, 32.0, 24.0, 41.0, 21.0, 37.0, 62.0, 47.0, 20.0, 53.0, 64.0, 43.0, 49.0, 36.0, 45.0, 58.0, 57.0, 27.0, 29.0, 24.0, 33.0, 49.0, 46.0, 61.0, 21.0, 30.0, 23.0, 21.0, 20.0, 25.0, 56.0, 32.0, 49.0, 24.0, 30.0, 31.0, 41.0, 34.0, 40.0, 37.0, 47.0, 34.0, 50.0, 32.0, 27.0, 33.0, 32.0, 27.0, 34.0, 52.0, 26.0, 61.0, 56.0, 30.0, 60.0, 38.0, 45.0, 45.0, 2.0, 25.0, 25.0, 48.0, 24.0, 35.0, 41.0, 65.0, 53.0, 54.0, 58.0, 74.0, 52.0, 25.0, 49.0, 39.0, 61.0, 56.0, 55.0, 57.0, 47.0, 57.0, 25.0, 65.0, 55.0, 25.0, 64.0, 36.0, 75.0, 57.0, 36.0, 50.0, 57.0, 27.0, 39.0, 38.0, 63.0, 34.0, 21.0, 22.0, 23.0, 37.0, 26.0, 9.0, 7.0, 55.0, 31.0, 26.0, 43.0, 3.0, 22.0, 18.0, 26.0, 63.0, 52.0, 25.0, 29.0, 55.0, 66.0, 21.0, 39.0, 33.0, 32.0, 40.0, 12.0, 49.0, 36.0, 41.0, 45.0, 35.0, 64.0, 45.0, 42.0, 21.0, 24.0, 7.0, 1.0, 37.0, 38.0, 49.0, 39.0, 32.0, 21.0, 24.0, 65.0, 20.0, 29.0, 60.0, 45.0, 37.0, 53.0, 54.0, 22.0, 44.0, 42.0, 46.0, 23.0, 25.0, 20.0, 25.0, 35.0, 33.0, 53.0, 38.0, 30.0, 42.0, 41.0, 53.0, 18.0, 14.0, 47.0, 23.0, 64.0, 11.0, 27.0, 45.0, 6.0, 1.0, 73.0, 61.0, 39.0, 45.0, 22.0, 50.0, 37.0, 39.0, 33.0, 25.0, 65.0, 42.0, 49.0, 66.0, 23.0, 21.0, 54.0, 28.0, 23.0, 63.0, 21.0, 45.0, 40.0, 56.0, 11.0, 35.0, 63.0, 18.0, 33.0, 44.0, 35.0, 60.0, 25.0, 24.0, 76.0, 56.0, 54.0, 36.0, 52.0, 31.0, 50.0, 23.0, 58.0, 21.0, 60.0, 50.0, 65.0, 39.0, 31.0, 30.0, 21.0, 40.0, 48.0, 21.0, 38.0, 17.0, 53.0, 47.0, 67.0, 34.0, 21.0, 19.0, 53.0, 35.0, 34.0, 37.0, 19.0, 52.0, 45.0, 30.0, 25.0, 41.0, 50.0, 43.0, 28.0, 39.0, 45.0, 48.0, 67.0, 62.0, 35.0, 29.0, 47.0, 52.0, 66.0, 53.0, 40.0, 20.0, 35.0, 59.0, 65.0, 41.0, 38.0, 50.0, 92.0, 55.0, 65.0, 49.0, 72.0, 25.0, 52.0, 76.0, 15.0, 20.0, 50.0, 42.0, 77.0, 32.0, 32.0, 23.0, 23.0, 40.0, 13.0, 21.0, 81.0, 52.0, 48.0, 26.0, 44.0, 17.0, 65.0, 60.0, 35.0, 55.0, 51.0, 52.0, 43.0, 28.0, 10.0, 34.0, 31.0, 32.0, 28.0, 28.0, 39.0, 65.0, 42.0, 39.0, 32.0, 59.0, 44.0, 28.0, 46.0, 35.0, 65.0, 40.0, 19.0, 40.0, 41.0, 34.0, 26.0, 57.0, 22.0, 56.0, 23.0, 43.0, 23.0, 52.0, 28.0, 60.0, 40.0, 62.0, 35.0, 31.0, 36.0, 27.0, 35.0, 70.0, 23.0, 21.0, 70.0, 29.0, 31.0, 40.0, 58.0, 31.0, 52.0, 18.0, 45.0, 65.0, 68.0, 54.0, 58.0, 67.0, 40.0, 54.0, 50.0, 41.0, 25.0, 50.0, 20.0, 54.0, 36.0, 40.0, 26.0, 40.0, 41.0, 46.0, 53.0, 36.0, 35.0, 39.0, 36.0, 39.0, 27.0, 45.0, 34.0, 47.0, 48.0, 39.0, 44.0, 54.0, 45.0, 30.0, 33.0, 50.0, 50.0, 20.0, 53.0, 46.0, 50.0, 39.0, 31.0, 35.0, 80.0, 35.0, 72.0, 24.0, 37.0, 27.0, 33.0, 65.0, 28.0, 40.0, 34.0, 36.0, 41.0, 38.0, 39.0, 40.0, 30.0, 45.0, 57.0, 32.0, 34.0, 45.0, 52.0, 40.0, 46.0, 37.0, 47.0, 33.0, 21.0, 44.0, 39.0, 38.0, 55.0, 31.0, 51.0, 34.0, 40.0, 50.0, 43.0, 33.0, 38.0, 37.0, 26.0, 54.0, 60.0, 50.0, 63.0, 55.0, 56.0, 66.0, 52.0, 63.0, 27.0, 40.0, 48.0, 54.0, 71.0, 31.0, 50.0, 48.0, 68.0, 36.0, 47.0, 55.0, 22.0, 55.0, 35.0, 35.0, 48.0, 42.0, 48.0, 38.0, 40.0, 58.0, 42.0, 40.0, 27.0, 39.0, 41.0, 38.0, 25.0, 42.0, 66.0, 18.0, 52.0, 52.0, 72.0, 32.0, 11.0, 15.0, 32.0, 17.0, 47.0, 61.0, 30.0, 50.0, 36.0, 27.0, 42.0, 27.0, 36.0, 78.0, 49.0, 63.0, 63.0, 27.0, 25.0, 36.0, 18.0, 16.0, 42.0, 43.0, 43.0, 40.0, 72.0, 72.0, 40.0, 61.0, 36.0, 52.0, 52.0, 31.0, 10.0, 10.0, 10.0, 40.0, 53.0, 61.0, 60.0, 43.0, 34.0, 42.0, 43.0, 32.0, 47.0, 31.0, 36.0, 35.0, 37.0, 39.0, 46.0, 33.0, 43.0, 23.0, 52.0, 65.0, 48.0, 30.0, 41.0, 66.0, 59.0, 39.0, 60.0, 63.0, 73.0, 45.0, 60.0, 60.0, 38.0, 70.0, 35.0, 10.0, 7.0, 58.0, 27.0, 28.0, 36.0, 1.0, 36.0, 24.0, 22.0, 14.0, 28.0, 17.0, 60.0, 35.0, 30.0, 7.0, 68.0, 65.0, 69.0, 51.0, 70.0, 26.0, 20.0, 35.0, 37.0, 32.0, 30.0, 58.0, 34.0, 56.0, 16.0, 21.0, 57.0, 43.0, 78.0, 60.0, 38.0, 19.0, 39.0, 39.0, 54.0, 40.0, 34.0, 47.0, 63.0, 43.0, 52.0, 60.0, 35.0, 65.0, 61.0, 45.0, 60.0, 33.0, 47.0, 45.0, 33.0, 34.0, 32.0, 52.0, 35.0, 36.0, 40.0, 45.0, 25.0, 35.0, 17.0, 27.0, 37.0, 45.0, 28.0, 30.0, 37.0, 43.0, 37.0, 35.0, 65.0, 48.0, 45.0, 48.0, 33.0, 27.0, 50.0, 65.0, 55.0, 17.0, 42.0, 56.0, 16.0, 18.0, 41.0, 55.0, 75.0, 34.0, 26.0, 60.0, 54.0, 40.0, 34.0, 68.0, 62.0, 70.0, 29.0, 42.0, 44.0, 81.0, 7.0, 36.0, 40.0, 67.0, 41.0, 41.0, 20.0, 28.0, 22.0, 44.0, 30.0, 60.0, 59.0, 19.0, 77.0, 30.0, 32.0, 31.0, 50.0, 52.0, 36.0, 31.0, 31.0, 45.0, 32.0, 36.0, 37.0, 55.0, 38.0, 43.0, 23.0, 43.0, 50.0, 52.0, 62.0, 90.0, 48.0, 20.0, 37.0, 39.0, 37.0, 32.0, 35.0, 24.0, 38.0, 38.0, 16.0, 60.0, 51.0, 47.0, 52.0, 27.0, 15.0, 80.0, 39.0, 29.0, 52.0, 54.0, 28.0, 40.0, 32.0, 28.0, 55.0, 76.0, 34.0, 32.0, 62.0, 20.0, 37.0, 57.0, 22.0, 26.0, 33.0, 35.0, 54.0, 58.0, 43.0, 19.0, 26.0, 32.0, 25.0, 62.0, 32.0, 32.0, 46.0, 38.0, 47.0, 45.0, 34.0, 40.0, 42.0, 30.0, 30.0, 50.0, 21.0, 43.0, 12.0, 65.0, 53.0, 50.0, 18.0, 35.0, 11.0, 41.0, 34.0, 50.0, 54.0, 47.0, 57.0, 38.0, 13.0, 21.0, 44.0, 41.0, 35.0, 80.0, 55.0, 17.0, 16.0, 52.0, 57.0, 45.0, 70.0, 32.0, 60.0, 64.0, 24.0, 33.0, 59.0, 64.0, 53.0, 65.0, 26.0, 41.0, 40.0, 25.0, 64.0, 33.0, 21.0, 48.0, 29.0, 54.0, 33.0, 35.0, 33.0, 41.0, 29.0, 50.0, 35.0, 68.0, 32.0, 36.0, 65.0, 28.0, 57.0, 45.0, 35.0, 77.0, 31.0, 42.0, 45.0, 22.0, 36.0, 27.0, 46.0, 28.0, 51.0, 27.0, 67.0, 40.0, 42.0, 40.0, 63.0, 43.0, 53.0, 70.0, 33.0, 80.0, 16.0, 63.0, 41.0, 24.0, 26.0, 20.0, 15.0, 16.0, 70.0, 22.0, 43.0, 38.0, 19.0, 10.0, 47.0, 17.0, 19.0, 24.0, 55.0, 55.0, 21.0, 43.0, 24.0, 32.0, 26.0, 30.0, 56.0, 26.0, 72.0, 35.0, 23.0, 27.0, 50.0, 35.0, 32.0, 11.0, 55.0, 47.0, 22.0, 63.0, 45.0, 35.0, 35.0, 68.0, 35.0, 39.0, 70.0, 36.0, 25.0, 24.0, 44.0, 35.0, 56.0, 50.0, 25.0, 56.0, 60.0, 21.0, 46.0, 20.0, 57.0, 21.0, 52.0, 38.0, 26.0, 18.0, 12.0, 29.0, 52.0, 50.0, 12.0, 20.0, 30.0, 10.0, 15.0, 18.0, 36.0, 69.0, 51.0, 50.0, 55.0, 68.0, 32.0, 4.0, 13.0, 9.0, 19.0, 27.0, 48.0, 42.0, 74.0, 63.0, 40.0, 22.0, 27.0, 42.0, 27.0, 13.0, 75.0, 21.0, 35.0, 19.0, 14.0, 8.0, 46.0, 49.0, 29.0, 30.0, 40.0, 16.0, 15.0, 75.0, 52.0, 36.0, 35.0, 47.0, 41.0, 60.0, 67.0, 47.0, 19.0, 22.0, 25.0, 19.0, 11.0, 19.0, 60.0, 20.0, 37.0, 9.0, 5.0, 10.0, 28.0, 44.0, 58.0, 48.0, 57.0, 8.0, 48.0, 33.0, 28.0, 48.0, 35.0, 11.0, 47.0, 54.0, 40.0, 60.0, 59.0, 32.0, 41.0, 47.0, 28.0, 27.0, 71.0, 65.0, 51.0, 8.0, 29.0, 3.0, 50.0, 25.0, 35.0, 55.0, 17.0, 20.0, 35.0, 22.0, 32.0, 46.0, 43.0, 50.0, 27.0, 31.0, 26.0, 45.0, 29.0, 33.0, 14.0, 68.0, 40.0, 26.0, 67.0, 26.0, 33.0, 6.0, 37.0, 8.0, 22.0, 40.0, 13.0, 50.0, 7.0, 11.0, 34.0, 24.0, 49.0, 31.0, 69.0, 38.0, 31.0, 13.0, 62.0, 59.0, 24.0, 10.0, 16.0, 40.0, 63.0, 67.0, 18.0, 17.0, 46.0, 32.0, 75.0, 58.0, 76.0, 24.0, 60.0, 38.0, 19.0, 38.0, 55.0, 25.0, 40.0, 8.0, 2.0, 13.0, 12.0, 10.0, 49.0, 20.0, 45.0, 51.0, 65.0, 21.0, 25.0, 11.0, 27.0, 12.0, 73.0, 48.0, 56.0, 55.0, 13.0, 29.0, 63.0, 30.0, 24.0, 65.0, 6.0, 29.0, 41.0, 50.0, 22.0, 30.0, 9.0, 50.0, 48.0, 55.0, 36.0, 74.0, 37.0, 60.0, 8.0, 18.0, 27.0, 16.0, 35.0, 20.0, 14.0, 45.0, 39.0, 62.0, 34.0, 36.0, 74.0, 35.0, 38.0, 13.0, 48.0, 28.0, 19.0, 45.0, 38.0, 40.0, 69.0, 66.0, 7.0, 28.0, 55.0, 24.0, 8.0, 5.0, 57.0, 43.0, 66.0, 40.0, 47.0, 14.0, 17.0, 20.0, 29.0, 21.0, 28.0, 23.0, 25.0, 31.0, 49.0, 30.0, 26.0, 20.0, 29.0, 6.0, 18.0, 80.0, 3.0, 5.0, 40.0, 48.0, 32.0, 43.0, 32.0, 65.0, 39.0, 65.0, 26.0, 10.0, 51.0, 35.0, 69.0, 33.0, 50.0, 51.0, 75.0, 51.0, 29.0, 26.0, 35.0, 33.0, 35.0, 36.0, 59.0, 52.0, 39.0, 41.0, 30.0, 27.0, 35.0, 26.0, 23.0, 35.0, 28.0, 32.0, 72.0, 1.0, 38.0, 25.0, 32.0, 35.0, 25.0, 60.0, 60.0, 28.0, 35.0, 60.0, 13.0, 65.0, 51.0, 42.0, 33.0, 16.0, 65.0, 30.0, 54.0, 58.0, 54.0, 37.0, 43.0, 47.0, 25.0, 45.0, 30.0, 43.0, 50.0, 35.0, 25.0, 64.0, 23.0, 52.0, 59.0, 12.0, 65.0, 66.0, 37.0, 70.0, 1.5, 38.0, 26.0, 55.0, 67.0, 35.0, 36.0, 48.0, 22.0, 25.0, 60.0, 35.0, 44.0, 40.0, 30.0], \"xaxis\": \"x\", \"yaxis\": \"y\"}],\n",
              "                        {\"annotations\": [{\"font\": {\"size\": 16}, \"showarrow\": false, \"text\": \"Cases vs Age\", \"x\": 0.36000000000000004, \"xanchor\": \"center\", \"xref\": \"paper\", \"y\": 1.0, \"yanchor\": \"bottom\", \"yref\": \"paper\"}], \"barmode\": \"stack\", \"showlegend\": false, \"template\": {\"data\": {\"bar\": [{\"error_x\": {\"color\": \"#2a3f5f\"}, \"error_y\": {\"color\": \"#2a3f5f\"}, \"marker\": {\"line\": {\"color\": \"#E5ECF6\", \"width\": 0.5}}, \"type\": \"bar\"}], \"barpolar\": [{\"marker\": {\"line\": {\"color\": \"#E5ECF6\", \"width\": 0.5}}, \"type\": \"barpolar\"}], \"carpet\": [{\"aaxis\": {\"endlinecolor\": \"#2a3f5f\", \"gridcolor\": \"white\", \"linecolor\": \"white\", \"minorgridcolor\": \"white\", \"startlinecolor\": \"#2a3f5f\"}, \"baxis\": {\"endlinecolor\": \"#2a3f5f\", \"gridcolor\": \"white\", \"linecolor\": \"white\", \"minorgridcolor\": \"white\", \"startlinecolor\": \"#2a3f5f\"}, \"type\": \"carpet\"}], \"choropleth\": [{\"colorbar\": {\"outlinewidth\": 0, \"ticks\": \"\"}, \"type\": \"choropleth\"}], \"contour\": [{\"colorbar\": {\"outlinewidth\": 0, \"ticks\": \"\"}, \"colorscale\": [[0.0, \"#0d0887\"], [0.1111111111111111, \"#46039f\"], [0.2222222222222222, \"#7201a8\"], [0.3333333333333333, \"#9c179e\"], [0.4444444444444444, \"#bd3786\"], [0.5555555555555556, \"#d8576b\"], [0.6666666666666666, \"#ed7953\"], [0.7777777777777778, \"#fb9f3a\"], [0.8888888888888888, \"#fdca26\"], [1.0, \"#f0f921\"]], \"type\": \"contour\"}], \"contourcarpet\": [{\"colorbar\": {\"outlinewidth\": 0, \"ticks\": \"\"}, \"type\": \"contourcarpet\"}], \"heatmap\": [{\"colorbar\": {\"outlinewidth\": 0, \"ticks\": \"\"}, \"colorscale\": [[0.0, \"#0d0887\"], [0.1111111111111111, \"#46039f\"], [0.2222222222222222, \"#7201a8\"], [0.3333333333333333, \"#9c179e\"], [0.4444444444444444, \"#bd3786\"], [0.5555555555555556, \"#d8576b\"], [0.6666666666666666, \"#ed7953\"], [0.7777777777777778, \"#fb9f3a\"], [0.8888888888888888, \"#fdca26\"], [1.0, \"#f0f921\"]], \"type\": \"heatmap\"}], \"heatmapgl\": [{\"colorbar\": {\"outlinewidth\": 0, \"ticks\": \"\"}, \"colorscale\": [[0.0, \"#0d0887\"], [0.1111111111111111, \"#46039f\"], [0.2222222222222222, \"#7201a8\"], [0.3333333333333333, \"#9c179e\"], [0.4444444444444444, \"#bd3786\"], [0.5555555555555556, \"#d8576b\"], [0.6666666666666666, \"#ed7953\"], [0.7777777777777778, \"#fb9f3a\"], [0.8888888888888888, \"#fdca26\"], [1.0, \"#f0f921\"]], \"type\": \"heatmapgl\"}], \"histogram\": [{\"marker\": {\"colorbar\": {\"outlinewidth\": 0, \"ticks\": \"\"}}, \"type\": \"histogram\"}], \"histogram2d\": [{\"colorbar\": {\"outlinewidth\": 0, \"ticks\": \"\"}, \"colorscale\": [[0.0, \"#0d0887\"], [0.1111111111111111, \"#46039f\"], [0.2222222222222222, \"#7201a8\"], [0.3333333333333333, \"#9c179e\"], [0.4444444444444444, \"#bd3786\"], [0.5555555555555556, \"#d8576b\"], [0.6666666666666666, \"#ed7953\"], [0.7777777777777778, \"#fb9f3a\"], [0.8888888888888888, \"#fdca26\"], [1.0, \"#f0f921\"]], \"type\": \"histogram2d\"}], \"histogram2dcontour\": [{\"colorbar\": {\"outlinewidth\": 0, \"ticks\": \"\"}, \"colorscale\": [[0.0, \"#0d0887\"], [0.1111111111111111, \"#46039f\"], [0.2222222222222222, \"#7201a8\"], [0.3333333333333333, \"#9c179e\"], [0.4444444444444444, \"#bd3786\"], [0.5555555555555556, \"#d8576b\"], [0.6666666666666666, \"#ed7953\"], [0.7777777777777778, \"#fb9f3a\"], [0.8888888888888888, \"#fdca26\"], [1.0, \"#f0f921\"]], \"type\": \"histogram2dcontour\"}], \"mesh3d\": [{\"colorbar\": {\"outlinewidth\": 0, \"ticks\": \"\"}, \"type\": \"mesh3d\"}], \"parcoords\": [{\"line\": {\"colorbar\": {\"outlinewidth\": 0, \"ticks\": \"\"}}, \"type\": \"parcoords\"}], \"pie\": [{\"automargin\": true, \"type\": \"pie\"}], \"scatter\": [{\"marker\": {\"colorbar\": {\"outlinewidth\": 0, \"ticks\": \"\"}}, \"type\": \"scatter\"}], \"scatter3d\": [{\"line\": {\"colorbar\": {\"outlinewidth\": 0, \"ticks\": \"\"}}, \"marker\": {\"colorbar\": {\"outlinewidth\": 0, \"ticks\": \"\"}}, \"type\": \"scatter3d\"}], \"scattercarpet\": [{\"marker\": {\"colorbar\": {\"outlinewidth\": 0, \"ticks\": \"\"}}, \"type\": \"scattercarpet\"}], \"scattergeo\": [{\"marker\": {\"colorbar\": {\"outlinewidth\": 0, \"ticks\": \"\"}}, \"type\": \"scattergeo\"}], \"scattergl\": [{\"marker\": {\"colorbar\": {\"outlinewidth\": 0, \"ticks\": \"\"}}, \"type\": \"scattergl\"}], \"scattermapbox\": [{\"marker\": {\"colorbar\": {\"outlinewidth\": 0, \"ticks\": \"\"}}, \"type\": \"scattermapbox\"}], \"scatterpolar\": [{\"marker\": {\"colorbar\": {\"outlinewidth\": 0, \"ticks\": \"\"}}, \"type\": \"scatterpolar\"}], \"scatterpolargl\": [{\"marker\": {\"colorbar\": {\"outlinewidth\": 0, \"ticks\": \"\"}}, \"type\": \"scatterpolargl\"}], \"scatterternary\": [{\"marker\": {\"colorbar\": {\"outlinewidth\": 0, \"ticks\": \"\"}}, \"type\": \"scatterternary\"}], \"surface\": [{\"colorbar\": {\"outlinewidth\": 0, \"ticks\": \"\"}, \"colorscale\": [[0.0, \"#0d0887\"], [0.1111111111111111, \"#46039f\"], [0.2222222222222222, \"#7201a8\"], [0.3333333333333333, \"#9c179e\"], [0.4444444444444444, \"#bd3786\"], [0.5555555555555556, \"#d8576b\"], [0.6666666666666666, \"#ed7953\"], [0.7777777777777778, \"#fb9f3a\"], [0.8888888888888888, \"#fdca26\"], [1.0, \"#f0f921\"]], \"type\": \"surface\"}], \"table\": [{\"cells\": {\"fill\": {\"color\": \"#EBF0F8\"}, \"line\": {\"color\": \"white\"}}, \"header\": {\"fill\": {\"color\": \"#C8D4E3\"}, \"line\": {\"color\": \"white\"}}, \"type\": \"table\"}]}, \"layout\": {\"annotationdefaults\": {\"arrowcolor\": \"#2a3f5f\", \"arrowhead\": 0, \"arrowwidth\": 1}, \"coloraxis\": {\"colorbar\": {\"outlinewidth\": 0, \"ticks\": \"\"}}, \"colorscale\": {\"diverging\": [[0, \"#8e0152\"], [0.1, \"#c51b7d\"], [0.2, \"#de77ae\"], [0.3, \"#f1b6da\"], [0.4, \"#fde0ef\"], [0.5, \"#f7f7f7\"], [0.6, \"#e6f5d0\"], [0.7, \"#b8e186\"], [0.8, \"#7fbc41\"], [0.9, \"#4d9221\"], [1, \"#276419\"]], \"sequential\": [[0.0, \"#0d0887\"], [0.1111111111111111, \"#46039f\"], [0.2222222222222222, \"#7201a8\"], [0.3333333333333333, \"#9c179e\"], [0.4444444444444444, \"#bd3786\"], [0.5555555555555556, \"#d8576b\"], [0.6666666666666666, \"#ed7953\"], [0.7777777777777778, \"#fb9f3a\"], [0.8888888888888888, \"#fdca26\"], [1.0, \"#f0f921\"]], \"sequentialminus\": [[0.0, \"#0d0887\"], [0.1111111111111111, \"#46039f\"], [0.2222222222222222, \"#7201a8\"], [0.3333333333333333, \"#9c179e\"], [0.4444444444444444, \"#bd3786\"], [0.5555555555555556, \"#d8576b\"], [0.6666666666666666, \"#ed7953\"], [0.7777777777777778, \"#fb9f3a\"], [0.8888888888888888, \"#fdca26\"], [1.0, \"#f0f921\"]]}, \"colorway\": [\"#636efa\", \"#EF553B\", \"#00cc96\", \"#ab63fa\", \"#FFA15A\", \"#19d3f3\", \"#FF6692\", \"#B6E880\", \"#FF97FF\", \"#FECB52\"], \"font\": {\"color\": \"#2a3f5f\"}, \"geo\": {\"bgcolor\": \"white\", \"lakecolor\": \"white\", \"landcolor\": \"#E5ECF6\", \"showlakes\": true, \"showland\": true, \"subunitcolor\": \"white\"}, \"hoverlabel\": {\"align\": \"left\"}, \"hovermode\": \"closest\", \"mapbox\": {\"style\": \"light\"}, \"paper_bgcolor\": \"white\", \"plot_bgcolor\": \"#E5ECF6\", \"polar\": {\"angularaxis\": {\"gridcolor\": \"white\", \"linecolor\": \"white\", \"ticks\": \"\"}, \"bgcolor\": \"#E5ECF6\", \"radialaxis\": {\"gridcolor\": \"white\", \"linecolor\": \"white\", \"ticks\": \"\"}}, \"scene\": {\"xaxis\": {\"backgroundcolor\": \"#E5ECF6\", \"gridcolor\": \"white\", \"gridwidth\": 2, \"linecolor\": \"white\", \"showbackground\": true, \"ticks\": \"\", \"zerolinecolor\": \"white\"}, \"yaxis\": {\"backgroundcolor\": \"#E5ECF6\", \"gridcolor\": \"white\", \"gridwidth\": 2, \"linecolor\": \"white\", \"showbackground\": true, \"ticks\": \"\", \"zerolinecolor\": \"white\"}, \"zaxis\": {\"backgroundcolor\": \"#E5ECF6\", \"gridcolor\": \"white\", \"gridwidth\": 2, \"linecolor\": \"white\", \"showbackground\": true, \"ticks\": \"\", \"zerolinecolor\": \"white\"}}, \"shapedefaults\": {\"line\": {\"color\": \"#2a3f5f\"}}, \"ternary\": {\"aaxis\": {\"gridcolor\": \"white\", \"linecolor\": \"white\", \"ticks\": \"\"}, \"baxis\": {\"gridcolor\": \"white\", \"linecolor\": \"white\", \"ticks\": \"\"}, \"bgcolor\": \"#E5ECF6\", \"caxis\": {\"gridcolor\": \"white\", \"linecolor\": \"white\", \"ticks\": \"\"}}, \"title\": {\"x\": 0.05}, \"xaxis\": {\"automargin\": true, \"gridcolor\": \"white\", \"linecolor\": \"white\", \"ticks\": \"\", \"title\": {\"standoff\": 15}, \"zerolinecolor\": \"white\", \"zerolinewidth\": 2}, \"yaxis\": {\"automargin\": true, \"gridcolor\": \"white\", \"linecolor\": \"white\", \"ticks\": \"\", \"title\": {\"standoff\": 15}, \"zerolinecolor\": \"white\", \"zerolinewidth\": 2}}}, \"xaxis\": {\"anchor\": \"y\", \"domain\": [0.0, 0.7200000000000001]}, \"yaxis\": {\"anchor\": \"x\", \"domain\": [0.0, 1.0]}},\n",
              "                        {\"responsive\": true}\n",
              "                    ).then(function(){\n",
              "                            \n",
              "var gd = document.getElementById('0fb27b34-41e2-4004-a50e-0745fe768f32');\n",
              "var x = new MutationObserver(function (mutations, observer) {{\n",
              "        var display = window.getComputedStyle(gd).display;\n",
              "        if (!display || display === 'none') {{\n",
              "            console.log([gd, 'removed!']);\n",
              "            Plotly.purge(gd);\n",
              "            observer.disconnect();\n",
              "        }}\n",
              "}});\n",
              "\n",
              "// Listen for the removal of the full notebook cells\n",
              "var notebookContainer = gd.closest('#notebook-container');\n",
              "if (notebookContainer) {{\n",
              "    x.observe(notebookContainer, {childList: true});\n",
              "}}\n",
              "\n",
              "// Listen for the clearing of the current output cell\n",
              "var outputEl = gd.closest('.output');\n",
              "if (outputEl) {{\n",
              "    x.observe(outputEl, {childList: true});\n",
              "}}\n",
              "\n",
              "                        })\n",
              "                };\n",
              "                \n",
              "            </script>\n",
              "        </div>\n",
              "</body>\n",
              "</html>"
            ]
          },
          "metadata": {
            "tags": []
          }
        }
      ]
    },
    {
      "cell_type": "markdown",
      "metadata": {
        "colab_type": "text",
        "id": "8wdT5nLutl0O"
      },
      "source": [
        "## Covid-19 cases Gender Vs Age Brackets along with gender distribution"
      ]
    },
    {
      "cell_type": "code",
      "metadata": {
        "colab_type": "code",
        "id": "Ota6G_wOtl0O",
        "outputId": "3df1d4cf-457c-4a9d-ff47-35b0d1f74027",
        "colab": {
          "base_uri": "https://localhost:8080/",
          "height": 593
        }
      },
      "source": [
        "fig = plotly.subplots.make_subplots(\n",
        "    rows=1, cols=2, column_widths=[0.8, 0.2],\n",
        "    subplot_titles = ['Gender vs Age', ''],\n",
        "    specs=[[{\"type\": \"histogram\"}, {\"type\": \"pie\"}]]\n",
        ")\n",
        "\n",
        "temp = df[['agebracket', 'gender']].dropna()\n",
        "print('Total no. of values :', df.shape[0], '\\nNo. of missing values :', df.shape[0]-temp.shape[0], '\\nNo. of available values :', df.shape[0]-(df.shape[0]-temp.shape[0]))\n",
        "gen_grp = temp.groupby('gender').count()\n",
        "\n",
        "fig.add_trace(go.Histogram(x=temp[temp['gender']=='F']['agebracket'], nbinsx=50, name='Female', marker_color='#6a0572'), 1, 1)\n",
        "fig.add_trace(go.Histogram(x=temp[temp['gender']=='M']['agebracket'], nbinsx=50, name='Male', marker_color='#39065a'), 1, 1)\n",
        "\n",
        "fig.add_trace(go.Pie(values=gen_grp.values.reshape(-1).tolist(), labels=['Female', 'Male'], marker_colors = ['#6a0572', '#39065a']),1, 2)\n",
        "\n",
        "fig.update_layout(showlegend=False)\n",
        "fig.update_layout(barmode='stack')\n",
        "fig.data[2].textinfo = 'label+text+value+percent'\n",
        "\n",
        "fig.show()"
      ],
      "execution_count": 0,
      "outputs": [
        {
          "output_type": "stream",
          "text": [
            "Total no. of values : 13060 \n",
            "No. of missing values : 11509 \n",
            "No. of available values : 1551\n"
          ],
          "name": "stdout"
        },
        {
          "output_type": "display_data",
          "data": {
            "text/html": [
              "<html>\n",
              "<head><meta charset=\"utf-8\" /></head>\n",
              "<body>\n",
              "    <div>\n",
              "            <script src=\"https://cdnjs.cloudflare.com/ajax/libs/mathjax/2.7.5/MathJax.js?config=TeX-AMS-MML_SVG\"></script><script type=\"text/javascript\">if (window.MathJax) {MathJax.Hub.Config({SVG: {font: \"STIX-Web\"}});}</script>\n",
              "                <script type=\"text/javascript\">window.PlotlyConfig = {MathJaxConfig: 'local'};</script>\n",
              "        <script src=\"https://cdn.plot.ly/plotly-latest.min.js\"></script>    \n",
              "            <div id=\"c03109c1-7c0d-4f33-a4ae-edfd5e156c70\" class=\"plotly-graph-div\" style=\"height:525px; width:100%;\"></div>\n",
              "            <script type=\"text/javascript\">\n",
              "                \n",
              "                    window.PLOTLYENV=window.PLOTLYENV || {};\n",
              "                    \n",
              "                if (document.getElementById(\"c03109c1-7c0d-4f33-a4ae-edfd5e156c70\")) {\n",
              "                    Plotly.newPlot(\n",
              "                        'c03109c1-7c0d-4f33-a4ae-edfd5e156c70',\n",
              "                        [{\"marker\": {\"color\": \"#6a0572\"}, \"name\": \"Female\", \"nbinsx\": 50, \"type\": \"histogram\", \"x\": [20.0, 70.0, 45.0, 53.0, 61.0, 25.0, 63.0, 47.0, 13.0, 89.0, 3.0, 68.0, 69.0, 59.0, 45.0, 33.0, 3.0, 44.0, 51.0, 29.0, 20.0, 67.0, 68.0, 22.0, 28.0, 56.0, 68.0, 67.0, 30.0, 3.0, 38.0, 23.0, 22.0, 49.0, 24.0, 21.0, 22.0, 69.0, 22.0, 34.0, 20.0, 41.0, 18.0, 69.0, 26.0, 52.0, 63.0, 45.0, 22.0, 23.0, 74.0, 28.0, 41.0, 24.0, 26.0, 38.0, 53.0, 19.0, 40.0, 36.0, 23.0, 59.0, 30.0, 60.0, 64.0, 25.0, 81.0, 26.0, 50.0, 41.0, 21.0, 64.0, 36.0, 62.0, 47.0, 20.0, 64.0, 49.0, 57.0, 27.0, 29.0, 24.0, 46.0, 85.0, 26.0, 61.0, 30.0, 38.0, 45.0, 45.0, 23.0, 56.0, 54.0, 52.0, 25.0, 39.0, 61.0, 56.0, 47.0, 57.0, 70.0, 55.0, 64.0, 75.0, 65.0, 21.0, 37.0, 59.0, 63.0, 9.0, 7.0, 55.0, 24.0, 43.0, 21.0, 33.0, 40.0, 36.0, 70.0, 21.0, 65.0, 44.0, 25.0, 25.0, 35.0, 33.0, 53.0, 18.0, 14.0, 27.0, 45.0, 6.0, 1.0, 73.0, 45.0, 33.0, 21.0, 54.0, 28.0, 23.0, 32.0, 63.0, 40.0, 11.0, 35.0, 33.0, 76.0, 56.0, 54.0, 50.0, 44.0, 17.0, 53.0, 67.0, 19.0, 35.0, 29.0, 58.0, 51.0, 40.0, 45.0, 52.0, 76.0, 15.0, 50.0, 32.0, 40.0, 48.0, 26.0, 17.0, 48.0, 34.0, 28.0, 65.0, 40.0, 22.0, 56.0, 43.0, 60.0, 62.0, 45.0, 65.0, 58.0, 36.0, 20.0, 72.0, 18.0, 52.0, 52.0, 72.0, 32.0, 32.0, 27.0, 36.0, 27.0, 36.0, 18.0, 10.0, 10.0, 53.0, 61.0, 60.0, 70.0, 35.0, 27.0, 1.0, 60.0, 30.0, 7.0, 69.0, 47.0, 63.0, 75.0, 61.0, 48.0, 27.0, 75.0, 34.0, 40.0, 62.0, 44.0, 36.0, 67.0, 41.0, 80.0, 28.0, 40.0, 32.0, 76.0, 62.0, 33.0, 54.0, 19.0, 50.0, 50.0, 35.0, 41.0, 50.0, 47.0, 38.0, 13.0, 41.0, 80.0, 55.0, 52.0, 57.0, 45.0, 70.0, 60.0, 64.0, 24.0, 33.0, 59.0, 29.0, 41.0, 80.0, 28.0, 45.0, 22.0, 36.0, 46.0, 28.0, 67.0, 42.0, 63.0, 53.0, 80.0, 16.0, 41.0, 20.0, 70.0, 19.0, 10.0, 47.0, 43.0, 24.0, 32.0, 26.0, 30.0, 26.0, 72.0, 27.0, 47.0, 45.0, 35.0, 25.0, 44.0, 50.0, 60.0, 21.0, 26.0, 18.0, 12.0, 29.0, 50.0, 12.0, 20.0, 51.0, 9.0, 48.0, 42.0, 74.0, 40.0, 75.0, 21.0, 35.0, 8.0, 40.0, 36.0, 35.0, 60.0, 19.0, 22.0, 25.0, 19.0, 11.0, 37.0, 9.0, 5.0, 10.0, 44.0, 48.0, 28.0, 48.0, 11.0, 59.0, 47.0, 28.0, 27.0, 71.0, 65.0, 8.0, 29.0, 3.0, 50.0, 25.0, 35.0, 55.0, 17.0, 35.0, 50.0, 26.0, 6.0, 13.0, 50.0, 7.0, 11.0, 34.0, 24.0, 31.0, 62.0, 59.0, 16.0, 17.0, 46.0, 75.0, 24.0, 60.0, 38.0, 8.0, 12.0, 20.0, 51.0, 65.0, 25.0, 11.0, 27.0, 12.0, 24.0, 29.0, 41.0, 22.0, 30.0, 9.0, 74.0, 60.0, 8.0, 16.0, 35.0, 36.0, 19.0, 7.0, 28.0, 55.0, 24.0, 8.0, 57.0, 20.0, 29.0, 23.0, 25.0, 29.0, 18.0, 3.0, 5.0, 48.0, 32.0, 32.0, 39.0, 10.0, 35.0, 51.0, 33.0, 35.0, 38.0, 32.0, 35.0, 25.0, 28.0, 80.0, 65.0, 51.0, 16.0, 65.0, 30.0, 54.0, 58.0, 54.0, 45.0, 23.0, 59.0, 70.0, 1.5, 26.0, 55.0, 22.0, 60.0, 40.0, 30.0], \"xaxis\": \"x\", \"yaxis\": \"y\"}, {\"marker\": {\"color\": \"#39065a\"}, \"name\": \"Male\", \"nbinsx\": 50, \"type\": \"histogram\", \"x\": [45.0, 24.0, 69.0, 16.0, 27.0, 59.0, 65.0, 75.0, 45.0, 24.0, 54.0, 65.0, 46.0, 3.0, 48.0, 40.0, 96.0, 85.0, 46.0, 70.0, 27.0, 26.0, 76.0, 65.0, 45.0, 33.0, 33.0, 27.0, 37.0, 43.0, 21.0, 24.0, 32.0, 31.0, 63.0, 49.0, 26.0, 52.0, 18.0, 34.0, 25.0, 22.0, 25.0, 27.0, 44.0, 20.0, 35.0, 21.0, 33.0, 35.0, 24.0, 21.0, 70.0, 47.0, 32.0, 51.0, 19.0, 65.0, 22.0, 32.0, 22.0, 58.0, 24.0, 38.0, 20.0, 47.0, 37.0, 35.0, 27.0, 21.0, 52.0, 27.0, 32.0, 59.0, 24.0, 27.0, 60.0, 32.0, 53.0, 20.0, 42.0, 59.0, 63.0, 32.0, 67.0, 26.0, 39.0, 35.0, 33.0, 69.0, 75.0, 65.0, 35.0, 34.0, 45.0, 17.0, 60.0, 54.0, 21.0, 35.0, 57.0, 22.0, 24.0, 31.0, 30.0, 33.0, 32.0, 21.0, 35.0, 38.0, 24.0, 58.0, 27.0, 32.0, 41.0, 33.0, 26.0, 34.0, 23.0, 23.0, 22.0, 32.0, 24.0, 27.0, 69.0, 27.0, 51.0, 37.0, 48.0, 53.0, 43.0, 36.0, 46.0, 45.0, 58.0, 33.0, 49.0, 61.0, 21.0, 30.0, 23.0, 21.0, 20.0, 25.0, 56.0, 32.0, 49.0, 24.0, 30.0, 31.0, 41.0, 34.0, 40.0, 37.0, 38.0, 41.0, 24.0, 60.0, 22.0, 69.0, 2.0, 25.0, 25.0, 48.0, 54.0, 24.0, 35.0, 41.0, 32.0, 40.0, 65.0, 65.0, 53.0, 58.0, 74.0, 49.0, 47.0, 55.0, 65.0, 57.0, 23.0, 25.0, 65.0, 25.0, 36.0, 57.0, 36.0, 50.0, 57.0, 27.0, 39.0, 38.0, 63.0, 34.0, 22.0, 23.0, 37.0, 63.0, 26.0, 26.0, 69.0, 31.0, 26.0, 23.0, 3.0, 22.0, 18.0, 26.0, 63.0, 52.0, 25.0, 29.0, 55.0, 66.0, 39.0, 32.0, 12.0, 49.0, 41.0, 45.0, 35.0, 35.0, 64.0, 45.0, 42.0, 24.0, 7.0, 1.0, 49.0, 39.0, 36.0, 32.0, 21.0, 24.0, 20.0, 29.0, 60.0, 45.0, 37.0, 53.0, 54.0, 35.0, 22.0, 42.0, 46.0, 23.0, 1.0, 20.0, 60.0, 22.0, 38.0, 30.0, 42.0, 41.0, 53.0, 47.0, 18.0, 21.0, 11.0, 61.0, 39.0, 22.0, 50.0, 37.0, 39.0, 25.0, 65.0, 42.0, 49.0, 66.0, 23.0, 25.0, 23.0, 70.0, 38.0, 18.0, 21.0, 45.0, 56.0, 63.0, 18.0, 35.0, 60.0, 74.0, 21.0, 25.0, 20.0, 24.0, 36.0, 52.0, 31.0, 50.0, 23.0, 58.0, 21.0, 60.0, 65.0, 39.0, 38.0, 21.0, 31.0, 42.0, 30.0, 21.0, 40.0, 48.0, 21.0, 38.0, 47.0, 34.0, 21.0, 53.0, 34.0, 37.0, 19.0, 68.0, 1.0, 45.0, 48.0, 67.0, 62.0, 35.0, 29.0, 47.0, 52.0, 66.0, 53.0, 20.0, 35.0, 41.0, 38.0, 50.0, 92.0, 55.0, 65.0, 49.0, 72.0, 25.0, 20.0, 42.0, 77.0, 32.0, 23.0, 23.0, 13.0, 32.0, 34.0, 21.0, 24.0, 81.0, 52.0, 44.0, 65.0, 60.0, 35.0, 55.0, 43.0, 28.0, 10.0, 31.0, 32.0, 28.0, 39.0, 42.0, 39.0, 32.0, 59.0, 44.0, 28.0, 46.0, 35.0, 65.0, 40.0, 19.0, 35.0, 41.0, 34.0, 26.0, 57.0, 23.0, 52.0, 40.0, 35.0, 31.0, 36.0, 27.0, 35.0, 70.0, 23.0, 21.0, 70.0, 29.0, 31.0, 40.0, 58.0, 31.0, 52.0, 18.0, 68.0, 54.0, 67.0, 40.0, 54.0, 50.0, 41.0, 25.0, 50.0, 20.0, 54.0, 40.0, 26.0, 40.0, 41.0, 46.0, 53.0, 36.0, 35.0, 39.0, 36.0, 39.0, 27.0, 45.0, 34.0, 47.0, 48.0, 39.0, 44.0, 54.0, 45.0, 30.0, 33.0, 50.0, 50.0, 53.0, 46.0, 50.0, 39.0, 31.0, 35.0, 80.0, 35.0, 24.0, 37.0, 27.0, 33.0, 65.0, 28.0, 40.0, 34.0, 36.0, 41.0, 38.0, 39.0, 40.0, 30.0, 45.0, 57.0, 32.0, 34.0, 45.0, 52.0, 40.0, 46.0, 37.0, 47.0, 33.0, 21.0, 44.0, 39.0, 38.0, 55.0, 31.0, 51.0, 34.0, 40.0, 50.0, 43.0, 33.0, 38.0, 37.0, 26.0, 54.0, 60.0, 50.0, 63.0, 55.0, 56.0, 66.0, 52.0, 63.0, 27.0, 40.0, 48.0, 54.0, 71.0, 31.0, 50.0, 48.0, 68.0, 36.0, 47.0, 55.0, 22.0, 55.0, 35.0, 35.0, 48.0, 42.0, 48.0, 38.0, 40.0, 58.0, 42.0, 40.0, 27.0, 39.0, 41.0, 38.0, 25.0, 42.0, 66.0, 11.0, 15.0, 17.0, 50.0, 36.0, 42.0, 27.0, 78.0, 49.0, 26.0, 63.0, 63.0, 25.0, 16.0, 42.0, 43.0, 43.0, 40.0, 72.0, 72.0, 40.0, 61.0, 36.0, 52.0, 52.0, 31.0, 10.0, 40.0, 43.0, 34.0, 42.0, 43.0, 32.0, 47.0, 31.0, 36.0, 35.0, 37.0, 39.0, 46.0, 33.0, 43.0, 23.0, 52.0, 65.0, 48.0, 30.0, 41.0, 66.0, 59.0, 39.0, 60.0, 63.0, 73.0, 45.0, 60.0, 38.0, 10.0, 7.0, 36.0, 24.0, 22.0, 14.0, 28.0, 17.0, 35.0, 68.0, 65.0, 75.0, 51.0, 70.0, 26.0, 20.0, 37.0, 32.0, 30.0, 58.0, 34.0, 56.0, 16.0, 21.0, 57.0, 43.0, 78.0, 60.0, 38.0, 19.0, 39.0, 39.0, 54.0, 40.0, 34.0, 43.0, 52.0, 60.0, 35.0, 45.0, 60.0, 33.0, 47.0, 45.0, 33.0, 34.0, 32.0, 52.0, 35.0, 36.0, 40.0, 45.0, 25.0, 35.0, 17.0, 27.0, 37.0, 45.0, 28.0, 30.0, 37.0, 43.0, 37.0, 35.0, 65.0, 48.0, 45.0, 33.0, 50.0, 65.0, 55.0, 17.0, 42.0, 56.0, 16.0, 18.0, 41.0, 55.0, 26.0, 60.0, 54.0, 34.0, 68.0, 70.0, 29.0, 42.0, 81.0, 7.0, 40.0, 41.0, 20.0, 28.0, 22.0, 44.0, 30.0, 60.0, 59.0, 19.0, 77.0, 30.0, 32.0, 31.0, 50.0, 52.0, 36.0, 31.0, 31.0, 45.0, 32.0, 36.0, 37.0, 55.0, 38.0, 43.0, 23.0, 43.0, 1.0, 50.0, 52.0, 62.0, 90.0, 48.0, 20.0, 37.0, 39.0, 37.0, 32.0, 35.0, 24.0, 38.0, 38.0, 16.0, 60.0, 51.0, 47.0, 52.0, 27.0, 15.0, 39.0, 29.0, 52.0, 54.0, 28.0, 55.0, 34.0, 32.0, 20.0, 37.0, 57.0, 22.0, 26.0, 35.0, 58.0, 43.0, 26.0, 32.0, 25.0, 62.0, 32.0, 32.0, 46.0, 38.0, 47.0, 45.0, 34.0, 40.0, 42.0, 30.0, 30.0, 21.0, 43.0, 12.0, 65.0, 53.0, 18.0, 11.0, 34.0, 54.0, 57.0, 21.0, 44.0, 35.0, 17.0, 16.0, 32.0, 64.0, 53.0, 65.0, 26.0, 41.0, 40.0, 25.0, 64.0, 33.0, 21.0, 48.0, 54.0, 33.0, 35.0, 33.0, 29.0, 50.0, 35.0, 68.0, 32.0, 36.0, 65.0, 57.0, 45.0, 72.0, 35.0, 77.0, 71.0, 31.0, 42.0, 27.0, 51.0, 27.0, 40.0, 40.0, 43.0, 70.0, 33.0, 63.0, 24.0, 26.0, 15.0, 16.0, 22.0, 43.0, 38.0, 17.0, 19.0, 24.0, 55.0, 55.0, 21.0, 56.0, 65.0, 35.0, 23.0, 50.0, 11.0, 55.0, 22.0, 63.0, 35.0, 68.0, 35.0, 39.0, 70.0, 36.0, 24.0, 35.0, 56.0, 25.0, 56.0, 46.0, 20.0, 57.0, 21.0, 52.0, 38.0, 52.0, 30.0, 10.0, 15.0, 18.0, 36.0, 69.0, 50.0, 55.0, 68.0, 32.0, 4.0, 13.0, 19.0, 27.0, 63.0, 22.0, 27.0, 66.0, 42.0, 27.0, 13.0, 19.0, 14.0, 46.0, 49.0, 29.0, 30.0, 16.0, 15.0, 75.0, 52.0, 47.0, 41.0, 67.0, 47.0, 19.0, 60.0, 20.0, 28.0, 58.0, 48.0, 57.0, 8.0, 33.0, 55.0, 35.0, 40.0, 60.0, 32.0, 41.0, 51.0, 20.0, 22.0, 32.0, 46.0, 43.0, 27.0, 31.0, 26.0, 45.0, 29.0, 33.0, 26.0, 67.0, 33.0, 37.0, 8.0, 22.0, 40.0, 49.0, 31.0, 69.0, 38.0, 13.0, 24.0, 10.0, 40.0, 63.0, 67.0, 18.0, 32.0, 58.0, 76.0, 19.0, 38.0, 55.0, 25.0, 40.0, 2.0, 13.0, 10.0, 49.0, 45.0, 21.0, 73.0, 48.0, 56.0, 55.0, 13.0, 29.0, 63.0, 30.0, 65.0, 6.0, 50.0, 50.0, 48.0, 55.0, 36.0, 37.0, 18.0, 27.0, 20.0, 14.0, 45.0, 39.0, 62.0, 34.0, 74.0, 35.0, 38.0, 13.0, 48.0, 28.0, 45.0, 38.0, 40.0, 69.0, 66.0, 5.0, 43.0, 66.0, 40.0, 47.0, 14.0, 17.0, 21.0, 28.0, 31.0, 49.0, 30.0, 26.0, 20.0, 6.0, 80.0, 40.0, 43.0, 65.0, 65.0, 26.0, 51.0, 69.0, 33.0, 50.0, 75.0, 51.0, 29.0, 26.0, 35.0, 36.0, 59.0, 52.0, 39.0, 41.0, 30.0, 27.0, 35.0, 26.0, 23.0, 35.0, 28.0, 32.0, 72.0, 1.0, 25.0, 60.0, 60.0, 35.0, 60.0, 13.0, 42.0, 33.0, 37.0, 43.0, 47.0, 25.0, 30.0, 43.0, 50.0, 35.0, 25.0, 64.0, 52.0, 12.0, 65.0, 66.0, 37.0, 38.0, 67.0, 35.0, 36.0, 48.0, 25.0, 35.0, 44.0], \"xaxis\": \"x\", \"yaxis\": \"y\"}, {\"domain\": {\"x\": [0.8200000000000001, 1.0], \"y\": [0.0, 1.0]}, \"labels\": [\"Female\", \"Male\"], \"marker\": {\"colors\": [\"#6a0572\", \"#39065a\"]}, \"textinfo\": \"label+text+value+percent\", \"type\": \"pie\", \"values\": [75, 429, 1047]}],\n",
              "                        {\"annotations\": [{\"font\": {\"size\": 16}, \"showarrow\": false, \"text\": \"Gender vs Age\", \"x\": 0.36000000000000004, \"xanchor\": \"center\", \"xref\": \"paper\", \"y\": 1.0, \"yanchor\": \"bottom\", \"yref\": \"paper\"}], \"barmode\": \"stack\", \"showlegend\": false, \"template\": {\"data\": {\"bar\": [{\"error_x\": {\"color\": \"#2a3f5f\"}, \"error_y\": {\"color\": \"#2a3f5f\"}, \"marker\": {\"line\": {\"color\": \"#E5ECF6\", \"width\": 0.5}}, \"type\": \"bar\"}], \"barpolar\": [{\"marker\": {\"line\": {\"color\": \"#E5ECF6\", \"width\": 0.5}}, \"type\": \"barpolar\"}], \"carpet\": [{\"aaxis\": {\"endlinecolor\": \"#2a3f5f\", \"gridcolor\": \"white\", \"linecolor\": \"white\", \"minorgridcolor\": \"white\", \"startlinecolor\": \"#2a3f5f\"}, \"baxis\": {\"endlinecolor\": \"#2a3f5f\", \"gridcolor\": \"white\", \"linecolor\": \"white\", \"minorgridcolor\": \"white\", \"startlinecolor\": \"#2a3f5f\"}, \"type\": \"carpet\"}], \"choropleth\": [{\"colorbar\": {\"outlinewidth\": 0, \"ticks\": \"\"}, \"type\": \"choropleth\"}], \"contour\": [{\"colorbar\": {\"outlinewidth\": 0, \"ticks\": \"\"}, \"colorscale\": [[0.0, \"#0d0887\"], [0.1111111111111111, \"#46039f\"], [0.2222222222222222, \"#7201a8\"], [0.3333333333333333, \"#9c179e\"], [0.4444444444444444, \"#bd3786\"], [0.5555555555555556, \"#d8576b\"], [0.6666666666666666, \"#ed7953\"], [0.7777777777777778, \"#fb9f3a\"], [0.8888888888888888, \"#fdca26\"], [1.0, \"#f0f921\"]], \"type\": \"contour\"}], \"contourcarpet\": [{\"colorbar\": {\"outlinewidth\": 0, \"ticks\": \"\"}, \"type\": \"contourcarpet\"}], \"heatmap\": [{\"colorbar\": {\"outlinewidth\": 0, \"ticks\": \"\"}, \"colorscale\": [[0.0, \"#0d0887\"], [0.1111111111111111, \"#46039f\"], [0.2222222222222222, \"#7201a8\"], [0.3333333333333333, \"#9c179e\"], [0.4444444444444444, \"#bd3786\"], [0.5555555555555556, \"#d8576b\"], [0.6666666666666666, \"#ed7953\"], [0.7777777777777778, \"#fb9f3a\"], [0.8888888888888888, \"#fdca26\"], [1.0, \"#f0f921\"]], \"type\": \"heatmap\"}], \"heatmapgl\": [{\"colorbar\": {\"outlinewidth\": 0, \"ticks\": \"\"}, \"colorscale\": [[0.0, \"#0d0887\"], [0.1111111111111111, \"#46039f\"], [0.2222222222222222, \"#7201a8\"], [0.3333333333333333, \"#9c179e\"], [0.4444444444444444, \"#bd3786\"], [0.5555555555555556, \"#d8576b\"], [0.6666666666666666, \"#ed7953\"], [0.7777777777777778, \"#fb9f3a\"], [0.8888888888888888, \"#fdca26\"], [1.0, \"#f0f921\"]], \"type\": \"heatmapgl\"}], \"histogram\": [{\"marker\": {\"colorbar\": {\"outlinewidth\": 0, \"ticks\": \"\"}}, \"type\": \"histogram\"}], \"histogram2d\": [{\"colorbar\": {\"outlinewidth\": 0, \"ticks\": \"\"}, \"colorscale\": [[0.0, \"#0d0887\"], [0.1111111111111111, \"#46039f\"], [0.2222222222222222, \"#7201a8\"], [0.3333333333333333, \"#9c179e\"], [0.4444444444444444, \"#bd3786\"], [0.5555555555555556, \"#d8576b\"], [0.6666666666666666, \"#ed7953\"], [0.7777777777777778, \"#fb9f3a\"], [0.8888888888888888, \"#fdca26\"], [1.0, \"#f0f921\"]], \"type\": \"histogram2d\"}], \"histogram2dcontour\": [{\"colorbar\": {\"outlinewidth\": 0, \"ticks\": \"\"}, \"colorscale\": [[0.0, \"#0d0887\"], [0.1111111111111111, \"#46039f\"], [0.2222222222222222, \"#7201a8\"], [0.3333333333333333, \"#9c179e\"], [0.4444444444444444, \"#bd3786\"], [0.5555555555555556, \"#d8576b\"], [0.6666666666666666, \"#ed7953\"], [0.7777777777777778, \"#fb9f3a\"], [0.8888888888888888, \"#fdca26\"], [1.0, \"#f0f921\"]], \"type\": \"histogram2dcontour\"}], \"mesh3d\": [{\"colorbar\": {\"outlinewidth\": 0, \"ticks\": \"\"}, \"type\": \"mesh3d\"}], \"parcoords\": [{\"line\": {\"colorbar\": {\"outlinewidth\": 0, \"ticks\": \"\"}}, \"type\": \"parcoords\"}], \"pie\": [{\"automargin\": true, \"type\": \"pie\"}], \"scatter\": [{\"marker\": {\"colorbar\": {\"outlinewidth\": 0, \"ticks\": \"\"}}, \"type\": \"scatter\"}], \"scatter3d\": [{\"line\": {\"colorbar\": {\"outlinewidth\": 0, \"ticks\": \"\"}}, \"marker\": {\"colorbar\": {\"outlinewidth\": 0, \"ticks\": \"\"}}, \"type\": \"scatter3d\"}], \"scattercarpet\": [{\"marker\": {\"colorbar\": {\"outlinewidth\": 0, \"ticks\": \"\"}}, \"type\": \"scattercarpet\"}], \"scattergeo\": [{\"marker\": {\"colorbar\": {\"outlinewidth\": 0, \"ticks\": \"\"}}, \"type\": \"scattergeo\"}], \"scattergl\": [{\"marker\": {\"colorbar\": {\"outlinewidth\": 0, \"ticks\": \"\"}}, \"type\": \"scattergl\"}], \"scattermapbox\": [{\"marker\": {\"colorbar\": {\"outlinewidth\": 0, \"ticks\": \"\"}}, \"type\": \"scattermapbox\"}], \"scatterpolar\": [{\"marker\": {\"colorbar\": {\"outlinewidth\": 0, \"ticks\": \"\"}}, \"type\": \"scatterpolar\"}], \"scatterpolargl\": [{\"marker\": {\"colorbar\": {\"outlinewidth\": 0, \"ticks\": \"\"}}, \"type\": \"scatterpolargl\"}], \"scatterternary\": [{\"marker\": {\"colorbar\": {\"outlinewidth\": 0, \"ticks\": \"\"}}, \"type\": \"scatterternary\"}], \"surface\": [{\"colorbar\": {\"outlinewidth\": 0, \"ticks\": \"\"}, \"colorscale\": [[0.0, \"#0d0887\"], [0.1111111111111111, \"#46039f\"], [0.2222222222222222, \"#7201a8\"], [0.3333333333333333, \"#9c179e\"], [0.4444444444444444, \"#bd3786\"], [0.5555555555555556, \"#d8576b\"], [0.6666666666666666, \"#ed7953\"], [0.7777777777777778, \"#fb9f3a\"], [0.8888888888888888, \"#fdca26\"], [1.0, \"#f0f921\"]], \"type\": \"surface\"}], \"table\": [{\"cells\": {\"fill\": {\"color\": \"#EBF0F8\"}, \"line\": {\"color\": \"white\"}}, \"header\": {\"fill\": {\"color\": \"#C8D4E3\"}, \"line\": {\"color\": \"white\"}}, \"type\": \"table\"}]}, \"layout\": {\"annotationdefaults\": {\"arrowcolor\": \"#2a3f5f\", \"arrowhead\": 0, \"arrowwidth\": 1}, \"coloraxis\": {\"colorbar\": {\"outlinewidth\": 0, \"ticks\": \"\"}}, \"colorscale\": {\"diverging\": [[0, \"#8e0152\"], [0.1, \"#c51b7d\"], [0.2, \"#de77ae\"], [0.3, \"#f1b6da\"], [0.4, \"#fde0ef\"], [0.5, \"#f7f7f7\"], [0.6, \"#e6f5d0\"], [0.7, \"#b8e186\"], [0.8, \"#7fbc41\"], [0.9, \"#4d9221\"], [1, \"#276419\"]], \"sequential\": [[0.0, \"#0d0887\"], [0.1111111111111111, \"#46039f\"], [0.2222222222222222, \"#7201a8\"], [0.3333333333333333, \"#9c179e\"], [0.4444444444444444, \"#bd3786\"], [0.5555555555555556, \"#d8576b\"], [0.6666666666666666, \"#ed7953\"], [0.7777777777777778, \"#fb9f3a\"], [0.8888888888888888, \"#fdca26\"], [1.0, \"#f0f921\"]], \"sequentialminus\": [[0.0, \"#0d0887\"], [0.1111111111111111, \"#46039f\"], [0.2222222222222222, \"#7201a8\"], [0.3333333333333333, \"#9c179e\"], [0.4444444444444444, \"#bd3786\"], [0.5555555555555556, \"#d8576b\"], [0.6666666666666666, \"#ed7953\"], [0.7777777777777778, \"#fb9f3a\"], [0.8888888888888888, \"#fdca26\"], [1.0, \"#f0f921\"]]}, \"colorway\": [\"#636efa\", \"#EF553B\", \"#00cc96\", \"#ab63fa\", \"#FFA15A\", \"#19d3f3\", \"#FF6692\", \"#B6E880\", \"#FF97FF\", \"#FECB52\"], \"font\": {\"color\": \"#2a3f5f\"}, \"geo\": {\"bgcolor\": \"white\", \"lakecolor\": \"white\", \"landcolor\": \"#E5ECF6\", \"showlakes\": true, \"showland\": true, \"subunitcolor\": \"white\"}, \"hoverlabel\": {\"align\": \"left\"}, \"hovermode\": \"closest\", \"mapbox\": {\"style\": \"light\"}, \"paper_bgcolor\": \"white\", \"plot_bgcolor\": \"#E5ECF6\", \"polar\": {\"angularaxis\": {\"gridcolor\": \"white\", \"linecolor\": \"white\", \"ticks\": \"\"}, \"bgcolor\": \"#E5ECF6\", \"radialaxis\": {\"gridcolor\": \"white\", \"linecolor\": \"white\", \"ticks\": \"\"}}, \"scene\": {\"xaxis\": {\"backgroundcolor\": \"#E5ECF6\", \"gridcolor\": \"white\", \"gridwidth\": 2, \"linecolor\": \"white\", \"showbackground\": true, \"ticks\": \"\", \"zerolinecolor\": \"white\"}, \"yaxis\": {\"backgroundcolor\": \"#E5ECF6\", \"gridcolor\": \"white\", \"gridwidth\": 2, \"linecolor\": \"white\", \"showbackground\": true, \"ticks\": \"\", \"zerolinecolor\": \"white\"}, \"zaxis\": {\"backgroundcolor\": \"#E5ECF6\", \"gridcolor\": \"white\", \"gridwidth\": 2, \"linecolor\": \"white\", \"showbackground\": true, \"ticks\": \"\", \"zerolinecolor\": \"white\"}}, \"shapedefaults\": {\"line\": {\"color\": \"#2a3f5f\"}}, \"ternary\": {\"aaxis\": {\"gridcolor\": \"white\", \"linecolor\": \"white\", \"ticks\": \"\"}, \"baxis\": {\"gridcolor\": \"white\", \"linecolor\": \"white\", \"ticks\": \"\"}, \"bgcolor\": \"#E5ECF6\", \"caxis\": {\"gridcolor\": \"white\", \"linecolor\": \"white\", \"ticks\": \"\"}}, \"title\": {\"x\": 0.05}, \"xaxis\": {\"automargin\": true, \"gridcolor\": \"white\", \"linecolor\": \"white\", \"ticks\": \"\", \"title\": {\"standoff\": 15}, \"zerolinecolor\": \"white\", \"zerolinewidth\": 2}, \"yaxis\": {\"automargin\": true, \"gridcolor\": \"white\", \"linecolor\": \"white\", \"ticks\": \"\", \"title\": {\"standoff\": 15}, \"zerolinecolor\": \"white\", \"zerolinewidth\": 2}}}, \"xaxis\": {\"anchor\": \"y\", \"domain\": [0.0, 0.7200000000000001]}, \"yaxis\": {\"anchor\": \"x\", \"domain\": [0.0, 1.0]}},\n",
              "                        {\"responsive\": true}\n",
              "                    ).then(function(){\n",
              "                            \n",
              "var gd = document.getElementById('c03109c1-7c0d-4f33-a4ae-edfd5e156c70');\n",
              "var x = new MutationObserver(function (mutations, observer) {{\n",
              "        var display = window.getComputedStyle(gd).display;\n",
              "        if (!display || display === 'none') {{\n",
              "            console.log([gd, 'removed!']);\n",
              "            Plotly.purge(gd);\n",
              "            observer.disconnect();\n",
              "        }}\n",
              "}});\n",
              "\n",
              "// Listen for the removal of the full notebook cells\n",
              "var notebookContainer = gd.closest('#notebook-container');\n",
              "if (notebookContainer) {{\n",
              "    x.observe(notebookContainer, {childList: true});\n",
              "}}\n",
              "\n",
              "// Listen for the clearing of the current output cell\n",
              "var outputEl = gd.closest('.output');\n",
              "if (outputEl) {{\n",
              "    x.observe(outputEl, {childList: true});\n",
              "}}\n",
              "\n",
              "                        })\n",
              "                };\n",
              "                \n",
              "            </script>\n",
              "        </div>\n",
              "</body>\n",
              "</html>"
            ]
          },
          "metadata": {
            "tags": []
          }
        }
      ]
    },
    {
      "cell_type": "markdown",
      "metadata": {
        "colab_type": "text",
        "id": "BjfDbf-ftl0Q"
      },
      "source": [
        "## Covid-19 cases Age distribution of confirmed patients"
      ]
    },
    {
      "cell_type": "code",
      "metadata": {
        "colab_type": "code",
        "id": "B3gC3nTztl0R",
        "outputId": "952c65e0-53cd-4778-f6d3-c7877c443076",
        "colab": {
          "base_uri": "https://localhost:8080/",
          "height": 593
        }
      },
      "source": [
        "print('Total no. of values :', df.shape[0], '\\nNo. of missing values :', df.shape[0]-df[['agebracket']].dropna().shape[0],\n",
        "      '\\nNo. of available values :', df.shape[0]-(df.shape[0]-df[['agebracket']].dropna().shape[0]))\n",
        "\n",
        "histogramChart(df,'agebracket','Distribution of ages of confirmed patients')"
      ],
      "execution_count": 0,
      "outputs": [
        {
          "output_type": "stream",
          "text": [
            "Total no. of values : 13060 \n",
            "No. of missing values : 11509 \n",
            "No. of available values : 1551\n"
          ],
          "name": "stdout"
        },
        {
          "output_type": "display_data",
          "data": {
            "text/html": [
              "<html>\n",
              "<head><meta charset=\"utf-8\" /></head>\n",
              "<body>\n",
              "    <div>\n",
              "            <script src=\"https://cdnjs.cloudflare.com/ajax/libs/mathjax/2.7.5/MathJax.js?config=TeX-AMS-MML_SVG\"></script><script type=\"text/javascript\">if (window.MathJax) {MathJax.Hub.Config({SVG: {font: \"STIX-Web\"}});}</script>\n",
              "                <script type=\"text/javascript\">window.PlotlyConfig = {MathJaxConfig: 'local'};</script>\n",
              "        <script src=\"https://cdn.plot.ly/plotly-latest.min.js\"></script>    \n",
              "            <div id=\"44e3d66f-01f6-42a0-aa7f-62f3e82e1ddd\" class=\"plotly-graph-div\" style=\"height:525px; width:100%;\"></div>\n",
              "            <script type=\"text/javascript\">\n",
              "                \n",
              "                    window.PLOTLYENV=window.PLOTLYENV || {};\n",
              "                    \n",
              "                if (document.getElementById(\"44e3d66f-01f6-42a0-aa7f-62f3e82e1ddd\")) {\n",
              "                    Plotly.newPlot(\n",
              "                        '44e3d66f-01f6-42a0-aa7f-62f3e82e1ddd',\n",
              "                        [{\"alignmentgroup\": \"True\", \"bingroup\": \"x\", \"hoverlabel\": {\"namelength\": 0}, \"hovertemplate\": \"agebracket=%{x}<br>count=%{y}\", \"legendgroup\": \"\", \"marker\": {\"color\": \"#35495e\"}, \"name\": \"\", \"nbinsx\": 50, \"offsetgroup\": \"\", \"orientation\": \"v\", \"showlegend\": false, \"type\": \"histogram\", \"x\": [20.0, null, null, 45.0, 24.0, 69.0, 55.0, 55.0, 55.0, 55.0, 55.0, 55.0, 55.0, 55.0, 55.0, 55.0, 55.0, 55.0, 55.0, 55.0, 70.0, null, null, 45.0, null, 16.0, null, null, 27.0, 59.0, null, 65.0, 75.0, 45.0, 24.0, 54.0, 53.0, 65.0, 61.0, 25.0, 63.0, 46.0, 3.0, null, null, null, 48.0, null, null, null, 40.0, 47.0, 13.0, null, null, 96.0, 89.0, null, null, 3.0, null, null, 85.0, 46.0, null, 70.0, 68.0, null, null, null, 27.0, 69.0, 26.0, 76.0, null, null, 65.0, 45.0, 33.0, 33.0, null, 27.0, null, null, null, null, null, null, null, null, null, null, null, null, 37.0, 59.0, null, 43.0, null, null, null, null, 21.0, null, null, 24.0, null, null, null, 59.0, null, 46.0, null, null, 32.0, 45.0, null, null, null, 47.0, 42.0, 33.0, 3.0, 44.0, 51.0, 31.0, null, null, null, null, 29.0, null, null, null, 20.0, 67.0, 63.0, 49.0, 26.0, 68.0, 52.0, null, 22.0, 18.0, 34.0, null, 28.0, 25.0, 22.0, 56.0, 25.0, 27.0, 44.0, 20.0, 68.0, 35.0, 21.0, 50.0, 67.0, 33.0, 30.0, 3.0, null, null, null, null, null, null, null, null, 38.0, 23.0, 22.0, 49.0, 35.0, 24.0, 24.0, null, null, null, 21.0, 70.0, 47.0, 32.0, 21.0, null, 51.0, null, null, null, null, null, 19.0, null, null, 65.0, 22.0, 22.0, 32.0, 22.0, 69.0, null, null, null, null, 58.0, 24.0, 38.0, 20.0, 22.0, 34.0, 47.0, 37.0, 35.0, 20.0, 41.0, null, null, null, 18.0, null, 69.0, 27.0, null, null, null, 26.0, null, null, null, null, null, null, null, null, null, 52.0, 21.0, 52.0, 27.0, null, null, null, 2.0, null, 63.0, 32.0, 59.0, 45.0, 22.0, 24.0, 27.0, 60.0, 32.0, null, null, 53.0, 20.0, 23.0, null, null, null, null, null, null, 42.0, 74.0, 28.0, 59.0, 63.0, null, 41.0, null, null, null, null, null, null, 24.0, 26.0, null, null, null, null, 32.0, null, 38.0, null, null, null, null, null, null, 67.0, 26.0, 53.0, 39.0, 19.0, 35.0, 33.0, 69.0, 75.0, 65.0, 35.0, 34.0, 45.0, 40.0, 17.0, 36.0, null, 60.0, null, null, null, 54.0, null, null, null, null, null, null, null, null, 21.0, 35.0, 23.0, 57.0, null, 59.0, 22.0, 24.0, null, 31.0, 30.0, null, 33.0, 32.0, 30.0, 21.0, 60.0, 64.0, 35.0, null, null, null, null, 25.0, 38.0, null, 24.0, null, null, null, 81.0, null, null, null, null, null, null, null, 26.0, 58.0, 27.0, 32.0, 41.0, 33.0, 26.0, 34.0, 23.0, 23.0, 50.0, 22.0, null, null, 32.0, 24.0, 41.0, 27.0, 69.0, 21.0, 64.0, 36.0, 27.0, 51.0, null, null, null, 37.0, 62.0, 48.0, 47.0, 20.0, 53.0, 64.0, 43.0, 49.0, null, null, null, null, 36.0, null, null, null, null, null, null, null, null, null, null, null, null, null, null, null, 46.0, null, 45.0, 58.0, 57.0, 27.0, 29.0, 24.0, 33.0, 49.0, 46.0, 61.0, 85.0, null, null, null, 21.0, 30.0, 23.0, 21.0, 20.0, 25.0, 56.0, 32.0, 49.0, 24.0, 30.0, 31.0, 41.0, 34.0, 40.0, 37.0, 47.0, 34.0, 21.0, 50.0, 32.0, 27.0, 33.0, 32.0, 27.0, 34.0, 52.0, 26.0, null, null, null, null, null, 61.0, 56.0, null, null, 38.0, 41.0, 30.0, 24.0, 60.0, 22.0, 38.0, null, null, null, null, null, null, 45.0, null, 45.0, 69.0, 2.0, null, null, null, null, 25.0, null, null, null, null, null, null, 25.0, 48.0, 54.0, 24.0, 35.0, 41.0, 23.0, null, null, null, null, null, 32.0, 40.0, 65.0, 56.0, null, null, 65.0, 53.0, 54.0, 58.0, 74.0, 52.0, 25.0, 49.0, 39.0, 61.0, 56.0, 47.0, 55.0, 65.0, 57.0, null, null, null, null, null, null, null, null, null, 47.0, null, null, null, null, null, null, null, null, null, null, null, 57.0, null, null, null, 70.0, 23.0, 25.0, 65.0, 55.0, 25.0, 64.0, null, null, null, 36.0, 75.0, 57.0, null, null, null, null, null, null, 65.0, null, null, null, null, null, null, null, 36.0, null, 50.0, null, null, null, null, 57.0, 27.0, 39.0, 38.0, null, null, null, null, 63.0, 34.0, 21.0, null, null, null, null, null, null, null, null, null, null, null, null, null, null, null, null, null, null, 22.0, 23.0, 37.0, null, null, null, null, null, 37.0, 63.0, 59.0, 26.0, 26.0, 63.0, 69.0, 9.0, 7.0, 55.0, 31.0, 26.0, 23.0, 24.0, null, null, null, 43.0, 3.0, null, null, 22.0, 18.0, 26.0, 63.0, 52.0, 25.0, 29.0, 55.0, 66.0, null, null, null, null, null, null, null, null, null, null, null, null, null, null, null, null, 21.0, 39.0, 33.0, 32.0, 40.0, 12.0, null, 49.0, 36.0, 41.0, 45.0, 35.0, null, null, 35.0, 70.0, 64.0, 45.0, 42.0, 21.0, 24.0, 7.0, 1.0, null, null, null, null, null, null, null, null, null, 37.0, 38.0, 26.0, 49.0, 39.0, 36.0, null, 32.0, 21.0, null, 24.0, 65.0, 20.0, 29.0, 60.0, null, 45.0, null, null, null, 37.0, null, null, null, null, null, null, null, null, 53.0, null, null, null, null, null, null, null, null, null, 54.0, 35.0, 22.0, 44.0, 42.0, 46.0, 23.0, 25.0, 1.0, 20.0, 25.0, 35.0, 60.0, 33.0, 22.0, 53.0, 38.0, 30.0, null, null, null, null, null, null, null, null, null, null, null, null, 42.0, 41.0, 53.0, 18.0, 14.0, null, null, null, null, null, null, null, null, null, null, null, null, null, null, null, null, null, null, null, null, null, null, null, null, null, null, null, null, 47.0, null, null, null, null, null, null, null, null, null, null, null, null, null, null, null, null, null, null, null, null, null, null, null, null, null, null, null, null, null, null, null, null, null, null, null, null, null, null, null, null, null, null, null, 23.0, 64.0, null, null, null, null, null, null, 18.0, 21.0, 11.0, 27.0, 45.0, 6.0, 1.0, null, null, null, null, null, 73.0, 61.0, 39.0, 45.0, null, 22.0, 50.0, null, null, 37.0, 39.0, 33.0, null, null, null, null, null, null, null, null, null, null, null, 25.0, null, 65.0, null, null, null, null, 42.0, 49.0, null, 66.0, 23.0, 21.0, 54.0, 28.0, 23.0, 25.0, 23.0, 70.0, 32.0, 38.0, 18.0, 63.0, null, null, 21.0, 45.0, 40.0, 56.0, null, null, null, null, 11.0, 35.0, 63.0, 18.0, 33.0, null, null, null, null, null, null, null, null, 44.0, null, 35.0, 60.0, 74.0, null, null, null, null, null, 21.0, 25.0, 20.0, 24.0, null, null, null, null, 76.0, 56.0, null, null, null, null, null, null, null, null, null, null, null, null, null, null, null, null, null, 54.0, 36.0, 52.0, 31.0, 50.0, null, null, null, null, null, null, null, null, null, null, null, null, null, null, null, null, null, null, null, null, 23.0, 58.0, 21.0, 60.0, 50.0, 65.0, null, null, 44.0, 39.0, 38.0, 21.0, 31.0, 42.0, null, null, null, null, null, 30.0, 21.0, 40.0, 48.0, 21.0, 38.0, 17.0, null, null, null, null, null, null, null, 53.0, 47.0, 67.0, 34.0, null, null, null, null, null, 21.0, 19.0, 53.0, 35.0, 34.0, null, null, null, 37.0, 19.0, 30.0, 45.0, 52.0, 45.0, 40.0, 48.0, 35.0, 40.0, 30.0, 25.0, 41.0, 50.0, 43.0, 28.0, 39.0, null, null, null, 68.0, null, 29.0, 58.0, 1.0, 51.0, 45.0, 48.0, 67.0, 62.0, 35.0, 29.0, 47.0, null, null, null, null, null, null, null, null, null, null, null, null, null, null, null, null, 52.0, 66.0, null, null, null, null, null, null, null, null, null, null, null, null, null, null, null, null, null, null, null, null, null, null, null, 53.0, 40.0, 20.0, null, 35.0, null, null, null, null, null, null, 59.0, 65.0, null, null, null, null, null, null, null, null, null, null, null, null, 41.0, null, null, null, null, null, null, null, null, 38.0, 50.0, 92.0, 55.0, 45.0, 65.0, null, null, null, null, 49.0, 72.0, 25.0, 52.0, 76.0, 15.0, 20.0, null, null, null, null, null, null, null, null, null, null, 50.0, 42.0, 77.0, null, null, null, null, null, null, null, null, null, null, null, null, null, 32.0, 32.0, 23.0, 23.0, 40.0, null, 13.0, 32.0, 34.0, 21.0, 24.0, null, null, null, null, null, null, null, null, null, null, null, null, null, null, null, null, null, null, null, null, null, null, null, null, null, null, null, null, null, null, null, null, null, null, null, null, null, null, null, null, null, null, null, null, null, null, null, null, null, null, null, null, null, null, null, null, null, null, null, null, null, null, null, null, 81.0, null, null, null, null, null, null, null, null, null, null, null, null, null, null, null, null, null, null, null, null, null, null, null, null, null, null, null, null, null, null, null, null, null, null, null, 52.0, 48.0, 26.0, null, null, null, null, null, null, null, null, null, null, null, null, null, null, null, null, null, null, null, null, null, null, null, null, null, null, null, null, null, null, null, null, null, null, 44.0, 17.0, 65.0, 60.0, null, null, null, null, null, 35.0, 55.0, null, null, null, null, null, null, null, null, null, null, null, null, null, null, null, null, null, null, null, null, null, 48.0, 51.0, 52.0, null, 43.0, 28.0, null, null, null, null, null, null, null, null, null, null, 10.0, 34.0, 31.0, 32.0, 28.0, 28.0, 39.0, 65.0, 42.0, 39.0, 32.0, 59.0, 44.0, 28.0, 46.0, 35.0, 65.0, 40.0, 19.0, 40.0, 35.0, 41.0, 34.0, 26.0, null, null, null, null, null, null, null, null, null, null, null, null, null, null, null, null, 57.0, 22.0, null, null, null, 56.0, 23.0, null, null, 43.0, null, 23.0, 52.0, 28.0, 60.0, 40.0, 62.0, null, null, null, null, null, null, null, null, null, null, null, null, null, null, null, null, null, null, null, null, null, null, null, null, null, null, null, null, null, null, null, null, null, null, null, null, null, null, null, null, null, null, null, null, null, null, null, null, null, null, null, null, null, null, null, null, null, null, null, null, null, null, null, null, null, null, null, null, null, null, null, null, null, null, null, null, null, null, null, null, null, null, null, null, null, null, null, null, null, null, null, null, null, null, null, null, null, null, null, null, null, null, null, null, null, null, null, 35.0, null, null, null, null, null, null, null, null, null, null, null, null, null, null, null, 31.0, 36.0, 27.0, 35.0, null, null, null, null, null, null, null, null, null, null, null, null, null, null, null, null, null, null, null, null, null, null, null, null, null, 70.0, 23.0, 21.0, 70.0, 29.0, 31.0, 40.0, null, null, null, null, null, null, null, null, null, null, null, null, null, null, null, null, null, null, null, null, null, null, null, null, null, null, null, null, null, null, null, null, null, null, null, null, null, null, null, null, null, null, 58.0, 31.0, 52.0, 18.0, 45.0, 65.0, 68.0, 54.0, 58.0, 67.0, 40.0, 54.0, 50.0, 41.0, 25.0, 50.0, 20.0, 54.0, 36.0, 40.0, 26.0, 40.0, 41.0, 46.0, 53.0, 36.0, 35.0, 39.0, 36.0, 39.0, 27.0, 45.0, 34.0, 47.0, 48.0, 39.0, 44.0, null, 54.0, 45.0, 30.0, 33.0, 50.0, 50.0, 20.0, 53.0, 46.0, 50.0, 39.0, 31.0, 35.0, 80.0, 35.0, null, null, 72.0, 24.0, 37.0, 27.0, 33.0, null, null, null, null, null, null, null, null, null, null, null, null, null, null, null, null, null, null, null, null, null, null, null, null, null, null, null, null, null, null, null, null, null, null, null, null, null, null, null, null, null, 65.0, 28.0, 40.0, 34.0, 36.0, 41.0, 38.0, 39.0, 40.0, 30.0, 45.0, 57.0, 32.0, 34.0, 45.0, 52.0, 40.0, 46.0, 37.0, 47.0, 33.0, 21.0, 44.0, 39.0, 38.0, 55.0, 31.0, 51.0, 34.0, 40.0, 50.0, 43.0, 33.0, 38.0, 37.0, 26.0, 54.0, 60.0, 50.0, 63.0, 55.0, 56.0, 66.0, 52.0, 63.0, 27.0, 40.0, 48.0, 54.0, 71.0, 31.0, 50.0, 48.0, 68.0, 36.0, 47.0, 55.0, null, null, null, null, null, null, null, null, null, null, null, null, null, 22.0, 55.0, 35.0, 35.0, null, null, null, null, null, null, null, null, null, null, null, null, null, null, null, null, 48.0, 42.0, 48.0, 38.0, 40.0, null, null, 58.0, null, null, null, null, 42.0, 40.0, 27.0, 39.0, 41.0, 38.0, 25.0, 42.0, 66.0, 18.0, 52.0, 52.0, 72.0, 32.0, 11.0, 15.0, null, null, null, null, null, 32.0, 17.0, 47.0, 61.0, 30.0, null, null, 50.0, 36.0, null, null, null, null, null, null, null, null, null, null, null, null, null, null, null, null, null, null, null, null, null, null, null, null, null, null, null, null, null, null, null, null, null, null, null, null, null, null, null, null, null, null, null, null, null, null, null, null, null, null, 27.0, 42.0, 27.0, 36.0, 78.0, 49.0, 26.0, 63.0, 63.0, 27.0, null, null, null, null, null, null, null, null, null, null, null, null, null, null, null, null, null, null, null, null, null, null, null, 25.0, 36.0, 18.0, 16.0, 42.0, 43.0, 43.0, null, 40.0, 72.0, 72.0, 40.0, 61.0, 36.0, 52.0, 52.0, null, 31.0, 10.0, 10.0, null, 10.0, 40.0, 53.0, null, null, null, null, null, null, null, null, null, null, null, 61.0, null, null, 60.0, null, null, null, null, null, null, null, null, null, null, null, null, null, null, null, null, null, null, null, null, null, null, null, null, null, null, null, null, null, null, null, null, null, null, null, null, null, null, null, null, null, null, null, null, null, null, null, null, null, null, null, null, null, null, null, null, null, null, null, null, null, null, null, 43.0, 34.0, 42.0, 43.0, 32.0, 47.0, 31.0, 36.0, 35.0, 37.0, 39.0, 46.0, 33.0, 43.0, null, 23.0, null, null, 52.0, null, null, 65.0, null, null, null, null, 48.0, 30.0, 41.0, 66.0, 59.0, 39.0, 60.0, 63.0, 73.0, 45.0, 60.0, null, null, null, null, null, null, null, null, null, null, null, null, null, null, null, null, null, null, null, null, null, null, null, null, null, null, null, null, null, null, null, null, null, null, null, null, null, null, null, null, null, null, null, null, null, null, null, null, null, null, null, null, null, null, null, null, null, null, null, null, null, null, null, null, null, null, null, null, null, null, null, null, null, null, null, null, null, null, null, null, null, null, null, null, 60.0, 38.0, null, null, null, null, null, null, null, null, 70.0, 35.0, 10.0, 7.0, 58.0, 27.0, 28.0, 36.0, null, null, null, null, null, null, null, null, null, null, null, null, null, null, null, null, null, null, null, null, null, null, null, null, null, null, null, null, null, null, null, null, null, null, null, null, null, null, null, null, null, null, null, null, null, null, null, null, null, null, null, null, null, null, null, null, null, null, null, null, null, null, null, null, null, null, null, null, null, null, null, null, null, null, null, null, null, null, null, null, null, null, null, null, null, null, null, null, null, null, null, null, null, null, null, null, null, null, null, null, null, null, null, null, null, null, null, null, null, null, null, null, null, null, null, null, null, null, null, null, null, null, null, null, null, null, null, null, null, null, null, null, null, null, null, null, null, null, null, null, null, null, null, null, null, null, null, null, null, null, null, null, null, null, null, null, null, null, null, null, null, null, null, null, null, null, null, null, null, null, null, null, null, null, null, null, null, null, null, null, null, 1.0, null, null, null, null, null, null, null, null, null, null, null, null, null, null, null, null, null, null, null, null, null, null, null, null, null, null, null, null, null, null, null, null, null, null, null, null, null, null, null, null, null, null, null, null, null, null, null, null, null, null, null, null, null, null, null, null, null, null, null, null, null, null, null, null, null, null, null, null, null, null, null, null, null, null, null, null, null, null, null, null, null, null, null, 36.0, 24.0, 22.0, 14.0, null, null, null, null, null, null, null, null, null, null, null, null, null, null, null, null, null, null, null, null, null, null, null, null, null, null, null, 28.0, null, null, null, null, null, null, null, null, null, null, null, null, null, null, null, null, null, null, null, null, null, null, null, null, null, null, null, null, null, null, null, null, null, null, null, null, null, null, null, null, null, null, null, null, null, null, null, null, null, null, null, null, null, null, null, null, null, null, null, null, null, null, null, null, null, null, null, 17.0, 60.0, 35.0, 30.0, 7.0, 68.0, 65.0, 75.0, null, null, null, null, null, null, null, null, null, null, null, null, null, null, null, null, null, null, null, null, null, null, null, null, null, null, null, null, null, null, null, null, null, null, null, null, null, null, null, null, null, null, null, null, null, null, null, null, null, null, null, null, null, null, null, null, null, null, null, null, null, null, null, null, null, null, null, null, null, null, null, null, null, null, null, null, null, null, null, null, null, null, null, null, null, null, null, null, null, null, null, null, null, null, null, null, null, null, null, null, null, null, null, null, null, null, null, null, null, null, null, null, null, null, null, null, null, null, null, null, null, null, null, null, null, null, null, null, null, null, null, null, null, null, null, null, null, null, null, null, null, null, null, null, null, null, null, null, null, null, null, null, null, null, null, null, null, null, null, null, null, null, null, null, null, null, null, null, null, null, null, null, null, null, null, null, null, null, null, null, null, null, null, null, null, null, null, null, null, null, null, null, null, null, null, null, null, null, null, null, null, null, null, null, null, null, null, null, null, null, null, null, null, null, null, null, null, null, null, null, null, null, null, null, null, null, null, null, null, null, null, null, null, null, null, null, null, null, null, null, null, null, null, null, null, null, null, null, null, null, null, null, null, null, null, null, null, null, null, null, null, null, null, null, null, null, null, null, null, null, 69.0, 51.0, null, null, null, null, null, null, null, null, null, null, null, null, null, null, null, null, null, null, null, null, null, null, null, null, null, null, null, null, null, null, 70.0, 26.0, 20.0, null, null, null, null, null, null, null, null, null, null, null, null, null, null, null, null, null, null, null, null, null, null, null, null, null, null, null, null, null, null, null, null, null, null, null, null, null, null, null, null, null, null, null, null, null, null, null, null, null, null, null, null, null, null, null, null, null, null, null, null, null, null, null, null, null, null, null, null, null, null, null, null, null, null, null, null, null, null, null, null, null, 35.0, null, null, null, null, null, null, null, null, null, null, null, null, null, null, null, null, null, null, null, null, null, null, null, null, null, null, null, null, null, null, null, null, null, null, null, null, null, null, null, null, null, null, null, null, null, null, null, null, null, null, null, null, null, null, null, null, null, null, null, null, null, null, null, null, null, null, null, null, null, 37.0, null, null, null, null, null, null, null, null, null, null, null, null, null, null, null, null, null, null, null, null, null, null, null, null, null, null, null, null, null, null, null, null, null, null, null, null, null, null, null, null, null, null, null, null, null, null, null, null, null, null, null, null, null, null, null, null, null, null, null, null, null, null, null, null, null, 32.0, null, null, null, null, null, null, null, null, null, null, null, null, null, null, null, null, null, null, null, null, null, 30.0, 58.0, 34.0, 56.0, null, null, null, null, null, null, null, null, null, null, null, null, null, null, null, null, null, null, null, null, null, null, null, null, null, null, null, null, null, null, null, null, null, null, null, null, null, null, null, null, null, null, null, null, null, null, null, null, null, null, null, null, null, null, null, null, null, null, null, null, null, null, null, null, null, null, null, null, null, null, null, null, null, null, null, 16.0, null, null, null, null, null, null, null, null, null, null, null, null, null, null, null, null, null, null, null, null, 21.0, 57.0, 43.0, 78.0, 60.0, 38.0, 19.0, 39.0, 39.0, 54.0, 40.0, 34.0, 47.0, 63.0, 43.0, 52.0, null, null, null, null, null, null, null, null, null, null, null, null, null, null, null, null, null, null, null, null, null, null, null, null, null, null, null, null, null, null, null, null, null, null, null, null, null, null, null, null, null, null, null, null, null, null, null, null, null, null, null, null, null, null, null, null, null, null, null, null, null, null, null, null, null, null, null, null, null, null, null, null, null, null, null, null, null, null, null, null, null, null, null, null, null, null, null, null, null, null, null, null, null, null, null, null, null, null, null, null, null, null, null, null, null, null, null, null, null, null, null, null, null, null, null, null, null, null, null, null, null, null, null, null, null, null, null, null, null, null, null, null, null, null, null, null, null, null, null, null, null, null, null, null, null, null, null, null, null, null, null, null, null, null, null, null, null, null, null, null, null, null, null, null, null, null, null, null, null, null, null, null, null, null, null, null, null, null, null, null, null, null, null, null, null, null, null, null, null, null, null, null, null, null, null, null, null, null, null, null, null, null, null, null, null, null, null, null, null, null, null, null, null, null, null, null, null, null, null, null, null, null, null, null, null, null, 60.0, null, null, null, null, null, null, null, null, null, null, null, null, null, null, 75.0, 35.0, 65.0, null, null, 61.0, null, null, null, null, null, null, null, null, null, null, null, null, null, null, null, null, null, null, null, null, null, null, null, null, null, null, null, null, null, null, null, null, null, null, null, null, null, null, null, null, null, null, null, null, null, null, null, null, null, null, null, null, null, null, null, null, null, null, null, null, null, null, null, null, null, null, null, null, null, null, null, null, null, null, null, 45.0, 60.0, null, null, null, null, null, null, null, null, null, null, null, null, null, null, null, null, null, null, null, null, null, null, null, null, null, null, null, null, null, null, null, null, null, null, null, null, null, null, null, null, null, null, null, null, null, null, null, null, null, null, null, null, null, null, null, null, null, null, null, null, null, null, null, null, null, null, null, null, null, null, null, null, null, null, null, null, null, null, null, null, null, null, null, null, null, null, null, null, null, null, null, null, null, null, null, null, null, null, null, null, null, null, null, null, 33.0, 47.0, 45.0, 33.0, 34.0, 32.0, 52.0, 35.0, 36.0, 40.0, 45.0, 25.0, 35.0, 17.0, 27.0, 37.0, 45.0, 28.0, 30.0, 37.0, 43.0, 37.0, 35.0, 65.0, 48.0, 45.0, 48.0, 33.0, 27.0, 50.0, null, null, 65.0, 55.0, 17.0, 42.0, 56.0, 16.0, 18.0, 41.0, 55.0, 75.0, 34.0, 26.0, 60.0, 54.0, 40.0, 34.0, null, null, null, null, null, null, null, 68.0, 62.0, null, null, null, null, null, null, null, null, null, null, null, null, null, null, null, null, null, null, null, null, null, null, null, null, null, null, null, null, null, null, null, null, null, null, null, null, null, null, null, null, null, null, null, null, null, null, null, null, null, null, null, null, null, null, null, 70.0, 29.0, null, null, null, null, null, null, null, 42.0, null, null, null, null, null, null, null, null, null, null, null, null, null, null, null, null, null, null, null, null, null, 44.0, null, null, null, null, null, null, null, null, null, null, 81.0, 7.0, 36.0, 40.0, 67.0, 41.0, 41.0, null, null, null, null, null, null, null, null, null, null, null, null, null, null, null, null, null, null, null, null, null, null, null, null, null, null, null, null, null, null, null, null, null, null, null, null, null, null, null, null, null, null, null, null, null, null, null, null, null, null, null, null, null, null, null, null, null, null, null, null, null, null, null, null, null, null, null, null, null, null, null, null, null, null, null, null, null, null, null, null, null, null, null, null, null, null, null, null, null, null, null, null, null, null, null, null, null, null, null, null, null, null, null, null, null, null, null, null, null, null, null, null, null, null, null, null, null, null, null, null, null, null, null, null, null, null, null, null, null, null, null, null, null, null, null, null, null, null, null, null, null, null, null, null, null, null, null, null, null, null, null, null, null, null, null, null, null, null, null, null, null, null, null, null, null, null, null, null, null, null, null, null, null, null, null, null, null, null, null, null, null, null, null, null, null, null, null, null, null, null, null, null, null, null, null, null, null, null, null, null, null, null, null, null, null, null, null, null, null, null, null, null, null, null, null, null, null, null, null, null, null, null, null, null, null, null, null, null, null, null, null, null, null, null, null, null, null, null, null, null, null, 20.0, 28.0, 22.0, 44.0, 30.0, 60.0, 59.0, 19.0, 77.0, 30.0, 32.0, 31.0, 50.0, 52.0, 36.0, 31.0, 31.0, 45.0, 32.0, 36.0, 37.0, 55.0, 38.0, 43.0, 23.0, 43.0, null, null, null, null, null, null, null, null, null, null, null, null, null, null, null, null, null, null, null, null, null, null, null, null, null, null, null, null, null, null, null, null, null, null, null, null, null, null, null, null, null, null, null, null, null, null, null, null, null, null, null, null, null, null, null, null, null, null, null, null, null, null, null, null, null, null, null, null, null, null, null, null, null, null, null, null, null, null, null, null, null, null, null, null, null, null, null, null, null, null, null, null, null, null, null, null, null, null, null, null, null, null, null, null, null, null, null, null, null, null, null, null, null, null, null, null, null, null, null, null, null, null, null, null, null, null, null, null, null, null, null, null, null, null, null, null, null, null, null, null, 1.0, 50.0, 52.0, 62.0, 90.0, 48.0, null, null, null, null, null, null, null, null, null, null, null, null, null, null, null, null, null, null, null, null, null, null, null, null, null, null, null, null, null, null, null, null, null, null, null, null, null, null, null, null, null, null, null, null, null, null, null, null, null, null, null, null, null, null, null, null, null, null, null, null, null, null, null, null, null, null, null, null, null, null, null, null, null, null, null, null, null, null, null, null, null, null, 20.0, 37.0, 39.0, 37.0, 32.0, 35.0, 24.0, 38.0, 38.0, 16.0, 60.0, 51.0, 47.0, 52.0, 27.0, 15.0, 80.0, 39.0, 29.0, 52.0, 54.0, null, null, 28.0, 40.0, 32.0, 28.0, 55.0, 76.0, 34.0, null, 32.0, 62.0, 20.0, 37.0, 57.0, 22.0, 26.0, 33.0, 35.0, 54.0, 58.0, 43.0, null, null, null, null, null, null, null, null, null, null, null, null, null, null, null, null, null, null, null, null, null, null, null, null, null, null, null, null, null, null, null, null, null, null, null, null, null, null, null, null, null, null, null, null, null, null, null, null, null, null, null, null, null, null, null, null, null, null, null, null, null, null, null, null, null, null, null, null, null, null, null, null, null, null, null, null, null, null, null, null, null, null, null, null, null, null, null, null, null, null, null, null, null, null, null, null, null, null, null, null, null, null, null, null, null, null, null, null, null, null, null, null, null, null, null, null, null, null, null, null, null, null, null, null, null, null, null, 19.0, 26.0, 32.0, 25.0, 62.0, 32.0, 32.0, 46.0, 38.0, 47.0, 45.0, 34.0, 40.0, 42.0, 30.0, 30.0, 50.0, 21.0, 43.0, 12.0, 65.0, 53.0, 50.0, 18.0, 35.0, 11.0, 41.0, 34.0, 50.0, 54.0, 47.0, 57.0, 38.0, 13.0, 21.0, 44.0, 41.0, 35.0, null, null, null, null, null, null, null, null, null, null, null, null, null, null, null, 80.0, 55.0, null, null, null, null, null, 17.0, 16.0, 52.0, 57.0, null, null, null, null, null, null, null, null, null, null, null, null, null, null, null, null, null, null, null, null, null, null, null, null, null, null, null, null, null, null, null, null, null, null, null, null, null, null, null, null, null, null, null, null, null, null, null, null, null, null, null, null, null, null, null, null, null, null, null, null, null, null, null, null, null, null, null, null, null, null, null, null, null, null, null, null, null, null, null, null, null, null, null, null, null, null, null, null, null, null, null, null, null, null, null, null, null, null, null, null, null, null, null, null, null, null, null, null, null, null, null, null, null, null, null, null, null, 45.0, 70.0, null, null, null, null, null, null, null, null, null, null, null, null, null, null, null, null, null, null, null, null, null, null, null, null, null, null, null, null, null, null, null, null, null, null, null, null, null, null, null, null, null, null, null, null, null, null, null, null, null, null, null, null, null, null, null, null, null, null, null, null, null, null, null, null, null, null, null, null, null, null, null, null, 32.0, null, null, null, null, null, null, null, null, null, null, null, null, null, null, null, null, null, null, null, null, null, null, null, null, null, null, null, null, null, null, null, null, null, null, null, null, null, null, null, null, null, null, null, null, null, null, 60.0, 64.0, 24.0, 33.0, 59.0, 64.0, 53.0, 65.0, 26.0, 41.0, 40.0, 25.0, 64.0, 33.0, 21.0, 48.0, 29.0, 54.0, 33.0, 35.0, null, null, null, null, null, null, null, null, null, null, null, null, null, null, null, null, null, null, null, null, null, null, null, null, null, null, null, null, null, null, null, null, null, null, null, 33.0, 41.0, 80.0, 29.0, 50.0, 35.0, 68.0, 32.0, 36.0, 65.0, 28.0, 57.0, null, null, null, null, null, null, null, null, null, null, null, null, null, null, null, null, null, null, null, null, null, null, null, null, null, null, null, null, null, null, null, null, null, null, 45.0, 72.0, null, null, null, null, null, null, null, null, null, null, 35.0, null, 77.0, null, null, null, null, null, null, null, null, null, null, null, null, null, 71.0, 31.0, 42.0, null, null, null, null, null, null, null, null, null, null, null, null, null, null, null, null, null, null, null, null, null, null, null, null, null, null, null, null, null, null, null, null, null, null, null, null, null, null, null, null, null, null, null, null, null, null, null, null, null, null, null, null, null, null, null, null, null, null, null, null, null, null, null, null, null, null, null, null, null, null, null, null, null, null, null, null, null, null, null, null, null, null, null, null, null, null, null, null, null, null, null, null, null, null, null, 45.0, 22.0, null, null, null, null, null, null, null, null, null, null, null, null, null, null, null, null, null, null, null, null, null, null, null, null, null, null, null, null, null, null, null, null, null, null, null, null, null, null, null, null, null, null, null, null, null, null, null, null, null, null, null, null, null, null, null, null, null, 36.0, 27.0, 46.0, 28.0, 51.0, 27.0, 67.0, 40.0, 42.0, 40.0, null, null, null, null, null, null, null, null, null, null, null, null, null, null, null, null, null, null, null, null, null, null, null, null, null, null, null, null, null, null, null, null, null, null, null, null, null, null, null, null, null, null, null, null, null, null, null, null, null, null, null, null, null, null, null, null, null, null, null, null, null, null, null, null, null, null, null, null, null, null, null, null, null, null, null, null, null, null, null, null, null, null, null, null, null, null, null, null, null, null, null, null, null, null, null, null, null, null, null, null, null, null, null, null, null, null, null, null, null, null, null, null, null, null, null, null, null, null, null, null, null, null, null, null, null, null, null, null, null, null, null, null, null, null, null, null, null, null, 63.0, 43.0, 53.0, 70.0, 33.0, 80.0, 16.0, 63.0, 41.0, 24.0, null, null, null, null, null, null, null, null, null, null, null, null, null, null, null, null, null, null, null, null, null, null, null, null, null, null, null, null, null, null, null, null, null, null, null, null, null, null, null, null, null, null, null, null, null, null, null, null, null, null, null, null, null, null, null, null, null, null, null, null, null, null, null, null, null, null, null, null, null, null, null, null, null, null, null, null, null, null, null, null, null, null, null, null, null, null, null, null, null, null, 26.0, 20.0, 15.0, 16.0, null, null, null, null, null, null, null, null, null, null, null, null, null, null, null, 70.0, 22.0, 43.0, 38.0, 19.0, 10.0, 47.0, 17.0, 19.0, 24.0, 55.0, 55.0, 21.0, 43.0, 24.0, 32.0, 26.0, 30.0, 56.0, null, null, null, null, null, null, null, null, 26.0, 65.0, 72.0, 35.0, 23.0, 27.0, null, null, null, null, null, null, null, null, null, null, null, null, null, null, null, null, null, null, null, null, null, null, null, null, null, null, null, null, null, null, null, null, null, null, null, null, null, null, null, null, null, null, null, null, null, null, null, null, null, null, null, null, null, null, null, null, null, null, null, null, null, null, null, null, null, null, null, null, null, null, null, null, null, null, null, null, null, null, null, null, null, null, null, null, null, null, null, null, null, 50.0, null, null, null, null, null, null, null, null, null, null, null, null, null, null, null, null, null, null, null, null, null, null, null, null, null, null, null, null, null, null, null, null, null, null, null, null, null, null, null, null, null, null, null, null, null, null, null, null, null, null, null, null, null, null, null, null, null, null, null, null, null, null, null, null, 35.0, 32.0, 11.0, null, null, null, 55.0, null, null, null, null, null, null, null, null, null, null, null, null, null, null, null, null, null, null, null, null, null, null, null, null, null, null, null, null, null, null, null, null, null, null, null, null, null, null, null, null, null, null, null, null, null, null, null, null, null, null, null, null, null, null, null, null, null, null, null, null, null, null, null, null, null, null, null, null, null, null, null, null, null, null, null, null, null, null, null, null, null, null, null, null, null, null, null, null, null, null, null, null, null, null, null, null, null, null, null, null, null, null, null, null, null, null, null, null, null, null, null, null, null, null, null, null, null, null, null, null, null, null, null, null, null, null, null, null, null, null, null, null, null, null, null, null, null, null, null, null, null, null, null, null, null, null, null, null, null, null, null, null, null, null, null, null, null, null, null, null, null, null, null, null, null, null, null, null, null, null, null, null, null, 47.0, 22.0, 63.0, 45.0, 35.0, 35.0, 68.0, 35.0, 39.0, 70.0, 36.0, 25.0, 24.0, 44.0, 35.0, 56.0, 50.0, 25.0, 56.0, 60.0, 21.0, 46.0, 20.0, 57.0, 21.0, 52.0, null, null, null, null, null, null, null, null, null, null, null, null, null, null, null, null, null, null, null, null, null, null, null, null, null, null, null, null, null, null, null, null, null, null, null, null, null, null, null, null, null, null, null, null, null, null, null, null, null, null, null, null, null, null, null, null, null, null, null, null, null, null, null, null, null, null, null, null, null, null, null, null, null, 38.0, null, null, null, null, null, null, null, null, null, null, null, null, null, null, null, null, null, null, null, null, null, null, null, null, null, null, null, null, null, null, null, null, null, null, null, null, null, null, null, null, null, null, null, null, null, null, null, null, null, null, null, null, null, null, null, null, null, null, null, null, null, null, null, null, null, null, null, null, null, null, null, null, null, null, null, null, null, null, null, null, null, null, null, null, null, null, null, null, null, null, null, null, null, null, null, null, null, null, null, null, null, null, null, null, null, null, null, null, null, null, null, null, null, 26.0, 18.0, 12.0, 29.0, 52.0, null, null, null, null, null, null, null, null, null, null, null, null, null, null, null, null, null, null, null, null, null, null, null, null, null, null, null, null, null, null, null, null, null, null, null, null, null, null, 50.0, 12.0, 20.0, 30.0, 10.0, null, null, null, null, null, null, null, null, null, null, null, null, null, null, null, null, null, null, null, null, null, null, null, null, null, null, null, null, null, null, null, null, null, null, null, null, null, null, null, null, null, null, null, null, null, null, null, null, null, null, null, null, null, null, null, 15.0, 18.0, null, null, null, null, null, null, null, null, null, null, null, null, null, null, null, null, null, null, null, null, null, null, null, null, null, null, null, null, null, null, null, null, null, null, null, null, null, null, null, null, null, null, null, null, null, null, null, null, null, null, null, null, null, null, null, null, null, null, null, null, null, null, null, null, null, null, null, null, null, null, null, null, null, null, null, null, null, null, null, null, null, null, null, null, null, null, null, null, null, null, null, null, null, null, null, null, null, null, null, null, null, null, null, null, null, null, null, null, null, null, null, null, null, null, null, null, null, null, null, null, null, null, null, null, null, null, null, null, null, null, null, null, null, null, null, null, null, null, null, null, null, null, null, null, null, null, null, null, null, null, null, null, null, null, null, null, null, null, null, null, null, null, 36.0, null, 69.0, 51.0, 50.0, 55.0, 68.0, 32.0, 4.0, 13.0, 9.0, 19.0, 27.0, 48.0, 42.0, 74.0, 63.0, null, null, null, null, null, null, null, null, null, null, null, null, null, null, null, null, null, null, null, null, null, null, null, null, null, null, null, null, null, null, null, null, null, null, null, null, null, null, null, null, null, null, null, 40.0, 22.0, 27.0, 66.0, 42.0, 27.0, null, null, null, null, null, null, null, null, null, 13.0, 75.0, 21.0, 35.0, 19.0, 14.0, 8.0, 46.0, null, null, null, null, null, null, null, null, null, null, null, null, null, null, null, null, null, null, null, null, null, null, null, null, null, null, null, null, null, null, null, null, null, null, null, null, null, null, null, null, null, null, null, null, null, null, null, null, null, null, null, null, null, null, null, null, null, null, null, null, null, null, null, null, null, null, null, null, null, null, null, null, null, null, null, null, null, null, null, null, null, null, null, null, null, null, null, null, null, null, null, null, null, null, null, null, null, null, null, null, null, null, null, null, null, null, null, null, null, null, null, null, null, null, null, null, null, null, null, null, null, null, null, null, null, null, null, null, null, null, null, null, null, null, null, null, null, null, null, null, null, null, null, null, null, null, null, null, null, null, null, null, null, null, null, null, null, null, null, null, null, null, null, null, null, null, null, null, null, null, null, null, null, null, null, null, null, null, null, null, null, null, null, null, null, null, null, null, null, null, null, null, null, null, null, null, null, null, null, null, null, null, null, null, null, null, null, null, null, null, null, null, null, null, null, null, null, null, null, null, null, null, null, null, null, null, null, null, null, null, null, null, null, null, null, null, null, null, null, null, null, null, null, null, null, null, null, null, null, null, null, null, null, null, null, null, null, null, null, null, null, null, null, null, null, null, null, null, null, null, null, null, null, null, null, null, null, null, null, null, null, null, null, null, null, null, null, null, null, null, null, null, null, null, null, null, null, null, null, null, null, null, null, null, null, null, null, null, null, null, null, null, null, null, null, null, null, null, null, null, null, null, null, null, null, null, null, null, null, null, null, null, null, null, null, null, null, null, null, null, null, null, null, null, null, null, null, null, null, null, null, null, 49.0, 29.0, 30.0, 40.0, 16.0, 15.0, 75.0, 52.0, 36.0, 35.0, 47.0, 41.0, 60.0, 67.0, 47.0, null, null, null, null, null, null, null, null, null, null, null, null, null, null, null, null, null, null, null, null, null, null, null, null, null, null, null, null, null, null, null, null, null, 19.0, 22.0, 25.0, 19.0, 11.0, 19.0, 60.0, null, null, null, null, null, null, null, null, null, null, null, null, null, null, null, null, null, null, null, null, null, null, null, null, null, null, null, null, null, null, null, null, 20.0, 37.0, 9.0, 5.0, null, null, null, null, null, null, null, null, null, null, null, null, null, null, null, null, null, null, null, null, null, null, null, null, null, null, null, null, null, null, null, null, null, null, null, null, null, null, null, null, 10.0, 28.0, 44.0, 58.0, null, null, null, null, null, null, null, null, null, null, null, null, null, null, null, null, null, null, null, null, null, null, null, null, null, null, null, null, null, null, null, null, null, null, null, null, null, null, null, null, null, null, null, null, null, null, null, null, null, null, null, null, 48.0, 57.0, 8.0, 48.0, 33.0, 28.0, 48.0, 55.0, 35.0, 11.0, null, null, null, null, null, null, null, null, null, null, null, null, null, null, null, null, null, null, null, null, null, null, null, null, null, null, null, null, null, null, null, null, null, null, null, null, null, null, null, null, null, null, null, null, null, null, null, null, null, null, null, null, null, null, null, null, null, null, null, null, null, null, null, null, null, null, null, null, null, null, null, null, null, null, null, 47.0, 54.0, null, 40.0, null, null, null, null, null, null, null, null, null, null, null, null, null, null, null, null, null, null, null, null, null, null, null, null, null, null, null, null, null, null, null, null, null, null, null, null, null, null, null, null, null, null, null, null, null, null, null, null, null, null, null, null, null, null, null, null, null, null, null, null, null, null, null, null, null, null, null, null, null, null, null, null, null, null, null, null, null, null, null, null, 60.0, 59.0, null, null, null, null, null, null, null, null, null, null, null, null, null, null, null, null, null, null, null, null, null, null, null, null, null, null, null, null, null, null, null, null, null, null, null, null, null, null, null, null, null, null, null, null, null, null, null, null, null, null, null, null, null, null, null, null, null, null, null, null, null, null, null, null, null, 32.0, 41.0, 47.0, 28.0, 27.0, 71.0, 65.0, 51.0, 8.0, 29.0, 3.0, 50.0, 25.0, 35.0, 55.0, 17.0, 20.0, null, null, null, null, null, null, null, null, null, null, null, null, null, null, null, null, null, null, null, null, null, null, null, null, null, null, null, null, null, null, null, null, null, null, null, null, null, null, null, null, null, null, null, null, null, null, null, null, null, null, null, null, null, null, null, null, null, null, null, null, null, null, null, null, null, null, null, null, null, null, null, null, null, null, null, null, null, null, null, null, null, null, null, null, null, null, null, null, null, null, null, null, null, null, null, null, null, null, null, null, null, null, null, null, null, null, null, null, null, null, null, null, null, null, null, null, null, null, null, null, null, null, null, null, null, null, null, null, null, null, null, null, null, null, null, null, null, null, null, null, null, null, null, null, null, null, null, null, null, null, null, null, null, null, null, null, null, null, null, null, null, null, null, null, null, null, null, null, null, null, null, null, null, null, null, null, null, null, null, null, null, null, null, null, null, null, null, null, null, null, null, null, null, null, null, null, null, null, null, null, null, null, null, null, null, null, null, null, null, null, null, null, null, null, null, null, null, null, null, null, null, null, null, null, null, null, null, null, null, null, null, null, null, null, null, null, null, null, null, null, null, null, null, null, null, null, null, null, null, null, null, null, null, null, null, null, null, null, null, null, null, null, null, null, null, null, null, null, null, null, null, null, null, null, null, null, null, null, null, null, null, null, null, null, null, null, null, null, null, null, null, null, null, null, null, null, null, null, null, null, null, null, null, null, null, null, null, null, null, null, null, null, null, null, null, null, null, null, null, null, null, null, null, null, null, null, null, null, null, null, null, null, null, null, null, null, null, null, null, null, null, null, null, null, null, null, null, null, null, null, null, null, null, null, null, null, null, null, null, null, null, null, null, null, null, null, null, null, null, null, null, null, null, null, null, null, null, null, null, null, null, null, null, null, null, null, null, null, null, null, null, null, null, null, null, null, null, null, null, null, null, null, null, null, null, null, null, null, null, null, null, null, null, null, null, null, null, null, null, null, null, null, null, null, null, null, null, null, null, null, null, null, null, null, null, null, null, null, null, null, null, null, null, null, null, null, null, null, null, null, null, null, null, null, null, null, null, null, null, null, null, null, null, null, null, null, null, null, null, null, null, null, null, null, null, null, null, null, null, null, null, null, null, null, null, null, null, null, null, null, null, null, null, null, null, null, null, null, null, null, null, null, null, null, null, null, null, null, null, null, null, null, null, null, null, null, null, null, null, null, 35.0, 22.0, null, null, null, null, null, null, null, null, null, null, null, null, null, null, null, null, null, null, null, null, null, null, null, null, null, null, null, null, null, null, null, null, null, null, null, null, null, null, null, null, null, null, null, null, null, null, null, null, null, null, null, null, null, null, null, null, null, null, null, null, null, null, null, null, null, null, null, null, null, null, null, null, null, null, null, null, null, 32.0, 46.0, 43.0, 50.0, 27.0, 31.0, 26.0, null, null, null, null, null, null, null, null, null, null, null, null, null, null, null, null, null, null, null, null, null, null, null, null, null, null, null, null, null, null, null, null, null, null, null, null, null, null, null, null, null, null, null, null, null, null, null, null, null, null, null, null, null, null, null, null, null, null, null, null, null, null, null, null, null, null, null, null, null, null, null, null, null, null, null, null, null, null, null, null, null, null, null, null, null, null, null, null, null, null, null, null, null, null, null, null, null, null, null, null, null, null, null, null, null, null, null, null, null, null, null, null, null, null, null, null, null, null, null, null, null, null, null, null, null, null, null, null, null, null, null, null, null, null, null, null, null, null, null, null, null, null, null, null, null, null, null, null, null, null, null, null, null, null, null, null, null, null, null, null, null, null, null, null, null, null, null, null, null, null, null, null, null, null, null, null, null, null, null, null, null, null, null, null, null, null, null, null, null, null, null, null, null, null, null, null, null, null, null, null, null, null, null, null, null, null, null, null, null, 45.0, null, null, 29.0, 33.0, 14.0, 68.0, 40.0, null, null, null, null, null, null, null, null, null, null, null, null, 26.0, 67.0, 26.0, 33.0, 6.0, 37.0, 8.0, 22.0, 40.0, 13.0, 50.0, 7.0, 11.0, 34.0, 24.0, 49.0, 31.0, 69.0, 38.0, 31.0, 13.0, 62.0, 59.0, 24.0, null, null, null, null, null, null, null, null, null, null, null, null, null, null, null, null, null, null, null, null, null, null, null, null, null, null, null, null, null, null, null, null, null, null, null, null, null, null, null, null, null, null, null, null, null, null, null, null, null, null, null, null, null, null, null, null, null, null, null, null, null, null, null, null, null, null, null, null, null, null, 10.0, null, null, null, null, null, null, null, null, null, null, null, null, null, null, null, null, null, null, null, null, null, null, null, null, null, null, null, null, null, null, null, null, null, null, null, null, null, null, null, null, null, null, null, null, null, null, null, null, null, null, null, null, null, null, null, null, null, null, null, null, null, null, null, null, null, null, null, null, null, null, null, null, null, null, null, null, null, null, null, null, null, null, null, null, null, null, null, null, null, null, null, null, null, null, null, null, null, null, null, null, null, null, null, null, null, null, null, null, null, null, null, null, null, null, null, null, null, null, null, null, null, null, null, null, null, null, null, null, null, null, null, null, null, null, null, null, null, null, null, null, null, null, null, null, null, null, null, null, null, null, null, null, null, null, null, null, null, null, null, null, null, null, null, null, null, null, null, null, null, null, null, null, null, null, null, null, null, null, null, null, null, null, null, null, null, null, null, null, null, null, null, null, null, null, null, null, null, null, null, null, null, null, null, null, null, null, null, null, null, null, null, null, null, null, null, null, null, null, null, null, null, null, null, null, null, null, null, null, null, null, null, null, null, null, null, null, null, null, null, null, null, null, null, null, null, null, null, null, null, null, null, null, null, null, null, null, null, null, null, null, null, null, null, null, null, null, null, null, null, null, null, null, null, null, null, null, null, null, null, null, null, null, null, null, null, null, null, null, null, null, null, null, null, null, null, null, null, null, null, null, null, null, null, null, null, null, null, null, null, null, null, null, null, null, null, null, null, null, null, null, null, null, null, null, null, null, null, null, null, null, null, null, null, null, null, null, null, null, null, null, null, null, null, null, null, null, null, null, null, null, null, null, null, null, null, null, null, null, null, null, null, null, null, null, null, null, null, null, null, null, null, null, null, null, null, null, null, null, null, null, null, null, null, null, null, null, null, null, null, null, null, null, null, null, null, null, null, null, null, null, null, null, null, null, null, null, null, null, null, null, null, null, null, null, null, null, null, null, null, null, null, null, null, null, null, null, null, null, null, null, null, null, 16.0, 40.0, 63.0, 67.0, 18.0, 17.0, 46.0, null, null, null, null, null, null, null, 32.0, 75.0, 58.0, 76.0, 24.0, 60.0, 38.0, 19.0, 38.0, 55.0, 25.0, null, null, null, null, null, null, null, null, null, null, null, null, null, null, null, null, null, null, null, null, null, null, null, null, null, null, null, null, null, null, null, null, null, null, null, null, null, null, null, null, null, null, null, null, null, null, null, null, null, null, null, null, null, null, null, null, null, null, null, null, null, null, null, null, null, null, null, null, null, null, null, null, null, null, null, null, null, null, null, null, null, null, null, null, null, null, null, null, null, null, null, null, null, null, null, null, null, null, null, null, null, null, null, null, null, null, null, null, null, null, null, null, null, null, null, null, null, null, null, null, null, null, null, null, null, null, null, null, null, null, null, null, null, null, null, null, null, null, null, null, null, null, null, null, null, null, null, null, null, null, null, null, null, null, null, null, null, null, null, null, null, null, null, null, null, null, null, null, null, null, null, null, null, null, null, null, null, null, null, null, null, null, null, null, null, null, null, null, null, null, null, null, null, null, null, null, null, null, null, null, null, null, null, null, null, null, null, null, null, null, null, null, null, null, null, null, null, null, null, null, null, null, null, null, null, null, null, null, null, null, null, null, null, null, null, null, null, null, null, null, null, null, null, null, null, null, null, null, null, null, null, null, null, null, null, null, null, null, null, null, null, null, null, null, null, null, null, null, null, null, null, null, null, null, null, null, null, null, null, null, null, null, null, null, null, null, null, null, null, null, null, null, null, null, null, null, 40.0, null, null, null, null, null, null, null, null, null, null, null, null, null, null, null, null, null, null, null, null, null, null, null, 8.0, null, null, null, null, null, null, null, null, null, null, null, null, null, null, null, null, null, null, null, null, null, null, null, null, null, null, null, null, null, null, null, null, null, null, null, null, null, null, null, null, null, null, null, null, null, null, null, null, null, null, null, null, null, null, null, null, null, null, null, null, null, null, null, null, null, null, null, null, null, null, null, null, null, null, null, null, null, null, null, null, null, null, null, null, null, null, null, null, null, null, null, null, null, null, null, null, null, null, null, null, null, null, null, null, null, null, 2.0, 13.0, 12.0, 10.0, 49.0, 20.0, null, null, null, null, null, null, null, null, null, null, null, null, null, null, null, null, null, null, null, null, null, null, null, null, null, null, null, null, 45.0, 51.0, 65.0, 21.0, 25.0, 11.0, 27.0, 12.0, 73.0, 48.0, 56.0, 55.0, 13.0, 29.0, 63.0, null, null, null, null, null, null, null, null, null, null, null, null, null, null, null, null, null, null, null, null, null, null, null, null, null, null, null, null, null, null, null, null, null, null, null, null, null, null, null, null, null, null, null, null, null, null, null, null, null, null, null, null, null, null, null, null, null, null, null, null, null, null, null, null, null, null, null, null, null, null, null, null, null, null, null, null, null, null, null, null, null, null, null, null, null, null, null, null, null, null, null, null, null, null, null, null, null, null, null, null, null, null, null, null, null, null, null, null, null, null, null, null, null, null, null, null, null, null, null, null, null, null, null, null, null, null, null, null, null, null, null, null, null, null, null, null, null, null, null, null, null, null, null, null, null, null, null, null, null, null, null, null, null, null, null, null, null, null, null, null, null, null, null, null, null, null, null, null, null, null, null, null, null, null, null, null, null, null, null, null, null, null, null, null, null, null, null, null, null, null, null, null, null, null, null, null, null, null, null, null, null, null, null, null, null, null, null, null, null, null, null, null, null, null, null, null, null, null, null, null, null, null, null, null, null, null, null, null, null, null, null, null, null, null, null, null, null, null, null, null, null, null, null, null, null, null, null, null, null, null, null, null, null, null, null, null, null, null, null, null, null, null, null, null, null, null, null, null, null, null, null, null, null, null, null, null, null, null, null, null, null, null, null, null, null, null, null, null, null, null, null, null, null, null, null, null, null, null, null, null, 30.0, 24.0, 65.0, 6.0, 29.0, 41.0, 50.0, 22.0, 30.0, 9.0, 50.0, 48.0, 55.0, 36.0, 74.0, 37.0, 60.0, 8.0, 18.0, 27.0, 16.0, 35.0, 20.0, 14.0, 45.0, 39.0, 62.0, null, null, null, null, null, null, null, null, null, null, null, null, null, null, null, null, null, null, null, null, null, null, null, 34.0, null, null, null, null, null, null, null, null, null, null, null, null, null, null, null, null, null, null, null, null, null, null, null, null, null, null, null, null, null, null, null, null, null, null, null, null, null, null, null, null, null, null, null, null, null, null, null, null, null, null, null, null, null, null, null, null, null, null, null, null, null, null, null, null, null, null, null, null, null, null, null, null, null, null, null, null, null, null, null, null, null, null, null, null, null, null, null, null, null, null, null, null, null, null, null, null, null, null, null, null, null, null, null, null, null, null, null, null, null, null, null, null, null, null, null, null, null, null, null, null, null, null, null, null, null, null, null, null, null, null, null, null, null, null, null, null, null, null, null, null, 36.0, 74.0, null, null, null, null, null, null, null, null, null, null, null, null, null, null, null, null, null, null, null, null, null, null, null, null, null, null, null, null, null, null, null, null, null, null, null, null, null, null, null, null, null, null, null, null, null, null, null, null, null, null, null, null, null, null, null, null, null, null, null, null, null, null, null, null, null, null, null, null, null, null, null, null, null, null, null, null, null, null, null, null, null, null, null, null, null, null, null, null, null, null, null, null, null, null, null, null, null, null, null, null, null, null, null, null, null, 35.0, 38.0, 13.0, 48.0, 28.0, 19.0, 45.0, 38.0, null, null, null, null, null, null, null, null, null, null, null, null, null, null, null, null, null, null, null, null, null, null, null, null, null, null, null, null, null, null, null, null, null, null, null, null, null, null, null, null, null, null, null, null, null, null, null, null, null, null, null, null, null, null, null, null, null, null, null, null, null, null, null, null, null, null, null, null, null, null, null, null, null, null, null, null, null, null, null, null, null, null, null, null, null, null, null, null, null, null, null, null, null, null, null, null, null, null, null, null, null, null, null, null, null, null, null, null, null, null, null, null, null, null, null, null, null, null, null, null, null, null, null, null, null, null, null, null, null, null, null, null, null, null, null, null, null, null, null, null, null, null, null, null, null, null, null, null, null, null, null, null, null, null, null, null, null, null, null, null, null, null, null, null, null, null, null, null, null, null, null, null, null, null, null, null, null, null, null, null, null, null, null, null, null, null, null, null, null, null, null, null, null, null, null, null, null, null, null, null, null, null, null, null, null, null, null, null, null, null, null, null, null, null, null, null, null, null, null, null, null, null, null, null, null, null, null, null, null, null, null, null, null, null, null, null, null, null, null, null, null, null, null, null, null, null, null, null, null, null, null, null, null, null, null, null, null, null, null, null, null, null, null, null, null, null, null, null, null, null, null, null, null, null, null, null, null, null, null, null, null, null, null, null, null, null, null, null, null, null, null, null, null, null, null, null, null, null, null, null, null, null, null, null, null, null, null, null, null, null, null, null, null, null, null, null, null, null, null, null, null, null, null, null, null, null, null, null, null, null, null, null, null, null, null, null, null, null, null, null, null, null, null, null, null, null, null, null, null, null, null, null, null, null, null, null, null, null, null, null, null, null, null, null, null, null, null, null, null, null, null, null, null, null, null, null, null, null, null, null, null, null, null, null, null, null, null, null, null, null, null, null, null, null, null, null, null, null, null, null, null, null, null, null, null, null, null, null, null, null, null, null, null, null, null, null, null, null, null, null, null, null, null, null, null, null, null, null, null, null, null, null, null, null, null, null, null, null, null, null, null, null, null, null, null, null, null, null, null, null, null, null, null, null, null, null, null, null, null, null, null, null, null, null, null, null, null, null, null, null, null, null, null, null, null, null, null, null, null, null, null, null, null, null, null, null, null, null, null, null, null, null, null, null, null, null, null, null, null, null, null, null, null, null, null, null, null, null, null, null, null, null, null, null, null, null, null, null, null, null, null, null, null, null, null, null, null, null, null, null, null, null, null, null, null, null, null, null, null, null, null, null, null, null, null, null, null, null, null, 40.0, null, null, null, null, null, null, null, null, null, null, null, null, null, null, null, null, null, null, null, null, null, null, null, null, null, null, null, null, null, null, null, null, null, null, null, null, null, null, null, null, null, null, null, null, null, null, null, null, null, null, null, null, null, null, null, null, null, null, null, null, null, null, null, null, null, null, null, null, null, null, null, null, null, null, null, null, null, null, null, null, null, null, null, null, null, null, null, null, null, null, null, null, null, null, null, null, null, null, null, null, null, null, null, null, null, null, null, null, null, null, null, null, null, null, null, null, null, null, null, null, null, null, null, null, null, null, null, null, null, null, null, null, null, null, null, null, null, null, null, null, null, null, null, null, null, null, null, null, null, null, null, null, null, null, null, null, null, null, null, null, null, null, null, null, null, null, null, null, null, null, null, null, null, null, null, null, null, null, null, null, null, null, null, null, null, null, null, null, null, null, null, null, null, null, null, null, null, null, null, null, null, null, null, null, null, null, null, null, null, null, null, null, null, null, null, null, null, null, null, null, null, null, null, null, null, null, null, null, null, null, null, null, null, null, null, null, null, null, null, null, null, null, null, null, null, null, null, null, null, null, null, null, null, null, null, null, null, null, null, null, null, null, null, null, null, null, null, null, null, null, null, null, null, null, null, null, null, null, null, null, null, null, null, null, null, null, null, null, null, null, null, null, null, null, null, null, null, null, null, null, null, null, null, null, null, null, null, null, null, null, null, null, null, null, null, null, null, null, null, null, null, null, null, null, null, null, null, null, null, null, null, null, null, null, null, null, null, null, null, null, null, null, null, null, null, null, null, null, null, null, null, null, null, null, null, null, 69.0, null, 66.0, null, null, null, null, null, null, null, null, null, null, null, null, null, null, null, null, null, null, null, null, null, null, null, null, null, null, null, null, null, null, null, null, null, null, null, null, null, null, null, null, null, null, null, null, null, null, null, null, null, null, null, null, null, null, null, null, null, null, null, null, null, null, null, null, null, null, null, null, null, null, null, null, null, null, null, null, null, null, null, null, null, null, null, null, null, null, null, null, null, null, null, null, null, null, null, null, null, null, null, null, null, null, null, null, null, null, null, null, null, null, null, null, null, null, null, null, null, null, null, null, null, null, null, null, null, null, null, null, null, null, null, 7.0, 28.0, 55.0, 24.0, 8.0, 5.0, 57.0, 43.0, 66.0, 40.0, 47.0, 14.0, 17.0, 20.0, 29.0, 21.0, 28.0, 23.0, 25.0, 31.0, 49.0, 30.0, 26.0, 20.0, 29.0, 6.0, 18.0, 80.0, 3.0, 5.0, 40.0, 48.0, 32.0, null, null, null, null, null, null, null, null, null, null, null, null, null, null, null, null, null, null, null, null, null, null, null, null, null, null, null, null, null, null, null, null, null, null, null, null, null, null, null, null, null, null, null, null, null, null, null, null, null, null, null, null, null, null, null, null, null, null, null, null, null, null, null, null, null, null, null, null, null, null, null, null, null, null, null, null, null, null, null, null, null, null, null, null, null, null, null, null, null, null, null, null, null, null, null, null, null, null, null, null, null, null, null, null, null, null, null, null, null, null, null, null, null, null, null, null, null, null, null, null, null, null, 43.0, 32.0, 65.0, 39.0, 65.0, 26.0, 10.0, 51.0, 35.0, 69.0, 33.0, null, null, null, null, null, null, null, null, null, null, null, null, null, null, null, null, null, null, null, null, null, null, null, null, null, null, null, null, null, null, null, null, null, null, null, null, null, null, null, null, null, null, null, null, null, null, null, null, null, null, null, null, null, null, null, null, null, null, null, null, null, null, null, null, null, null, null, null, null, null, null, null, null, null, null, null, null, null, null, null, null, null, null, null, null, null, null, null, null, null, null, null, null, null, null, null, null, null, null, null, null, null, null, null, null, null, null, null, null, null, null, null, null, null, null, null, null, null, null, null, null, null, null, null, null, 50.0, 51.0, 75.0, 51.0, null, null, 29.0, 26.0, 35.0, 33.0, null, null, null, null, null, null, null, null, null, null, null, null, null, null, null, null, null, null, null, null, null, null, null, null, null, null, null, null, null, null, null, null, null, null, null, null, null, null, null, null, null, null, null, null, null, null, null, null, null, null, null, 35.0, 36.0, null, null, null, null, null, null, null, null, null, null, null, null, null, null, null, null, null, null, null, null, null, null, null, null, null, null, null, null, null, null, null, null, null, null, null, null, null, null, null, null, null, null, null, null, null, null, null, null, null, null, null, null, null, null, null, null, null, null, null, null, null, null, null, null, null, null, null, null, null, null, null, null, null, null, null, null, null, null, null, null, null, null, null, null, null, null, null, null, null, null, null, null, null, null, null, null, null, null, null, null, null, null, null, null, null, null, null, null, null, null, null, null, null, null, null, null, null, null, null, null, null, null, null, null, null, null, null, null, null, null, null, null, null, null, null, null, null, null, null, null, null, null, null, null, null, null, null, null, null, null, null, null, null, null, null, null, null, null, null, null, null, null, null, null, null, null, null, null, null, null, null, null, null, null, null, null, null, null, null, null, null, null, null, null, null, null, null, null, null, null, null, null, null, null, null, null, null, null, null, null, null, null, null, null, null, null, null, null, null, null, null, null, null, null, null, null, null, null, null, null, null, null, null, null, null, null, null, null, null, null, null, null, null, null, null, null, null, null, null, null, null, null, null, null, null, null, null, null, null, null, null, null, null, null, null, null, null, null, null, null, null, null, null, null, null, null, null, null, null, null, null, null, null, null, null, null, null, null, null, null, null, null, null, null, null, null, null, null, null, null, null, null, null, null, null, null, null, null, null, null, null, null, null, null, null, null, null, null, null, null, null, null, null, null, null, null, null, null, null, null, null, null, null, null, null, null, null, null, null, null, null, null, null, null, null, null, null, null, null, null, null, null, null, null, null, null, null, null, null, null, null, null, null, null, null, null, null, null, null, null, null, null, null, null, null, null, null, null, null, null, null, null, null, null, null, null, null, null, null, null, null, null, null, null, null, null, null, null, null, null, null, null, null, null, null, null, null, null, null, null, null, null, null, null, null, null, null, null, null, null, null, null, null, null, null, null, null, null, null, null, null, null, null, null, null, null, null, null, null, null, null, null, null, null, null, null, null, null, null, null, null, null, null, null, null, null, null, null, null, null, null, null, null, null, null, null, null, null, null, null, null, null, null, null, null, null, null, null, null, null, null, null, null, null, null, null, null, null, null, null, null, null, null, null, null, null, null, null, null, null, null, null, null, null, null, null, null, null, null, null, null, null, null, null, null, null, null, null, null, null, null, null, null, null, null, null, null, null, null, null, null, null, null, null, null, null, null, null, null, null, null, null, null, null, null, null, null, null, null, null, null, null, null, null, null, null, null, null, null, null, null, null, null, null, null, null, null, null, null, null, null, null, null, null, null, null, null, null, null, null, null, null, null, null, null, null, null, null, null, null, null, null, null, null, null, null, null, null, null, null, null, null, null, null, null, null, null, null, null, null, null, null, null, null, null, null, null, null, null, null, null, null, null, null, null, null, null, null, null, null, null, null, null, null, null, null, null, null, null, null, null, null, null, null, null, 59.0, 52.0, 39.0, 41.0, 30.0, 27.0, 35.0, 26.0, 23.0, 35.0, 28.0, 32.0, 72.0, 1.0, 38.0, 25.0, 32.0, 35.0, 25.0, 60.0, 60.0, null, null, null, null, null, null, null, null, null, null, null, null, null, null, null, null, null, null, null, null, null, null, null, null, null, null, null, null, null, null, null, null, null, null, null, null, null, null, null, null, null, null, null, null, null, null, null, null, null, null, null, null, null, null, null, null, null, null, null, null, null, null, null, null, null, null, null, null, null, null, null, null, null, null, null, null, null, null, null, null, null, null, null, null, null, null, null, null, null, null, null, null, null, null, null, null, null, null, null, null, null, null, null, null, null, null, null, null, null, null, null, null, null, null, null, null, null, null, null, null, null, null, null, null, null, null, null, null, null, null, null, null, null, null, null, null, null, null, null, null, null, null, null, null, null, null, null, null, null, null, null, null, null, null, null, null, null, null, null, null, null, null, null, null, 28.0, 80.0, null, null, null, null, null, null, null, null, null, null, null, null, null, null, null, null, null, null, null, null, null, null, null, null, null, null, null, null, null, null, null, null, null, null, null, null, null, null, null, null, null, null, null, null, null, null, null, null, null, null, null, null, null, null, null, null, null, null, null, null, null, null, null, null, null, null, null, null, null, null, null, null, null, null, null, null, null, null, null, null, null, null, null, null, null, null, null, null, null, null, null, null, null, null, null, null, null, null, null, null, null, null, null, null, null, null, null, null, null, null, null, null, null, null, null, null, null, null, null, null, null, null, null, null, null, null, null, null, null, null, null, null, null, null, null, null, null, null, null, null, null, null, null, null, null, null, null, null, null, null, null, null, null, null, null, null, null, null, null, null, null, null, null, null, null, null, null, null, null, null, null, null, null, null, null, null, null, null, null, null, null, null, null, null, null, null, null, null, null, null, null, null, null, null, null, null, null, null, null, null, null, null, null, null, null, null, null, null, null, null, null, null, null, null, null, null, null, null, null, null, null, null, null, null, null, null, null, null, null, null, null, null, null, null, null, null, null, null, null, null, null, null, null, null, null, null, null, null, null, null, null, null, null, null, null, null, null, null, null, null, null, null, null, null, null, null, null, null, null, null, null, null, null, null, null, null, null, null, null, null, null, null, null, null, null, null, null, null, null, null, null, null, null, null, null, null, null, null, null, null, null, null, null, null, null, null, null, null, null, null, null, null, null, null, null, null, null, null, null, null, null, null, null, null, null, null, null, null, null, null, null, null, null, null, null, null, null, null, null, null, null, null, null, null, null, null, null, null, null, null, null, null, null, null, null, null, null, null, null, null, null, null, null, null, null, null, null, null, null, null, null, null, null, null, null, null, null, null, null, null, null, null, null, null, null, null, null, null, null, null, null, null, null, null, null, null, null, null, null, null, null, null, null, null, null, null, null, null, null, null, null, null, null, null, null, null, null, null, null, null, null, null, null, null, null, null, null, null, null, null, null, null, null, null, null, null, null, null, null, null, null, null, null, null, null, null, null, null, null, null, null, null, null, null, null, null, null, null, null, null, null, null, null, null, null, null, null, null, null, null, null, null, null, null, null, null, null, null, null, null, null, null, null, null, null, null, null, null, null, null, null, null, null, null, null, null, null, null, null, null, null, null, null, null, null, null, null, null, null, null, null, null, null, null, null, null, null, null, null, null, null, null, null, null, null, null, null, null, null, null, null, null, null, null, null, null, null, null, null, null, null, null, null, null, null, null, null, null, null, null, null, null, null, null, null, null, null, null, null, null, null, null, null, null, null, null, null, null, null, null, null, null, null, null, null, null, 35.0, 60.0, null, null, null, null, null, null, null, null, null, null, null, null, null, null, null, null, null, null, null, null, null, null, null, null, null, null, null, null, null, null, null, null, null, null, null, null, null, null, null, null, null, null, null, null, null, null, null, null, null, null, null, null, null, null, null, null, null, null, null, null, null, null, null, null, null, null, null, null, null, null, null, null, null, null, null, null, null, null, null, null, null, null, null, null, null, null, null, null, null, null, null, null, null, null, null, null, null, null, null, null, null, null, null, null, null, null, null, null, null, null, null, null, null, null, null, null, null, null, null, null, null, null, null, null, null, null, null, null, null, null, null, null, null, null, null, null, null, null, null, null, null, null, null, null, null, null, null, null, null, null, null, null, null, null, null, null, null, null, null, null, null, null, null, null, null, null, null, null, null, null, null, null, null, null, null, null, null, null, null, null, null, null, null, null, null, null, null, null, null, null, null, null, null, null, null, null, null, null, null, null, null, null, null, null, null, null, null, null, null, null, null, null, null, null, null, null, null, null, null, null, null, 13.0, 65.0, 51.0, 42.0, 33.0, 16.0, 65.0, 30.0, 54.0, 58.0, 54.0, 37.0, 43.0, 47.0, 25.0, 45.0, 30.0, 43.0, 50.0, 35.0, 25.0, 64.0, 23.0, 52.0, 59.0, 12.0, 65.0, 66.0, 37.0, 70.0, 1.5, 38.0, 26.0, 55.0, null, null, null, null, null, null, null, null, null, null, null, null, null, null, null, null, null, null, null, null, null, null, null, null, null, null, null, null, null, null, null, null, null, null, null, null, null, null, null, null, null, null, null, null, null, null, null, null, null, null, null, null, null, null, null, null, null, null, null, null, null, null, null, null, null, null, null, null, null, null, null, null, null, null, null, null, null, null, null, null, null, null, null, null, null, null, null, null, null, null, null, null, null, null, null, null, null, null, null, null, null, null, null, null, null, null, null, null, null, null, null, null, null, null, null, null, null, null, null, null, null, null, null, null, null, null, null, null, null, null, null, null, null, null, null, null, null, null, null, null, null, null, null, null, null, null, null, null, null, null, null, null, null, null, null, null, null, null, null, null, null, null, null, null, null, null, null, null, null, null, null, null, null, null, null, null, null, null, null, null, null, null, null, null, null, null, null, null, null, null, null, null, null, null, null, null, null, null, null, 67.0, 35.0, null, null, null, 36.0, 48.0, 22.0, 25.0, 60.0, 35.0, 44.0, 40.0, 30.0, null, null, null, null, null, null, null, null, null, null, null, null, null, null, null, null, null, null, null, null, null, null, null, null, null, null, null, null, null, null, null, null, null, null, null, null, null, null, null, null, null, null, null, null, null, null, null, null, null, null, null, null, null, null, null, null, null, null, null, null, null, null, null, null, null, null, null, null, null, null, null, null, null, null, null, null, null, null, null, null, null, null, null, null, null, null, null, null, null, null, null, null, null, null, null, null, null, null, null, null, null, null, null, null, null, null, null, null, null, null, null, null, null, null, null, null, null, null, null, null, null, null, null, null, null, null, null, null, null, null, null, null, null, null, null, null, null, null, null, null, null, null, null, null, null, null, null, null, null, null, null, null, null, null, null, null, null, null, null, null, null, null, null, null, null, null, null, null, null, null, null, null, null, null, null, null, null, null, null, null, null, null, null, null, null, null, null, null, null, null, null, null, null, null, null, null, null, null, null, null, null, null, null, null, null, null, null, null, null, null, null, null, null, null, null, null, null, null, null, null, null, null, null, null, null, null, null, null, null, null, null, null, null, null, null, null, null, null, null, null, null, null, null, null, null, null, null, null, null, null, null], \"xaxis\": \"x\", \"yaxis\": \"y\"}],\n",
              "                        {\"barmode\": \"relative\", \"legend\": {\"tracegroupgap\": 0}, \"template\": {\"data\": {\"bar\": [{\"error_x\": {\"color\": \"#2a3f5f\"}, \"error_y\": {\"color\": \"#2a3f5f\"}, \"marker\": {\"line\": {\"color\": \"#E5ECF6\", \"width\": 0.5}}, \"type\": \"bar\"}], \"barpolar\": [{\"marker\": {\"line\": {\"color\": \"#E5ECF6\", \"width\": 0.5}}, \"type\": \"barpolar\"}], \"carpet\": [{\"aaxis\": {\"endlinecolor\": \"#2a3f5f\", \"gridcolor\": \"white\", \"linecolor\": \"white\", \"minorgridcolor\": \"white\", \"startlinecolor\": \"#2a3f5f\"}, \"baxis\": {\"endlinecolor\": \"#2a3f5f\", \"gridcolor\": \"white\", \"linecolor\": \"white\", \"minorgridcolor\": \"white\", \"startlinecolor\": \"#2a3f5f\"}, \"type\": \"carpet\"}], \"choropleth\": [{\"colorbar\": {\"outlinewidth\": 0, \"ticks\": \"\"}, \"type\": \"choropleth\"}], \"contour\": [{\"colorbar\": {\"outlinewidth\": 0, \"ticks\": \"\"}, \"colorscale\": [[0.0, \"#0d0887\"], [0.1111111111111111, \"#46039f\"], [0.2222222222222222, \"#7201a8\"], [0.3333333333333333, \"#9c179e\"], [0.4444444444444444, \"#bd3786\"], [0.5555555555555556, \"#d8576b\"], [0.6666666666666666, \"#ed7953\"], [0.7777777777777778, \"#fb9f3a\"], [0.8888888888888888, \"#fdca26\"], [1.0, \"#f0f921\"]], \"type\": \"contour\"}], \"contourcarpet\": [{\"colorbar\": {\"outlinewidth\": 0, \"ticks\": \"\"}, \"type\": \"contourcarpet\"}], \"heatmap\": [{\"colorbar\": {\"outlinewidth\": 0, \"ticks\": \"\"}, \"colorscale\": [[0.0, \"#0d0887\"], [0.1111111111111111, \"#46039f\"], [0.2222222222222222, \"#7201a8\"], [0.3333333333333333, \"#9c179e\"], [0.4444444444444444, \"#bd3786\"], [0.5555555555555556, \"#d8576b\"], [0.6666666666666666, \"#ed7953\"], [0.7777777777777778, \"#fb9f3a\"], [0.8888888888888888, \"#fdca26\"], [1.0, \"#f0f921\"]], \"type\": \"heatmap\"}], \"heatmapgl\": [{\"colorbar\": {\"outlinewidth\": 0, \"ticks\": \"\"}, \"colorscale\": [[0.0, \"#0d0887\"], [0.1111111111111111, \"#46039f\"], [0.2222222222222222, \"#7201a8\"], [0.3333333333333333, \"#9c179e\"], [0.4444444444444444, \"#bd3786\"], [0.5555555555555556, \"#d8576b\"], [0.6666666666666666, \"#ed7953\"], [0.7777777777777778, \"#fb9f3a\"], [0.8888888888888888, \"#fdca26\"], [1.0, \"#f0f921\"]], \"type\": \"heatmapgl\"}], \"histogram\": [{\"marker\": {\"colorbar\": {\"outlinewidth\": 0, \"ticks\": \"\"}}, \"type\": \"histogram\"}], \"histogram2d\": [{\"colorbar\": {\"outlinewidth\": 0, \"ticks\": \"\"}, \"colorscale\": [[0.0, \"#0d0887\"], [0.1111111111111111, \"#46039f\"], [0.2222222222222222, \"#7201a8\"], [0.3333333333333333, \"#9c179e\"], [0.4444444444444444, \"#bd3786\"], [0.5555555555555556, \"#d8576b\"], [0.6666666666666666, \"#ed7953\"], [0.7777777777777778, \"#fb9f3a\"], [0.8888888888888888, \"#fdca26\"], [1.0, \"#f0f921\"]], \"type\": \"histogram2d\"}], \"histogram2dcontour\": [{\"colorbar\": {\"outlinewidth\": 0, \"ticks\": \"\"}, \"colorscale\": [[0.0, \"#0d0887\"], [0.1111111111111111, \"#46039f\"], [0.2222222222222222, \"#7201a8\"], [0.3333333333333333, \"#9c179e\"], [0.4444444444444444, \"#bd3786\"], [0.5555555555555556, \"#d8576b\"], [0.6666666666666666, \"#ed7953\"], [0.7777777777777778, \"#fb9f3a\"], [0.8888888888888888, \"#fdca26\"], [1.0, \"#f0f921\"]], \"type\": \"histogram2dcontour\"}], \"mesh3d\": [{\"colorbar\": {\"outlinewidth\": 0, \"ticks\": \"\"}, \"type\": \"mesh3d\"}], \"parcoords\": [{\"line\": {\"colorbar\": {\"outlinewidth\": 0, \"ticks\": \"\"}}, \"type\": \"parcoords\"}], \"pie\": [{\"automargin\": true, \"type\": \"pie\"}], \"scatter\": [{\"marker\": {\"colorbar\": {\"outlinewidth\": 0, \"ticks\": \"\"}}, \"type\": \"scatter\"}], \"scatter3d\": [{\"line\": {\"colorbar\": {\"outlinewidth\": 0, \"ticks\": \"\"}}, \"marker\": {\"colorbar\": {\"outlinewidth\": 0, \"ticks\": \"\"}}, \"type\": \"scatter3d\"}], \"scattercarpet\": [{\"marker\": {\"colorbar\": {\"outlinewidth\": 0, \"ticks\": \"\"}}, \"type\": \"scattercarpet\"}], \"scattergeo\": [{\"marker\": {\"colorbar\": {\"outlinewidth\": 0, \"ticks\": \"\"}}, \"type\": \"scattergeo\"}], \"scattergl\": [{\"marker\": {\"colorbar\": {\"outlinewidth\": 0, \"ticks\": \"\"}}, \"type\": \"scattergl\"}], \"scattermapbox\": [{\"marker\": {\"colorbar\": {\"outlinewidth\": 0, \"ticks\": \"\"}}, \"type\": \"scattermapbox\"}], \"scatterpolar\": [{\"marker\": {\"colorbar\": {\"outlinewidth\": 0, \"ticks\": \"\"}}, \"type\": \"scatterpolar\"}], \"scatterpolargl\": [{\"marker\": {\"colorbar\": {\"outlinewidth\": 0, \"ticks\": \"\"}}, \"type\": \"scatterpolargl\"}], \"scatterternary\": [{\"marker\": {\"colorbar\": {\"outlinewidth\": 0, \"ticks\": \"\"}}, \"type\": \"scatterternary\"}], \"surface\": [{\"colorbar\": {\"outlinewidth\": 0, \"ticks\": \"\"}, \"colorscale\": [[0.0, \"#0d0887\"], [0.1111111111111111, \"#46039f\"], [0.2222222222222222, \"#7201a8\"], [0.3333333333333333, \"#9c179e\"], [0.4444444444444444, \"#bd3786\"], [0.5555555555555556, \"#d8576b\"], [0.6666666666666666, \"#ed7953\"], [0.7777777777777778, \"#fb9f3a\"], [0.8888888888888888, \"#fdca26\"], [1.0, \"#f0f921\"]], \"type\": \"surface\"}], \"table\": [{\"cells\": {\"fill\": {\"color\": \"#EBF0F8\"}, \"line\": {\"color\": \"white\"}}, \"header\": {\"fill\": {\"color\": \"#C8D4E3\"}, \"line\": {\"color\": \"white\"}}, \"type\": \"table\"}]}, \"layout\": {\"annotationdefaults\": {\"arrowcolor\": \"#2a3f5f\", \"arrowhead\": 0, \"arrowwidth\": 1}, \"coloraxis\": {\"colorbar\": {\"outlinewidth\": 0, \"ticks\": \"\"}}, \"colorscale\": {\"diverging\": [[0, \"#8e0152\"], [0.1, \"#c51b7d\"], [0.2, \"#de77ae\"], [0.3, \"#f1b6da\"], [0.4, \"#fde0ef\"], [0.5, \"#f7f7f7\"], [0.6, \"#e6f5d0\"], [0.7, \"#b8e186\"], [0.8, \"#7fbc41\"], [0.9, \"#4d9221\"], [1, \"#276419\"]], \"sequential\": [[0.0, \"#0d0887\"], [0.1111111111111111, \"#46039f\"], [0.2222222222222222, \"#7201a8\"], [0.3333333333333333, \"#9c179e\"], [0.4444444444444444, \"#bd3786\"], [0.5555555555555556, \"#d8576b\"], [0.6666666666666666, \"#ed7953\"], [0.7777777777777778, \"#fb9f3a\"], [0.8888888888888888, \"#fdca26\"], [1.0, \"#f0f921\"]], \"sequentialminus\": [[0.0, \"#0d0887\"], [0.1111111111111111, \"#46039f\"], [0.2222222222222222, \"#7201a8\"], [0.3333333333333333, \"#9c179e\"], [0.4444444444444444, \"#bd3786\"], [0.5555555555555556, \"#d8576b\"], [0.6666666666666666, \"#ed7953\"], [0.7777777777777778, \"#fb9f3a\"], [0.8888888888888888, \"#fdca26\"], [1.0, \"#f0f921\"]]}, \"colorway\": [\"#636efa\", \"#EF553B\", \"#00cc96\", \"#ab63fa\", \"#FFA15A\", \"#19d3f3\", \"#FF6692\", \"#B6E880\", \"#FF97FF\", \"#FECB52\"], \"font\": {\"color\": \"#2a3f5f\"}, \"geo\": {\"bgcolor\": \"white\", \"lakecolor\": \"white\", \"landcolor\": \"#E5ECF6\", \"showlakes\": true, \"showland\": true, \"subunitcolor\": \"white\"}, \"hoverlabel\": {\"align\": \"left\"}, \"hovermode\": \"closest\", \"mapbox\": {\"style\": \"light\"}, \"paper_bgcolor\": \"white\", \"plot_bgcolor\": \"#E5ECF6\", \"polar\": {\"angularaxis\": {\"gridcolor\": \"white\", \"linecolor\": \"white\", \"ticks\": \"\"}, \"bgcolor\": \"#E5ECF6\", \"radialaxis\": {\"gridcolor\": \"white\", \"linecolor\": \"white\", \"ticks\": \"\"}}, \"scene\": {\"xaxis\": {\"backgroundcolor\": \"#E5ECF6\", \"gridcolor\": \"white\", \"gridwidth\": 2, \"linecolor\": \"white\", \"showbackground\": true, \"ticks\": \"\", \"zerolinecolor\": \"white\"}, \"yaxis\": {\"backgroundcolor\": \"#E5ECF6\", \"gridcolor\": \"white\", \"gridwidth\": 2, \"linecolor\": \"white\", \"showbackground\": true, \"ticks\": \"\", \"zerolinecolor\": \"white\"}, \"zaxis\": {\"backgroundcolor\": \"#E5ECF6\", \"gridcolor\": \"white\", \"gridwidth\": 2, \"linecolor\": \"white\", \"showbackground\": true, \"ticks\": \"\", \"zerolinecolor\": \"white\"}}, \"shapedefaults\": {\"line\": {\"color\": \"#2a3f5f\"}}, \"ternary\": {\"aaxis\": {\"gridcolor\": \"white\", \"linecolor\": \"white\", \"ticks\": \"\"}, \"baxis\": {\"gridcolor\": \"white\", \"linecolor\": \"white\", \"ticks\": \"\"}, \"bgcolor\": \"#E5ECF6\", \"caxis\": {\"gridcolor\": \"white\", \"linecolor\": \"white\", \"ticks\": \"\"}}, \"title\": {\"x\": 0.05}, \"xaxis\": {\"automargin\": true, \"gridcolor\": \"white\", \"linecolor\": \"white\", \"ticks\": \"\", \"title\": {\"standoff\": 15}, \"zerolinecolor\": \"white\", \"zerolinewidth\": 2}, \"yaxis\": {\"automargin\": true, \"gridcolor\": \"white\", \"linecolor\": \"white\", \"ticks\": \"\", \"title\": {\"standoff\": 15}, \"zerolinecolor\": \"white\", \"zerolinewidth\": 2}}}, \"title\": {\"text\": \"Distribution of ages of confirmed patients\"}, \"xaxis\": {\"anchor\": \"y\", \"domain\": [0.0, 1.0], \"title\": {\"text\": \"agebracket\"}}, \"yaxis\": {\"anchor\": \"x\", \"domain\": [0.0, 1.0], \"title\": {\"text\": \"count\"}}},\n",
              "                        {\"responsive\": true}\n",
              "                    ).then(function(){\n",
              "                            \n",
              "var gd = document.getElementById('44e3d66f-01f6-42a0-aa7f-62f3e82e1ddd');\n",
              "var x = new MutationObserver(function (mutations, observer) {{\n",
              "        var display = window.getComputedStyle(gd).display;\n",
              "        if (!display || display === 'none') {{\n",
              "            console.log([gd, 'removed!']);\n",
              "            Plotly.purge(gd);\n",
              "            observer.disconnect();\n",
              "        }}\n",
              "}});\n",
              "\n",
              "// Listen for the removal of the full notebook cells\n",
              "var notebookContainer = gd.closest('#notebook-container');\n",
              "if (notebookContainer) {{\n",
              "    x.observe(notebookContainer, {childList: true});\n",
              "}}\n",
              "\n",
              "// Listen for the clearing of the current output cell\n",
              "var outputEl = gd.closest('.output');\n",
              "if (outputEl) {{\n",
              "    x.observe(outputEl, {childList: true});\n",
              "}}\n",
              "\n",
              "                        })\n",
              "                };\n",
              "                \n",
              "            </script>\n",
              "        </div>\n",
              "</body>\n",
              "</html>"
            ]
          },
          "metadata": {
            "tags": []
          }
        }
      ]
    },
    {
      "cell_type": "markdown",
      "metadata": {
        "colab_type": "text",
        "id": "Yibb139Wtl0S"
      },
      "source": [
        "## Covid-19 cases distribution across states"
      ]
    },
    {
      "cell_type": "code",
      "metadata": {
        "colab_type": "code",
        "id": "ARyecvlZtl0T",
        "outputId": "3f02e809-c234-406d-a7a3-4428c1ec89ff",
        "colab": {
          "base_uri": "https://localhost:8080/",
          "height": 316
        }
      },
      "source": [
        "dist = df.groupby(['detectedstate', 'detecteddistrict'])['patientnumber'].count().reset_index()\n",
        "dist.head()\n",
        "\n",
        "treeMapCart(dist, ['detectedstate', 'detecteddistrict'] , 'patientnumber' , 'Number of Confirmed Cases')\n"
      ],
      "execution_count": 0,
      "outputs": [
        {
          "output_type": "error",
          "ename": "TypeError",
          "evalue": "ignored",
          "traceback": [
            "\u001b[0;31m---------------------------------------------------------------------------\u001b[0m",
            "\u001b[0;31mTypeError\u001b[0m                                 Traceback (most recent call last)",
            "\u001b[0;32m<ipython-input-98-91701a104675>\u001b[0m in \u001b[0;36m<module>\u001b[0;34m()\u001b[0m\n\u001b[1;32m      2\u001b[0m \u001b[0mdist\u001b[0m\u001b[0;34m.\u001b[0m\u001b[0mhead\u001b[0m\u001b[0;34m(\u001b[0m\u001b[0;34m)\u001b[0m\u001b[0;34m\u001b[0m\u001b[0;34m\u001b[0m\u001b[0m\n\u001b[1;32m      3\u001b[0m \u001b[0;34m\u001b[0m\u001b[0m\n\u001b[0;32m----> 4\u001b[0;31m \u001b[0mtreeMapCart\u001b[0m\u001b[0;34m(\u001b[0m\u001b[0mdist\u001b[0m\u001b[0;34m,\u001b[0m \u001b[0;34m[\u001b[0m\u001b[0;34m'detectedstate'\u001b[0m\u001b[0;34m,\u001b[0m \u001b[0;34m'detecteddistrict'\u001b[0m\u001b[0;34m]\u001b[0m \u001b[0;34m,\u001b[0m \u001b[0;34m'patientnumber'\u001b[0m \u001b[0;34m,\u001b[0m \u001b[0;34m'Number of Confirmed Cases'\u001b[0m\u001b[0;34m)\u001b[0m\u001b[0;34m\u001b[0m\u001b[0;34m\u001b[0m\u001b[0m\n\u001b[0m",
            "\u001b[0;32m<ipython-input-96-bb313513e58e>\u001b[0m in \u001b[0;36mtreeMapCart\u001b[0;34m(dfname, columnList, valueColumn, plotTitle)\u001b[0m\n\u001b[1;32m      3\u001b[0m \u001b[0;32mdef\u001b[0m \u001b[0mtreeMapCart\u001b[0m\u001b[0;34m(\u001b[0m\u001b[0mdfname\u001b[0m \u001b[0;34m,\u001b[0m \u001b[0mcolumnList\u001b[0m \u001b[0;34m,\u001b[0m \u001b[0mvalueColumn\u001b[0m \u001b[0;34m,\u001b[0m \u001b[0mplotTitle\u001b[0m\u001b[0;34m)\u001b[0m\u001b[0;34m:\u001b[0m\u001b[0;34m\u001b[0m\u001b[0;34m\u001b[0m\u001b[0m\n\u001b[1;32m      4\u001b[0m   fig = px.treemap(dfname, path=columnList, values=valueColumn, height=700,\n\u001b[0;32m----> 5\u001b[0;31m            title=plotTitle, color_discrete_sequence = px.colors.qualitative.Prism)\n\u001b[0m\u001b[1;32m      6\u001b[0m   \u001b[0mfig\u001b[0m\u001b[0;34m.\u001b[0m\u001b[0mdata\u001b[0m\u001b[0;34m[\u001b[0m\u001b[0;36m0\u001b[0m\u001b[0;34m]\u001b[0m\u001b[0;34m.\u001b[0m\u001b[0mtextinfo\u001b[0m \u001b[0;34m=\u001b[0m \u001b[0;34m'label+text+value'\u001b[0m\u001b[0;34m\u001b[0m\u001b[0;34m\u001b[0m\u001b[0m\n\u001b[1;32m      7\u001b[0m   \u001b[0mfig\u001b[0m\u001b[0;34m.\u001b[0m\u001b[0mshow\u001b[0m\u001b[0;34m(\u001b[0m\u001b[0;34m)\u001b[0m\u001b[0;34m\u001b[0m\u001b[0;34m\u001b[0m\u001b[0m\n",
            "\u001b[0;31mTypeError\u001b[0m: treemap() got an unexpected keyword argument 'path'"
          ]
        }
      ]
    },
    {
      "cell_type": "code",
      "metadata": {
        "colab_type": "code",
        "id": "ZIVSGvhYtl0V",
        "colab": {}
      },
      "source": [
        "df['statuschangedate'] = pd.to_datetime(df['statuschangedate'])\n",
        "df['dateannounced'] = pd.to_datetime(df['dateannounced'])"
      ],
      "execution_count": 0,
      "outputs": []
    },
    {
      "cell_type": "code",
      "metadata": {
        "colab_type": "code",
        "id": "mH3cZiSvtl0W",
        "colab": {}
      },
      "source": [
        "temp = df[['dateannounced', 'statuschangedate', 'currentstatus']].dropna()\n",
        "temp = temp[temp['statuschangedate']!=temp['dateannounced']]\n",
        "temp['no_of_days'] = temp['statuschangedate'] - temp['dateannounced']\n",
        "temp['no_of_days'] = temp['no_of_days'].dt.days\n",
        "temp = temp[temp['no_of_days']>0]\n"
      ],
      "execution_count": 0,
      "outputs": []
    },
    {
      "cell_type": "code",
      "metadata": {
        "colab_type": "code",
        "id": "Xp-lCXCatl0Z",
        "outputId": "5bc073b4-5a49-463d-d9d0-73753ed4bd41",
        "scrolled": true,
        "colab": {
          "base_uri": "https://localhost:8080/",
          "height": 593
        }
      },
      "source": [
        "print('Total no. of values :', df.shape[0], '\\nNo. of missing values :', df.shape[0]-temp.shape[0], '\\nNo. of available values :', df.shape[0]-(df.shape[0]-temp.shape[0]))\n",
        "#boxplot(temp , 'currentstatus' ,'dateannounced' , \"Current Status of COVID-19 patient after Date Announced\")\n",
        "px.box(temp, x=\"currentstatus\", y=\"dateannounced\", color='currentstatus')\n"
      ],
      "execution_count": 0,
      "outputs": [
        {
          "output_type": "stream",
          "text": [
            "Total no. of values : 13060 \n",
            "No. of missing values : 12948 \n",
            "No. of available values : 112\n"
          ],
          "name": "stdout"
        },
        {
          "output_type": "display_data",
          "data": {
            "text/html": [
              "<html>\n",
              "<head><meta charset=\"utf-8\" /></head>\n",
              "<body>\n",
              "    <div>\n",
              "            <script src=\"https://cdnjs.cloudflare.com/ajax/libs/mathjax/2.7.5/MathJax.js?config=TeX-AMS-MML_SVG\"></script><script type=\"text/javascript\">if (window.MathJax) {MathJax.Hub.Config({SVG: {font: \"STIX-Web\"}});}</script>\n",
              "                <script type=\"text/javascript\">window.PlotlyConfig = {MathJaxConfig: 'local'};</script>\n",
              "        <script src=\"https://cdn.plot.ly/plotly-latest.min.js\"></script>    \n",
              "            <div id=\"304548ac-559f-4ecb-af7e-a578ef9800bb\" class=\"plotly-graph-div\" style=\"height:525px; width:100%;\"></div>\n",
              "            <script type=\"text/javascript\">\n",
              "                \n",
              "                    window.PLOTLYENV=window.PLOTLYENV || {};\n",
              "                    \n",
              "                if (document.getElementById(\"304548ac-559f-4ecb-af7e-a578ef9800bb\")) {\n",
              "                    Plotly.newPlot(\n",
              "                        '304548ac-559f-4ecb-af7e-a578ef9800bb',\n",
              "                        [{\"alignmentgroup\": \"True\", \"hoverlabel\": {\"namelength\": 0}, \"hovertemplate\": \"currentstatus=%{x}<br>dateannounced=%{y}\", \"legendgroup\": \"currentstatus=Recovered\", \"marker\": {\"color\": \"#636efa\"}, \"name\": \"currentstatus=Recovered\", \"notched\": false, \"offsetgroup\": \"currentstatus=Recovered\", \"orientation\": \"v\", \"showlegend\": true, \"type\": \"box\", \"x\": [\"Recovered\", \"Recovered\", \"Recovered\", \"Recovered\", \"Recovered\", \"Recovered\", \"Recovered\", \"Recovered\", \"Recovered\", \"Recovered\", \"Recovered\", \"Recovered\", \"Recovered\", \"Recovered\", \"Recovered\", \"Recovered\", \"Recovered\", \"Recovered\", \"Recovered\", \"Recovered\", \"Recovered\", \"Recovered\", \"Recovered\", \"Recovered\", \"Recovered\", \"Recovered\", \"Recovered\", \"Recovered\", \"Recovered\", \"Recovered\", \"Recovered\", \"Recovered\", \"Recovered\", \"Recovered\", \"Recovered\", \"Recovered\", \"Recovered\", \"Recovered\", \"Recovered\", \"Recovered\", \"Recovered\", \"Recovered\", \"Recovered\", \"Recovered\", \"Recovered\", \"Recovered\", \"Recovered\", \"Recovered\", \"Recovered\", \"Recovered\", \"Recovered\", \"Recovered\", \"Recovered\", \"Recovered\", \"Recovered\", \"Recovered\", \"Recovered\", \"Recovered\", \"Recovered\", \"Recovered\", \"Recovered\", \"Recovered\", \"Recovered\", \"Recovered\", \"Recovered\", \"Recovered\", \"Recovered\", \"Recovered\", \"Recovered\", \"Recovered\", \"Recovered\", \"Recovered\", \"Recovered\", \"Recovered\", \"Recovered\"], \"x0\": \" \", \"xaxis\": \"x\", \"y\": [\"2020-01-30T00:00:00\", \"2020-02-02T00:00:00\", \"2020-02-03T00:00:00\", \"2020-03-13T00:00:00\", \"2020-03-13T00:00:00\", \"2020-03-15T00:00:00\", \"2020-03-17T00:00:00\", \"2020-03-16T00:00:00\", \"2020-03-18T00:00:00\", \"2020-03-18T00:00:00\", \"2020-03-18T00:00:00\", \"2020-03-19T00:00:00\", \"2020-03-19T00:00:00\", \"2020-03-20T00:00:00\", \"2020-03-20T00:00:00\", \"2020-03-20T00:00:00\", \"2020-03-20T00:00:00\", \"2020-03-20T00:00:00\", \"2020-03-21T00:00:00\", \"2020-03-21T00:00:00\", \"2020-03-21T00:00:00\", \"2020-03-21T00:00:00\", \"2020-03-21T00:00:00\", \"2020-03-22T00:00:00\", \"2020-03-22T00:00:00\", \"2020-03-22T00:00:00\", \"2020-03-22T00:00:00\", \"2020-03-23T00:00:00\", \"2020-03-23T00:00:00\", \"2020-03-23T00:00:00\", \"2020-03-23T00:00:00\", \"2020-03-23T00:00:00\", \"2020-03-24T00:00:00\", \"2020-03-24T00:00:00\", \"2020-03-24T00:00:00\", \"2020-03-24T00:00:00\", \"2020-03-24T00:00:00\", \"2020-03-24T00:00:00\", \"2020-03-24T00:00:00\", \"2020-03-25T00:00:00\", \"2020-03-25T00:00:00\", \"2020-03-25T00:00:00\", \"2020-03-25T00:00:00\", \"2020-03-26T00:00:00\", \"2020-03-26T00:00:00\", \"2020-03-26T00:00:00\", \"2020-03-27T00:00:00\", \"2020-03-27T00:00:00\", \"2020-03-28T00:00:00\", \"2020-03-28T00:00:00\", \"2020-03-28T00:00:00\", \"2020-03-28T00:00:00\", \"2020-03-28T00:00:00\", \"2020-03-28T00:00:00\", \"2020-03-29T00:00:00\", \"2020-03-29T00:00:00\", \"2020-03-29T00:00:00\", \"2020-03-29T00:00:00\", \"2020-03-29T00:00:00\", \"2020-03-29T00:00:00\", \"2020-03-29T00:00:00\", \"2020-03-29T00:00:00\", \"2020-03-29T00:00:00\", \"2020-03-29T00:00:00\", \"2020-03-29T00:00:00\", \"2020-03-29T00:00:00\", \"2020-03-30T00:00:00\", \"2020-03-30T00:00:00\", \"2020-03-30T00:00:00\", \"2020-03-30T00:00:00\", \"2020-03-30T00:00:00\", \"2020-03-30T00:00:00\", \"2020-03-30T00:00:00\", \"2020-03-31T00:00:00\", \"2020-01-04T00:00:00\"], \"y0\": \" \", \"yaxis\": \"y\"}, {\"alignmentgroup\": \"True\", \"hoverlabel\": {\"namelength\": 0}, \"hovertemplate\": \"currentstatus=%{x}<br>dateannounced=%{y}\", \"legendgroup\": \"currentstatus=Hospitalized\", \"marker\": {\"color\": \"#EF553B\"}, \"name\": \"currentstatus=Hospitalized\", \"notched\": false, \"offsetgroup\": \"currentstatus=Hospitalized\", \"orientation\": \"v\", \"showlegend\": true, \"type\": \"box\", \"x\": [\"Hospitalized\", \"Hospitalized\", \"Hospitalized\", \"Hospitalized\", \"Hospitalized\", \"Hospitalized\", \"Hospitalized\", \"Hospitalized\", \"Hospitalized\", \"Hospitalized\", \"Hospitalized\", \"Hospitalized\", \"Hospitalized\", \"Hospitalized\", \"Hospitalized\", \"Hospitalized\", \"Hospitalized\", \"Hospitalized\", \"Hospitalized\", \"Hospitalized\", \"Hospitalized\", \"Hospitalized\", \"Hospitalized\", \"Hospitalized\", \"Hospitalized\", \"Hospitalized\"], \"x0\": \" \", \"xaxis\": \"x\", \"y\": [\"2020-11-03T00:00:00\", \"2020-03-16T00:00:00\", \"2020-03-24T00:00:00\", \"2020-03-24T00:00:00\", \"2020-03-25T00:00:00\", \"2020-03-26T00:00:00\", \"2020-03-26T00:00:00\", \"2020-03-26T00:00:00\", \"2020-03-26T00:00:00\", \"2020-03-26T00:00:00\", \"2020-03-26T00:00:00\", \"2020-03-26T00:00:00\", \"2020-03-26T00:00:00\", \"2020-04-04T00:00:00\", \"2020-04-04T00:00:00\", \"2020-04-04T00:00:00\", \"2020-04-04T00:00:00\", \"2020-04-04T00:00:00\", \"2020-04-04T00:00:00\", \"2020-04-04T00:00:00\", \"2020-04-04T00:00:00\", \"2020-04-04T00:00:00\", \"2020-05-04T00:00:00\", \"2020-05-04T00:00:00\", \"2020-05-04T00:00:00\", \"2020-05-04T00:00:00\"], \"y0\": \" \", \"yaxis\": \"y\"}, {\"alignmentgroup\": \"True\", \"hoverlabel\": {\"namelength\": 0}, \"hovertemplate\": \"currentstatus=%{x}<br>dateannounced=%{y}\", \"legendgroup\": \"currentstatus=Migrated\", \"marker\": {\"color\": \"#00cc96\"}, \"name\": \"currentstatus=Migrated\", \"notched\": false, \"offsetgroup\": \"currentstatus=Migrated\", \"orientation\": \"v\", \"showlegend\": true, \"type\": \"box\", \"x\": [\"Migrated\"], \"x0\": \" \", \"xaxis\": \"x\", \"y\": [\"2020-03-17T00:00:00\"], \"y0\": \" \", \"yaxis\": \"y\"}, {\"alignmentgroup\": \"True\", \"hoverlabel\": {\"namelength\": 0}, \"hovertemplate\": \"currentstatus=%{x}<br>dateannounced=%{y}\", \"legendgroup\": \"currentstatus=Deceased\", \"marker\": {\"color\": \"#ab63fa\"}, \"name\": \"currentstatus=Deceased\", \"notched\": false, \"offsetgroup\": \"currentstatus=Deceased\", \"orientation\": \"v\", \"showlegend\": true, \"type\": \"box\", \"x\": [\"Deceased\", \"Deceased\", \"Deceased\", \"Deceased\", \"Deceased\", \"Deceased\", \"Deceased\", \"Deceased\", \"Deceased\", \"Deceased\"], \"x0\": \" \", \"xaxis\": \"x\", \"y\": [\"2020-03-21T00:00:00\", \"2020-03-21T00:00:00\", \"2020-03-21T00:00:00\", \"2020-03-22T00:00:00\", \"2020-03-23T00:00:00\", \"2020-03-23T00:00:00\", \"2020-03-26T00:00:00\", \"2020-03-29T00:00:00\", \"2020-03-04T00:00:00\", \"2020-04-04T00:00:00\"], \"y0\": \" \", \"yaxis\": \"y\"}],\n",
              "                        {\"boxmode\": \"group\", \"legend\": {\"tracegroupgap\": 0}, \"margin\": {\"t\": 60}, \"template\": {\"data\": {\"bar\": [{\"error_x\": {\"color\": \"#2a3f5f\"}, \"error_y\": {\"color\": \"#2a3f5f\"}, \"marker\": {\"line\": {\"color\": \"#E5ECF6\", \"width\": 0.5}}, \"type\": \"bar\"}], \"barpolar\": [{\"marker\": {\"line\": {\"color\": \"#E5ECF6\", \"width\": 0.5}}, \"type\": \"barpolar\"}], \"carpet\": [{\"aaxis\": {\"endlinecolor\": \"#2a3f5f\", \"gridcolor\": \"white\", \"linecolor\": \"white\", \"minorgridcolor\": \"white\", \"startlinecolor\": \"#2a3f5f\"}, \"baxis\": {\"endlinecolor\": \"#2a3f5f\", \"gridcolor\": \"white\", \"linecolor\": \"white\", \"minorgridcolor\": \"white\", \"startlinecolor\": \"#2a3f5f\"}, \"type\": \"carpet\"}], \"choropleth\": [{\"colorbar\": {\"outlinewidth\": 0, \"ticks\": \"\"}, \"type\": \"choropleth\"}], \"contour\": [{\"colorbar\": {\"outlinewidth\": 0, \"ticks\": \"\"}, \"colorscale\": [[0.0, \"#0d0887\"], [0.1111111111111111, \"#46039f\"], [0.2222222222222222, \"#7201a8\"], [0.3333333333333333, \"#9c179e\"], [0.4444444444444444, \"#bd3786\"], [0.5555555555555556, \"#d8576b\"], [0.6666666666666666, \"#ed7953\"], [0.7777777777777778, \"#fb9f3a\"], [0.8888888888888888, \"#fdca26\"], [1.0, \"#f0f921\"]], \"type\": \"contour\"}], \"contourcarpet\": [{\"colorbar\": {\"outlinewidth\": 0, \"ticks\": \"\"}, \"type\": \"contourcarpet\"}], \"heatmap\": [{\"colorbar\": {\"outlinewidth\": 0, \"ticks\": \"\"}, \"colorscale\": [[0.0, \"#0d0887\"], [0.1111111111111111, \"#46039f\"], [0.2222222222222222, \"#7201a8\"], [0.3333333333333333, \"#9c179e\"], [0.4444444444444444, \"#bd3786\"], [0.5555555555555556, \"#d8576b\"], [0.6666666666666666, \"#ed7953\"], [0.7777777777777778, \"#fb9f3a\"], [0.8888888888888888, \"#fdca26\"], [1.0, \"#f0f921\"]], \"type\": \"heatmap\"}], \"heatmapgl\": [{\"colorbar\": {\"outlinewidth\": 0, \"ticks\": \"\"}, \"colorscale\": [[0.0, \"#0d0887\"], [0.1111111111111111, \"#46039f\"], [0.2222222222222222, \"#7201a8\"], [0.3333333333333333, \"#9c179e\"], [0.4444444444444444, \"#bd3786\"], [0.5555555555555556, \"#d8576b\"], [0.6666666666666666, \"#ed7953\"], [0.7777777777777778, \"#fb9f3a\"], [0.8888888888888888, \"#fdca26\"], [1.0, \"#f0f921\"]], \"type\": \"heatmapgl\"}], \"histogram\": [{\"marker\": {\"colorbar\": {\"outlinewidth\": 0, \"ticks\": \"\"}}, \"type\": \"histogram\"}], \"histogram2d\": [{\"colorbar\": {\"outlinewidth\": 0, \"ticks\": \"\"}, \"colorscale\": [[0.0, \"#0d0887\"], [0.1111111111111111, \"#46039f\"], [0.2222222222222222, \"#7201a8\"], [0.3333333333333333, \"#9c179e\"], [0.4444444444444444, \"#bd3786\"], [0.5555555555555556, \"#d8576b\"], [0.6666666666666666, \"#ed7953\"], [0.7777777777777778, \"#fb9f3a\"], [0.8888888888888888, \"#fdca26\"], [1.0, \"#f0f921\"]], \"type\": \"histogram2d\"}], \"histogram2dcontour\": [{\"colorbar\": {\"outlinewidth\": 0, \"ticks\": \"\"}, \"colorscale\": [[0.0, \"#0d0887\"], [0.1111111111111111, \"#46039f\"], [0.2222222222222222, \"#7201a8\"], [0.3333333333333333, \"#9c179e\"], [0.4444444444444444, \"#bd3786\"], [0.5555555555555556, \"#d8576b\"], [0.6666666666666666, \"#ed7953\"], [0.7777777777777778, \"#fb9f3a\"], [0.8888888888888888, \"#fdca26\"], [1.0, \"#f0f921\"]], \"type\": \"histogram2dcontour\"}], \"mesh3d\": [{\"colorbar\": {\"outlinewidth\": 0, \"ticks\": \"\"}, \"type\": \"mesh3d\"}], \"parcoords\": [{\"line\": {\"colorbar\": {\"outlinewidth\": 0, \"ticks\": \"\"}}, \"type\": \"parcoords\"}], \"pie\": [{\"automargin\": true, \"type\": \"pie\"}], \"scatter\": [{\"marker\": {\"colorbar\": {\"outlinewidth\": 0, \"ticks\": \"\"}}, \"type\": \"scatter\"}], \"scatter3d\": [{\"line\": {\"colorbar\": {\"outlinewidth\": 0, \"ticks\": \"\"}}, \"marker\": {\"colorbar\": {\"outlinewidth\": 0, \"ticks\": \"\"}}, \"type\": \"scatter3d\"}], \"scattercarpet\": [{\"marker\": {\"colorbar\": {\"outlinewidth\": 0, \"ticks\": \"\"}}, \"type\": \"scattercarpet\"}], \"scattergeo\": [{\"marker\": {\"colorbar\": {\"outlinewidth\": 0, \"ticks\": \"\"}}, \"type\": \"scattergeo\"}], \"scattergl\": [{\"marker\": {\"colorbar\": {\"outlinewidth\": 0, \"ticks\": \"\"}}, \"type\": \"scattergl\"}], \"scattermapbox\": [{\"marker\": {\"colorbar\": {\"outlinewidth\": 0, \"ticks\": \"\"}}, \"type\": \"scattermapbox\"}], \"scatterpolar\": [{\"marker\": {\"colorbar\": {\"outlinewidth\": 0, \"ticks\": \"\"}}, \"type\": \"scatterpolar\"}], \"scatterpolargl\": [{\"marker\": {\"colorbar\": {\"outlinewidth\": 0, \"ticks\": \"\"}}, \"type\": \"scatterpolargl\"}], \"scatterternary\": [{\"marker\": {\"colorbar\": {\"outlinewidth\": 0, \"ticks\": \"\"}}, \"type\": \"scatterternary\"}], \"surface\": [{\"colorbar\": {\"outlinewidth\": 0, \"ticks\": \"\"}, \"colorscale\": [[0.0, \"#0d0887\"], [0.1111111111111111, \"#46039f\"], [0.2222222222222222, \"#7201a8\"], [0.3333333333333333, \"#9c179e\"], [0.4444444444444444, \"#bd3786\"], [0.5555555555555556, \"#d8576b\"], [0.6666666666666666, \"#ed7953\"], [0.7777777777777778, \"#fb9f3a\"], [0.8888888888888888, \"#fdca26\"], [1.0, \"#f0f921\"]], \"type\": \"surface\"}], \"table\": [{\"cells\": {\"fill\": {\"color\": \"#EBF0F8\"}, \"line\": {\"color\": \"white\"}}, \"header\": {\"fill\": {\"color\": \"#C8D4E3\"}, \"line\": {\"color\": \"white\"}}, \"type\": \"table\"}]}, \"layout\": {\"annotationdefaults\": {\"arrowcolor\": \"#2a3f5f\", \"arrowhead\": 0, \"arrowwidth\": 1}, \"coloraxis\": {\"colorbar\": {\"outlinewidth\": 0, \"ticks\": \"\"}}, \"colorscale\": {\"diverging\": [[0, \"#8e0152\"], [0.1, \"#c51b7d\"], [0.2, \"#de77ae\"], [0.3, \"#f1b6da\"], [0.4, \"#fde0ef\"], [0.5, \"#f7f7f7\"], [0.6, \"#e6f5d0\"], [0.7, \"#b8e186\"], [0.8, \"#7fbc41\"], [0.9, \"#4d9221\"], [1, \"#276419\"]], \"sequential\": [[0.0, \"#0d0887\"], [0.1111111111111111, \"#46039f\"], [0.2222222222222222, \"#7201a8\"], [0.3333333333333333, \"#9c179e\"], [0.4444444444444444, \"#bd3786\"], [0.5555555555555556, \"#d8576b\"], [0.6666666666666666, \"#ed7953\"], [0.7777777777777778, \"#fb9f3a\"], [0.8888888888888888, \"#fdca26\"], [1.0, \"#f0f921\"]], \"sequentialminus\": [[0.0, \"#0d0887\"], [0.1111111111111111, \"#46039f\"], [0.2222222222222222, \"#7201a8\"], [0.3333333333333333, \"#9c179e\"], [0.4444444444444444, \"#bd3786\"], [0.5555555555555556, \"#d8576b\"], [0.6666666666666666, \"#ed7953\"], [0.7777777777777778, \"#fb9f3a\"], [0.8888888888888888, \"#fdca26\"], [1.0, \"#f0f921\"]]}, \"colorway\": [\"#636efa\", \"#EF553B\", \"#00cc96\", \"#ab63fa\", \"#FFA15A\", \"#19d3f3\", \"#FF6692\", \"#B6E880\", \"#FF97FF\", \"#FECB52\"], \"font\": {\"color\": \"#2a3f5f\"}, \"geo\": {\"bgcolor\": \"white\", \"lakecolor\": \"white\", \"landcolor\": \"#E5ECF6\", \"showlakes\": true, \"showland\": true, \"subunitcolor\": \"white\"}, \"hoverlabel\": {\"align\": \"left\"}, \"hovermode\": \"closest\", \"mapbox\": {\"style\": \"light\"}, \"paper_bgcolor\": \"white\", \"plot_bgcolor\": \"#E5ECF6\", \"polar\": {\"angularaxis\": {\"gridcolor\": \"white\", \"linecolor\": \"white\", \"ticks\": \"\"}, \"bgcolor\": \"#E5ECF6\", \"radialaxis\": {\"gridcolor\": \"white\", \"linecolor\": \"white\", \"ticks\": \"\"}}, \"scene\": {\"xaxis\": {\"backgroundcolor\": \"#E5ECF6\", \"gridcolor\": \"white\", \"gridwidth\": 2, \"linecolor\": \"white\", \"showbackground\": true, \"ticks\": \"\", \"zerolinecolor\": \"white\"}, \"yaxis\": {\"backgroundcolor\": \"#E5ECF6\", \"gridcolor\": \"white\", \"gridwidth\": 2, \"linecolor\": \"white\", \"showbackground\": true, \"ticks\": \"\", \"zerolinecolor\": \"white\"}, \"zaxis\": {\"backgroundcolor\": \"#E5ECF6\", \"gridcolor\": \"white\", \"gridwidth\": 2, \"linecolor\": \"white\", \"showbackground\": true, \"ticks\": \"\", \"zerolinecolor\": \"white\"}}, \"shapedefaults\": {\"line\": {\"color\": \"#2a3f5f\"}}, \"ternary\": {\"aaxis\": {\"gridcolor\": \"white\", \"linecolor\": \"white\", \"ticks\": \"\"}, \"baxis\": {\"gridcolor\": \"white\", \"linecolor\": \"white\", \"ticks\": \"\"}, \"bgcolor\": \"#E5ECF6\", \"caxis\": {\"gridcolor\": \"white\", \"linecolor\": \"white\", \"ticks\": \"\"}}, \"title\": {\"x\": 0.05}, \"xaxis\": {\"automargin\": true, \"gridcolor\": \"white\", \"linecolor\": \"white\", \"ticks\": \"\", \"title\": {\"standoff\": 15}, \"zerolinecolor\": \"white\", \"zerolinewidth\": 2}, \"yaxis\": {\"automargin\": true, \"gridcolor\": \"white\", \"linecolor\": \"white\", \"ticks\": \"\", \"title\": {\"standoff\": 15}, \"zerolinecolor\": \"white\", \"zerolinewidth\": 2}}}, \"xaxis\": {\"anchor\": \"y\", \"categoryarray\": [\"Recovered\", \"Hospitalized\", \"Migrated\", \"Deceased\"], \"categoryorder\": \"array\", \"domain\": [0.0, 1.0], \"title\": {\"text\": \"currentstatus\"}}, \"yaxis\": {\"anchor\": \"x\", \"domain\": [0.0, 1.0], \"title\": {\"text\": \"dateannounced\"}}},\n",
              "                        {\"responsive\": true}\n",
              "                    ).then(function(){\n",
              "                            \n",
              "var gd = document.getElementById('304548ac-559f-4ecb-af7e-a578ef9800bb');\n",
              "var x = new MutationObserver(function (mutations, observer) {{\n",
              "        var display = window.getComputedStyle(gd).display;\n",
              "        if (!display || display === 'none') {{\n",
              "            console.log([gd, 'removed!']);\n",
              "            Plotly.purge(gd);\n",
              "            observer.disconnect();\n",
              "        }}\n",
              "}});\n",
              "\n",
              "// Listen for the removal of the full notebook cells\n",
              "var notebookContainer = gd.closest('#notebook-container');\n",
              "if (notebookContainer) {{\n",
              "    x.observe(notebookContainer, {childList: true});\n",
              "}}\n",
              "\n",
              "// Listen for the clearing of the current output cell\n",
              "var outputEl = gd.closest('.output');\n",
              "if (outputEl) {{\n",
              "    x.observe(outputEl, {childList: true});\n",
              "}}\n",
              "\n",
              "                        })\n",
              "                };\n",
              "                \n",
              "            </script>\n",
              "        </div>\n",
              "</body>\n",
              "</html>"
            ]
          },
          "metadata": {
            "tags": []
          }
        }
      ]
    },
    {
      "cell_type": "markdown",
      "metadata": {
        "id": "F5LHrKYaP42N",
        "colab_type": "text"
      },
      "source": [
        "###Age Distribution of Detected Cases acros States and UT"
      ]
    },
    {
      "cell_type": "code",
      "metadata": {
        "colab_type": "code",
        "id": "9hz-QslZtl0b",
        "outputId": "eb15e1a1-ba1a-4733-b183-91031df2a9d9",
        "colab": {
          "base_uri": "https://localhost:8080/",
          "height": 624
        }
      },
      "source": [
        "plt.figure(figsize=(12, 6), dpi = 100)\n",
        "boxplot(df,'detectedstate' , 'agebracket' ,'Age Distribution of Detected Cases acros States and UT')"
      ],
      "execution_count": 0,
      "outputs": [
        {
          "output_type": "display_data",
          "data": {
            "text/plain": [
              "<Figure size 1200x600 with 0 Axes>"
            ]
          },
          "metadata": {
            "tags": []
          }
        },
        {
          "output_type": "display_data",
          "data": {
            "image/png": "[encoded data removed]",
            "text/plain": [
              "<Figure size 1200x600 with 1 Axes>"
            ]
          },
          "metadata": {
            "tags": []
          }
        }
      ]
    },
    {
      "cell_type": "markdown",
      "metadata": {
        "colab_type": "text",
        "id": "1fkT3G_-1BwC"
      },
      "source": [
        "### Age Distribution across different Nationality"
      ]
    },
    {
      "cell_type": "code",
      "metadata": {
        "colab_type": "code",
        "id": "kB3BRjPxtl0d",
        "outputId": "7ed4fd87-5f04-4343-a66f-6bb61f6e465e",
        "colab": {
          "base_uri": "https://localhost:8080/",
          "height": 624
        }
      },
      "source": [
        "plt.figure(figsize=(12, 6), dpi = 100)\n",
        "boxplot(df , 'nationality' , 'agebracket' , \"Age Distribution across different Nationality\")"
      ],
      "execution_count": 0,
      "outputs": [
        {
          "output_type": "display_data",
          "data": {
            "text/plain": [
              "<Figure size 1200x600 with 0 Axes>"
            ]
          },
          "metadata": {
            "tags": []
          }
        },
        {
          "output_type": "display_data",
          "data": {
            "image/png": "[encoded data removed]",
            "text/plain": [
              "<Figure size 1200x600 with 1 Axes>"
            ]
          },
          "metadata": {
            "tags": []
          }
        }
      ]
    },
    {
      "cell_type": "markdown",
      "metadata": {
        "colab_type": "text",
        "id": "IcPV72O01WLm"
      },
      "source": [
        "### Age Distribution of COVID-19 Recovered Patients\n"
      ]
    },
    {
      "cell_type": "code",
      "metadata": {
        "colab_type": "code",
        "id": "X2eTlPfx1npX",
        "outputId": "464e0681-aa5c-49f5-ee7c-c1ea0b1ec4fc",
        "colab": {
          "base_uri": "https://localhost:8080/",
          "height": 542
        }
      },
      "source": [
        "dist = df.groupby(['agebracket','currentstatus'])['patientnumber'].count().reset_index()\n",
        "dist = dist[dist['currentstatus']=='Recovered']\n",
        "dist\n",
        "#barChart(dist , 'agebracket' , 'patientnumber' , \"Age distribution of Recovered COVID Patient\",'v')\n",
        "fig = px.bar(dist, x='agebracket', y='patientnumber', orientation='v', text='patientnumber', width=1200,\n",
        "    color_discrete_sequence = ['#00CC96'], title='Age distribution of Recovered COVID Patient')\n",
        "\n",
        "fig.update_xaxes(title='Age')\n",
        "fig.update_yaxes(title='# Patient')\n",
        "fig.show()\n"
      ],
      "execution_count": 0,
      "outputs": [
        {
          "output_type": "display_data",
          "data": {
            "text/html": [
              "<html>\n",
              "<head><meta charset=\"utf-8\" /></head>\n",
              "<body>\n",
              "    <div>\n",
              "            <script src=\"https://cdnjs.cloudflare.com/ajax/libs/mathjax/2.7.5/MathJax.js?config=TeX-AMS-MML_SVG\"></script><script type=\"text/javascript\">if (window.MathJax) {MathJax.Hub.Config({SVG: {font: \"STIX-Web\"}});}</script>\n",
              "                <script type=\"text/javascript\">window.PlotlyConfig = {MathJaxConfig: 'local'};</script>\n",
              "        <script src=\"https://cdn.plot.ly/plotly-latest.min.js\"></script>    \n",
              "            <div id=\"63c21081-b8cb-45f3-967a-6a6ffc5c6431\" class=\"plotly-graph-div\" style=\"height:525px; width:1200px;\"></div>\n",
              "            <script type=\"text/javascript\">\n",
              "                \n",
              "                    window.PLOTLYENV=window.PLOTLYENV || {};\n",
              "                    \n",
              "                if (document.getElementById(\"63c21081-b8cb-45f3-967a-6a6ffc5c6431\")) {\n",
              "                    Plotly.newPlot(\n",
              "                        '63c21081-b8cb-45f3-967a-6a6ffc5c6431',\n",
              "                        [{\"alignmentgroup\": \"True\", \"hoverlabel\": {\"namelength\": 0}, \"hovertemplate\": \"agebracket=%{x}<br>patientnumber=%{text}\", \"legendgroup\": \"\", \"marker\": {\"color\": \"#00CC96\"}, \"name\": \"\", \"offsetgroup\": \"\", \"orientation\": \"v\", \"showlegend\": false, \"text\": [2.0, 1.0, 1.0, 1.0, 3.0, 3.0, 5.0, 3.0, 5.0, 6.0, 2.0, 4.0, 3.0, 1.0, 1.0, 5.0, 1.0, 2.0, 6.0, 2.0, 1.0, 3.0, 4.0, 1.0, 1.0, 5.0, 2.0, 2.0, 3.0, 2.0, 2.0, 1.0, 12.0, 2.0, 1.0, 2.0, 1.0, 3.0, 1.0, 3.0, 1.0, 2.0, 3.0, 1.0, 1.0, 1.0], \"textposition\": \"auto\", \"type\": \"bar\", \"x\": [1.0, 3.0, 13.0, 16.0, 18.0, 20.0, 21.0, 22.0, 23.0, 24.0, 25.0, 26.0, 27.0, 29.0, 30.0, 32.0, 33.0, 34.0, 35.0, 36.0, 37.0, 38.0, 40.0, 41.0, 42.0, 45.0, 46.0, 47.0, 48.0, 51.0, 53.0, 54.0, 55.0, 56.0, 58.0, 59.0, 61.0, 63.0, 64.0, 65.0, 67.0, 69.0, 70.0, 85.0, 89.0, 96.0], \"xaxis\": \"x\", \"y\": [2, 1, 1, 1, 3, 3, 5, 3, 5, 6, 2, 4, 3, 1, 1, 5, 1, 2, 6, 2, 1, 3, 4, 1, 1, 5, 2, 2, 3, 2, 2, 1, 12, 2, 1, 2, 1, 3, 1, 3, 1, 2, 3, 1, 1, 1], \"yaxis\": \"y\"}],\n",
              "                        {\"barmode\": \"relative\", \"legend\": {\"tracegroupgap\": 0}, \"template\": {\"data\": {\"bar\": [{\"error_x\": {\"color\": \"#2a3f5f\"}, \"error_y\": {\"color\": \"#2a3f5f\"}, \"marker\": {\"line\": {\"color\": \"#E5ECF6\", \"width\": 0.5}}, \"type\": \"bar\"}], \"barpolar\": [{\"marker\": {\"line\": {\"color\": \"#E5ECF6\", \"width\": 0.5}}, \"type\": \"barpolar\"}], \"carpet\": [{\"aaxis\": {\"endlinecolor\": \"#2a3f5f\", \"gridcolor\": \"white\", \"linecolor\": \"white\", \"minorgridcolor\": \"white\", \"startlinecolor\": \"#2a3f5f\"}, \"baxis\": {\"endlinecolor\": \"#2a3f5f\", \"gridcolor\": \"white\", \"linecolor\": \"white\", \"minorgridcolor\": \"white\", \"startlinecolor\": \"#2a3f5f\"}, \"type\": \"carpet\"}], \"choropleth\": [{\"colorbar\": {\"outlinewidth\": 0, \"ticks\": \"\"}, \"type\": \"choropleth\"}], \"contour\": [{\"colorbar\": {\"outlinewidth\": 0, \"ticks\": \"\"}, \"colorscale\": [[0.0, \"#0d0887\"], [0.1111111111111111, \"#46039f\"], [0.2222222222222222, \"#7201a8\"], [0.3333333333333333, \"#9c179e\"], [0.4444444444444444, \"#bd3786\"], [0.5555555555555556, \"#d8576b\"], [0.6666666666666666, \"#ed7953\"], [0.7777777777777778, \"#fb9f3a\"], [0.8888888888888888, \"#fdca26\"], [1.0, \"#f0f921\"]], \"type\": \"contour\"}], \"contourcarpet\": [{\"colorbar\": {\"outlinewidth\": 0, \"ticks\": \"\"}, \"type\": \"contourcarpet\"}], \"heatmap\": [{\"colorbar\": {\"outlinewidth\": 0, \"ticks\": \"\"}, \"colorscale\": [[0.0, \"#0d0887\"], [0.1111111111111111, \"#46039f\"], [0.2222222222222222, \"#7201a8\"], [0.3333333333333333, \"#9c179e\"], [0.4444444444444444, \"#bd3786\"], [0.5555555555555556, \"#d8576b\"], [0.6666666666666666, \"#ed7953\"], [0.7777777777777778, \"#fb9f3a\"], [0.8888888888888888, \"#fdca26\"], [1.0, \"#f0f921\"]], \"type\": \"heatmap\"}], \"heatmapgl\": [{\"colorbar\": {\"outlinewidth\": 0, \"ticks\": \"\"}, \"colorscale\": [[0.0, \"#0d0887\"], [0.1111111111111111, \"#46039f\"], [0.2222222222222222, \"#7201a8\"], [0.3333333333333333, \"#9c179e\"], [0.4444444444444444, \"#bd3786\"], [0.5555555555555556, \"#d8576b\"], [0.6666666666666666, \"#ed7953\"], [0.7777777777777778, \"#fb9f3a\"], [0.8888888888888888, \"#fdca26\"], [1.0, \"#f0f921\"]], \"type\": \"heatmapgl\"}], \"histogram\": [{\"marker\": {\"colorbar\": {\"outlinewidth\": 0, \"ticks\": \"\"}}, \"type\": \"histogram\"}], \"histogram2d\": [{\"colorbar\": {\"outlinewidth\": 0, \"ticks\": \"\"}, \"colorscale\": [[0.0, \"#0d0887\"], [0.1111111111111111, \"#46039f\"], [0.2222222222222222, \"#7201a8\"], [0.3333333333333333, \"#9c179e\"], [0.4444444444444444, \"#bd3786\"], [0.5555555555555556, \"#d8576b\"], [0.6666666666666666, \"#ed7953\"], [0.7777777777777778, \"#fb9f3a\"], [0.8888888888888888, \"#fdca26\"], [1.0, \"#f0f921\"]], \"type\": \"histogram2d\"}], \"histogram2dcontour\": [{\"colorbar\": {\"outlinewidth\": 0, \"ticks\": \"\"}, \"colorscale\": [[0.0, \"#0d0887\"], [0.1111111111111111, \"#46039f\"], [0.2222222222222222, \"#7201a8\"], [0.3333333333333333, \"#9c179e\"], [0.4444444444444444, \"#bd3786\"], [0.5555555555555556, \"#d8576b\"], [0.6666666666666666, \"#ed7953\"], [0.7777777777777778, \"#fb9f3a\"], [0.8888888888888888, \"#fdca26\"], [1.0, \"#f0f921\"]], \"type\": \"histogram2dcontour\"}], \"mesh3d\": [{\"colorbar\": {\"outlinewidth\": 0, \"ticks\": \"\"}, \"type\": \"mesh3d\"}], \"parcoords\": [{\"line\": {\"colorbar\": {\"outlinewidth\": 0, \"ticks\": \"\"}}, \"type\": \"parcoords\"}], \"pie\": [{\"automargin\": true, \"type\": \"pie\"}], \"scatter\": [{\"marker\": {\"colorbar\": {\"outlinewidth\": 0, \"ticks\": \"\"}}, \"type\": \"scatter\"}], \"scatter3d\": [{\"line\": {\"colorbar\": {\"outlinewidth\": 0, \"ticks\": \"\"}}, \"marker\": {\"colorbar\": {\"outlinewidth\": 0, \"ticks\": \"\"}}, \"type\": \"scatter3d\"}], \"scattercarpet\": [{\"marker\": {\"colorbar\": {\"outlinewidth\": 0, \"ticks\": \"\"}}, \"type\": \"scattercarpet\"}], \"scattergeo\": [{\"marker\": {\"colorbar\": {\"outlinewidth\": 0, \"ticks\": \"\"}}, \"type\": \"scattergeo\"}], \"scattergl\": [{\"marker\": {\"colorbar\": {\"outlinewidth\": 0, \"ticks\": \"\"}}, \"type\": \"scattergl\"}], \"scattermapbox\": [{\"marker\": {\"colorbar\": {\"outlinewidth\": 0, \"ticks\": \"\"}}, \"type\": \"scattermapbox\"}], \"scatterpolar\": [{\"marker\": {\"colorbar\": {\"outlinewidth\": 0, \"ticks\": \"\"}}, \"type\": \"scatterpolar\"}], \"scatterpolargl\": [{\"marker\": {\"colorbar\": {\"outlinewidth\": 0, \"ticks\": \"\"}}, \"type\": \"scatterpolargl\"}], \"scatterternary\": [{\"marker\": {\"colorbar\": {\"outlinewidth\": 0, \"ticks\": \"\"}}, \"type\": \"scatterternary\"}], \"surface\": [{\"colorbar\": {\"outlinewidth\": 0, \"ticks\": \"\"}, \"colorscale\": [[0.0, \"#0d0887\"], [0.1111111111111111, \"#46039f\"], [0.2222222222222222, \"#7201a8\"], [0.3333333333333333, \"#9c179e\"], [0.4444444444444444, \"#bd3786\"], [0.5555555555555556, \"#d8576b\"], [0.6666666666666666, \"#ed7953\"], [0.7777777777777778, \"#fb9f3a\"], [0.8888888888888888, \"#fdca26\"], [1.0, \"#f0f921\"]], \"type\": \"surface\"}], \"table\": [{\"cells\": {\"fill\": {\"color\": \"#EBF0F8\"}, \"line\": {\"color\": \"white\"}}, \"header\": {\"fill\": {\"color\": \"#C8D4E3\"}, \"line\": {\"color\": \"white\"}}, \"type\": \"table\"}]}, \"layout\": {\"annotationdefaults\": {\"arrowcolor\": \"#2a3f5f\", \"arrowhead\": 0, \"arrowwidth\": 1}, \"coloraxis\": {\"colorbar\": {\"outlinewidth\": 0, \"ticks\": \"\"}}, \"colorscale\": {\"diverging\": [[0, \"#8e0152\"], [0.1, \"#c51b7d\"], [0.2, \"#de77ae\"], [0.3, \"#f1b6da\"], [0.4, \"#fde0ef\"], [0.5, \"#f7f7f7\"], [0.6, \"#e6f5d0\"], [0.7, \"#b8e186\"], [0.8, \"#7fbc41\"], [0.9, \"#4d9221\"], [1, \"#276419\"]], \"sequential\": [[0.0, \"#0d0887\"], [0.1111111111111111, \"#46039f\"], [0.2222222222222222, \"#7201a8\"], [0.3333333333333333, \"#9c179e\"], [0.4444444444444444, \"#bd3786\"], [0.5555555555555556, \"#d8576b\"], [0.6666666666666666, \"#ed7953\"], [0.7777777777777778, \"#fb9f3a\"], [0.8888888888888888, \"#fdca26\"], [1.0, \"#f0f921\"]], \"sequentialminus\": [[0.0, \"#0d0887\"], [0.1111111111111111, \"#46039f\"], [0.2222222222222222, \"#7201a8\"], [0.3333333333333333, \"#9c179e\"], [0.4444444444444444, \"#bd3786\"], [0.5555555555555556, \"#d8576b\"], [0.6666666666666666, \"#ed7953\"], [0.7777777777777778, \"#fb9f3a\"], [0.8888888888888888, \"#fdca26\"], [1.0, \"#f0f921\"]]}, \"colorway\": [\"#636efa\", \"#EF553B\", \"#00cc96\", \"#ab63fa\", \"#FFA15A\", \"#19d3f3\", \"#FF6692\", \"#B6E880\", \"#FF97FF\", \"#FECB52\"], \"font\": {\"color\": \"#2a3f5f\"}, \"geo\": {\"bgcolor\": \"white\", \"lakecolor\": \"white\", \"landcolor\": \"#E5ECF6\", \"showlakes\": true, \"showland\": true, \"subunitcolor\": \"white\"}, \"hoverlabel\": {\"align\": \"left\"}, \"hovermode\": \"closest\", \"mapbox\": {\"style\": \"light\"}, \"paper_bgcolor\": \"white\", \"plot_bgcolor\": \"#E5ECF6\", \"polar\": {\"angularaxis\": {\"gridcolor\": \"white\", \"linecolor\": \"white\", \"ticks\": \"\"}, \"bgcolor\": \"#E5ECF6\", \"radialaxis\": {\"gridcolor\": \"white\", \"linecolor\": \"white\", \"ticks\": \"\"}}, \"scene\": {\"xaxis\": {\"backgroundcolor\": \"#E5ECF6\", \"gridcolor\": \"white\", \"gridwidth\": 2, \"linecolor\": \"white\", \"showbackground\": true, \"ticks\": \"\", \"zerolinecolor\": \"white\"}, \"yaxis\": {\"backgroundcolor\": \"#E5ECF6\", \"gridcolor\": \"white\", \"gridwidth\": 2, \"linecolor\": \"white\", \"showbackground\": true, \"ticks\": \"\", \"zerolinecolor\": \"white\"}, \"zaxis\": {\"backgroundcolor\": \"#E5ECF6\", \"gridcolor\": \"white\", \"gridwidth\": 2, \"linecolor\": \"white\", \"showbackground\": true, \"ticks\": \"\", \"zerolinecolor\": \"white\"}}, \"shapedefaults\": {\"line\": {\"color\": \"#2a3f5f\"}}, \"ternary\": {\"aaxis\": {\"gridcolor\": \"white\", \"linecolor\": \"white\", \"ticks\": \"\"}, \"baxis\": {\"gridcolor\": \"white\", \"linecolor\": \"white\", \"ticks\": \"\"}, \"bgcolor\": \"#E5ECF6\", \"caxis\": {\"gridcolor\": \"white\", \"linecolor\": \"white\", \"ticks\": \"\"}}, \"title\": {\"x\": 0.05}, \"xaxis\": {\"automargin\": true, \"gridcolor\": \"white\", \"linecolor\": \"white\", \"ticks\": \"\", \"title\": {\"standoff\": 15}, \"zerolinecolor\": \"white\", \"zerolinewidth\": 2}, \"yaxis\": {\"automargin\": true, \"gridcolor\": \"white\", \"linecolor\": \"white\", \"ticks\": \"\", \"title\": {\"standoff\": 15}, \"zerolinecolor\": \"white\", \"zerolinewidth\": 2}}}, \"title\": {\"text\": \"Age distribution of Recovered COVID Patient\"}, \"width\": 1200, \"xaxis\": {\"anchor\": \"y\", \"domain\": [0.0, 1.0], \"title\": {\"text\": \"Age\"}}, \"yaxis\": {\"anchor\": \"x\", \"domain\": [0.0, 1.0], \"title\": {\"text\": \"# Patient\"}}},\n",
              "                        {\"responsive\": true}\n",
              "                    ).then(function(){\n",
              "                            \n",
              "var gd = document.getElementById('63c21081-b8cb-45f3-967a-6a6ffc5c6431');\n",
              "var x = new MutationObserver(function (mutations, observer) {{\n",
              "        var display = window.getComputedStyle(gd).display;\n",
              "        if (!display || display === 'none') {{\n",
              "            console.log([gd, 'removed!']);\n",
              "            Plotly.purge(gd);\n",
              "            observer.disconnect();\n",
              "        }}\n",
              "}});\n",
              "\n",
              "// Listen for the removal of the full notebook cells\n",
              "var notebookContainer = gd.closest('#notebook-container');\n",
              "if (notebookContainer) {{\n",
              "    x.observe(notebookContainer, {childList: true});\n",
              "}}\n",
              "\n",
              "// Listen for the clearing of the current output cell\n",
              "var outputEl = gd.closest('.output');\n",
              "if (outputEl) {{\n",
              "    x.observe(outputEl, {childList: true});\n",
              "}}\n",
              "\n",
              "                        })\n",
              "                };\n",
              "                \n",
              "            </script>\n",
              "        </div>\n",
              "</body>\n",
              "</html>"
            ]
          },
          "metadata": {
            "tags": []
          }
        }
      ]
    },
    {
      "cell_type": "markdown",
      "metadata": {
        "colab_type": "text",
        "id": "MKVuJP742YZc"
      },
      "source": [
        "### Gender Distribution of COVID-19 Recovered Patients"
      ]
    },
    {
      "cell_type": "code",
      "metadata": {
        "colab_type": "code",
        "id": "ibRoJHLE2gEm",
        "outputId": "b774c4d7-cc7e-4164-df73-d0bc968967ce",
        "colab": {
          "base_uri": "https://localhost:8080/",
          "height": 542
        }
      },
      "source": [
        "dist = df.groupby(['gender','currentstatus'])['patientnumber'].count().reset_index()\n",
        "dist = dist[dist['currentstatus']=='Recovered']\n",
        "dist\n",
        "fig = px.pie(dist, values=dist['patientnumber'], names=dist.gender\n",
        "         ,color_discrete_sequence=[\"#636EFA\"],title='Gender distribution of COVID19 Recovered Patients')\n",
        "fig.update_traces(textposition='outside', textinfo='value+label')\n",
        "fig.show()"
      ],
      "execution_count": 0,
      "outputs": [
        {
          "output_type": "display_data",
          "data": {
            "text/html": [
              "<html>\n",
              "<head><meta charset=\"utf-8\" /></head>\n",
              "<body>\n",
              "    <div>\n",
              "            <script src=\"https://cdnjs.cloudflare.com/ajax/libs/mathjax/2.7.5/MathJax.js?config=TeX-AMS-MML_SVG\"></script><script type=\"text/javascript\">if (window.MathJax) {MathJax.Hub.Config({SVG: {font: \"STIX-Web\"}});}</script>\n",
              "                <script type=\"text/javascript\">window.PlotlyConfig = {MathJaxConfig: 'local'};</script>\n",
              "        <script src=\"https://cdn.plot.ly/plotly-latest.min.js\"></script>    \n",
              "            <div id=\"85fe1250-0259-4c9b-a49c-7de6e25ce33e\" class=\"plotly-graph-div\" style=\"height:525px; width:100%;\"></div>\n",
              "            <script type=\"text/javascript\">\n",
              "                \n",
              "                    window.PLOTLYENV=window.PLOTLYENV || {};\n",
              "                    \n",
              "                if (document.getElementById(\"85fe1250-0259-4c9b-a49c-7de6e25ce33e\")) {\n",
              "                    Plotly.newPlot(\n",
              "                        '85fe1250-0259-4c9b-a49c-7de6e25ce33e',\n",
              "                        [{\"domain\": {\"x\": [0.0, 1.0], \"y\": [0.0, 1.0]}, \"hoverlabel\": {\"namelength\": 0}, \"hovertemplate\": \"gender=%{label}<br>patientnumber=%{value}\", \"labels\": [\"\", \"F\", \"M\"], \"legendgroup\": \"\", \"name\": \"\", \"showlegend\": true, \"textinfo\": \"value+label\", \"textposition\": \"outside\", \"type\": \"pie\", \"values\": [51, 35, 81]}],\n",
              "                        {\"legend\": {\"tracegroupgap\": 0}, \"piecolorway\": [\"#636EFA\"], \"template\": {\"data\": {\"bar\": [{\"error_x\": {\"color\": \"#2a3f5f\"}, \"error_y\": {\"color\": \"#2a3f5f\"}, \"marker\": {\"line\": {\"color\": \"#E5ECF6\", \"width\": 0.5}}, \"type\": \"bar\"}], \"barpolar\": [{\"marker\": {\"line\": {\"color\": \"#E5ECF6\", \"width\": 0.5}}, \"type\": \"barpolar\"}], \"carpet\": [{\"aaxis\": {\"endlinecolor\": \"#2a3f5f\", \"gridcolor\": \"white\", \"linecolor\": \"white\", \"minorgridcolor\": \"white\", \"startlinecolor\": \"#2a3f5f\"}, \"baxis\": {\"endlinecolor\": \"#2a3f5f\", \"gridcolor\": \"white\", \"linecolor\": \"white\", \"minorgridcolor\": \"white\", \"startlinecolor\": \"#2a3f5f\"}, \"type\": \"carpet\"}], \"choropleth\": [{\"colorbar\": {\"outlinewidth\": 0, \"ticks\": \"\"}, \"type\": \"choropleth\"}], \"contour\": [{\"colorbar\": {\"outlinewidth\": 0, \"ticks\": \"\"}, \"colorscale\": [[0.0, \"#0d0887\"], [0.1111111111111111, \"#46039f\"], [0.2222222222222222, \"#7201a8\"], [0.3333333333333333, \"#9c179e\"], [0.4444444444444444, \"#bd3786\"], [0.5555555555555556, \"#d8576b\"], [0.6666666666666666, \"#ed7953\"], [0.7777777777777778, \"#fb9f3a\"], [0.8888888888888888, \"#fdca26\"], [1.0, \"#f0f921\"]], \"type\": \"contour\"}], \"contourcarpet\": [{\"colorbar\": {\"outlinewidth\": 0, \"ticks\": \"\"}, \"type\": \"contourcarpet\"}], \"heatmap\": [{\"colorbar\": {\"outlinewidth\": 0, \"ticks\": \"\"}, \"colorscale\": [[0.0, \"#0d0887\"], [0.1111111111111111, \"#46039f\"], [0.2222222222222222, \"#7201a8\"], [0.3333333333333333, \"#9c179e\"], [0.4444444444444444, \"#bd3786\"], [0.5555555555555556, \"#d8576b\"], [0.6666666666666666, \"#ed7953\"], [0.7777777777777778, \"#fb9f3a\"], [0.8888888888888888, \"#fdca26\"], [1.0, \"#f0f921\"]], \"type\": \"heatmap\"}], \"heatmapgl\": [{\"colorbar\": {\"outlinewidth\": 0, \"ticks\": \"\"}, \"colorscale\": [[0.0, \"#0d0887\"], [0.1111111111111111, \"#46039f\"], [0.2222222222222222, \"#7201a8\"], [0.3333333333333333, \"#9c179e\"], [0.4444444444444444, \"#bd3786\"], [0.5555555555555556, \"#d8576b\"], [0.6666666666666666, \"#ed7953\"], [0.7777777777777778, \"#fb9f3a\"], [0.8888888888888888, \"#fdca26\"], [1.0, \"#f0f921\"]], \"type\": \"heatmapgl\"}], \"histogram\": [{\"marker\": {\"colorbar\": {\"outlinewidth\": 0, \"ticks\": \"\"}}, \"type\": \"histogram\"}], \"histogram2d\": [{\"colorbar\": {\"outlinewidth\": 0, \"ticks\": \"\"}, \"colorscale\": [[0.0, \"#0d0887\"], [0.1111111111111111, \"#46039f\"], [0.2222222222222222, \"#7201a8\"], [0.3333333333333333, \"#9c179e\"], [0.4444444444444444, \"#bd3786\"], [0.5555555555555556, \"#d8576b\"], [0.6666666666666666, \"#ed7953\"], [0.7777777777777778, \"#fb9f3a\"], [0.8888888888888888, \"#fdca26\"], [1.0, \"#f0f921\"]], \"type\": \"histogram2d\"}], \"histogram2dcontour\": [{\"colorbar\": {\"outlinewidth\": 0, \"ticks\": \"\"}, \"colorscale\": [[0.0, \"#0d0887\"], [0.1111111111111111, \"#46039f\"], [0.2222222222222222, \"#7201a8\"], [0.3333333333333333, \"#9c179e\"], [0.4444444444444444, \"#bd3786\"], [0.5555555555555556, \"#d8576b\"], [0.6666666666666666, \"#ed7953\"], [0.7777777777777778, \"#fb9f3a\"], [0.8888888888888888, \"#fdca26\"], [1.0, \"#f0f921\"]], \"type\": \"histogram2dcontour\"}], \"mesh3d\": [{\"colorbar\": {\"outlinewidth\": 0, \"ticks\": \"\"}, \"type\": \"mesh3d\"}], \"parcoords\": [{\"line\": {\"colorbar\": {\"outlinewidth\": 0, \"ticks\": \"\"}}, \"type\": \"parcoords\"}], \"pie\": [{\"automargin\": true, \"type\": \"pie\"}], \"scatter\": [{\"marker\": {\"colorbar\": {\"outlinewidth\": 0, \"ticks\": \"\"}}, \"type\": \"scatter\"}], \"scatter3d\": [{\"line\": {\"colorbar\": {\"outlinewidth\": 0, \"ticks\": \"\"}}, \"marker\": {\"colorbar\": {\"outlinewidth\": 0, \"ticks\": \"\"}}, \"type\": \"scatter3d\"}], \"scattercarpet\": [{\"marker\": {\"colorbar\": {\"outlinewidth\": 0, \"ticks\": \"\"}}, \"type\": \"scattercarpet\"}], \"scattergeo\": [{\"marker\": {\"colorbar\": {\"outlinewidth\": 0, \"ticks\": \"\"}}, \"type\": \"scattergeo\"}], \"scattergl\": [{\"marker\": {\"colorbar\": {\"outlinewidth\": 0, \"ticks\": \"\"}}, \"type\": \"scattergl\"}], \"scattermapbox\": [{\"marker\": {\"colorbar\": {\"outlinewidth\": 0, \"ticks\": \"\"}}, \"type\": \"scattermapbox\"}], \"scatterpolar\": [{\"marker\": {\"colorbar\": {\"outlinewidth\": 0, \"ticks\": \"\"}}, \"type\": \"scatterpolar\"}], \"scatterpolargl\": [{\"marker\": {\"colorbar\": {\"outlinewidth\": 0, \"ticks\": \"\"}}, \"type\": \"scatterpolargl\"}], \"scatterternary\": [{\"marker\": {\"colorbar\": {\"outlinewidth\": 0, \"ticks\": \"\"}}, \"type\": \"scatterternary\"}], \"surface\": [{\"colorbar\": {\"outlinewidth\": 0, \"ticks\": \"\"}, \"colorscale\": [[0.0, \"#0d0887\"], [0.1111111111111111, \"#46039f\"], [0.2222222222222222, \"#7201a8\"], [0.3333333333333333, \"#9c179e\"], [0.4444444444444444, \"#bd3786\"], [0.5555555555555556, \"#d8576b\"], [0.6666666666666666, \"#ed7953\"], [0.7777777777777778, \"#fb9f3a\"], [0.8888888888888888, \"#fdca26\"], [1.0, \"#f0f921\"]], \"type\": \"surface\"}], \"table\": [{\"cells\": {\"fill\": {\"color\": \"#EBF0F8\"}, \"line\": {\"color\": \"white\"}}, \"header\": {\"fill\": {\"color\": \"#C8D4E3\"}, \"line\": {\"color\": \"white\"}}, \"type\": \"table\"}]}, \"layout\": {\"annotationdefaults\": {\"arrowcolor\": \"#2a3f5f\", \"arrowhead\": 0, \"arrowwidth\": 1}, \"coloraxis\": {\"colorbar\": {\"outlinewidth\": 0, \"ticks\": \"\"}}, \"colorscale\": {\"diverging\": [[0, \"#8e0152\"], [0.1, \"#c51b7d\"], [0.2, \"#de77ae\"], [0.3, \"#f1b6da\"], [0.4, \"#fde0ef\"], [0.5, \"#f7f7f7\"], [0.6, \"#e6f5d0\"], [0.7, \"#b8e186\"], [0.8, \"#7fbc41\"], [0.9, \"#4d9221\"], [1, \"#276419\"]], \"sequential\": [[0.0, \"#0d0887\"], [0.1111111111111111, \"#46039f\"], [0.2222222222222222, \"#7201a8\"], [0.3333333333333333, \"#9c179e\"], [0.4444444444444444, \"#bd3786\"], [0.5555555555555556, \"#d8576b\"], [0.6666666666666666, \"#ed7953\"], [0.7777777777777778, \"#fb9f3a\"], [0.8888888888888888, \"#fdca26\"], [1.0, \"#f0f921\"]], \"sequentialminus\": [[0.0, \"#0d0887\"], [0.1111111111111111, \"#46039f\"], [0.2222222222222222, \"#7201a8\"], [0.3333333333333333, \"#9c179e\"], [0.4444444444444444, \"#bd3786\"], [0.5555555555555556, \"#d8576b\"], [0.6666666666666666, \"#ed7953\"], [0.7777777777777778, \"#fb9f3a\"], [0.8888888888888888, \"#fdca26\"], [1.0, \"#f0f921\"]]}, \"colorway\": [\"#636efa\", \"#EF553B\", \"#00cc96\", \"#ab63fa\", \"#FFA15A\", \"#19d3f3\", \"#FF6692\", \"#B6E880\", \"#FF97FF\", \"#FECB52\"], \"font\": {\"color\": \"#2a3f5f\"}, \"geo\": {\"bgcolor\": \"white\", \"lakecolor\": \"white\", \"landcolor\": \"#E5ECF6\", \"showlakes\": true, \"showland\": true, \"subunitcolor\": \"white\"}, \"hoverlabel\": {\"align\": \"left\"}, \"hovermode\": \"closest\", \"mapbox\": {\"style\": \"light\"}, \"paper_bgcolor\": \"white\", \"plot_bgcolor\": \"#E5ECF6\", \"polar\": {\"angularaxis\": {\"gridcolor\": \"white\", \"linecolor\": \"white\", \"ticks\": \"\"}, \"bgcolor\": \"#E5ECF6\", \"radialaxis\": {\"gridcolor\": \"white\", \"linecolor\": \"white\", \"ticks\": \"\"}}, \"scene\": {\"xaxis\": {\"backgroundcolor\": \"#E5ECF6\", \"gridcolor\": \"white\", \"gridwidth\": 2, \"linecolor\": \"white\", \"showbackground\": true, \"ticks\": \"\", \"zerolinecolor\": \"white\"}, \"yaxis\": {\"backgroundcolor\": \"#E5ECF6\", \"gridcolor\": \"white\", \"gridwidth\": 2, \"linecolor\": \"white\", \"showbackground\": true, \"ticks\": \"\", \"zerolinecolor\": \"white\"}, \"zaxis\": {\"backgroundcolor\": \"#E5ECF6\", \"gridcolor\": \"white\", \"gridwidth\": 2, \"linecolor\": \"white\", \"showbackground\": true, \"ticks\": \"\", \"zerolinecolor\": \"white\"}}, \"shapedefaults\": {\"line\": {\"color\": \"#2a3f5f\"}}, \"ternary\": {\"aaxis\": {\"gridcolor\": \"white\", \"linecolor\": \"white\", \"ticks\": \"\"}, \"baxis\": {\"gridcolor\": \"white\", \"linecolor\": \"white\", \"ticks\": \"\"}, \"bgcolor\": \"#E5ECF6\", \"caxis\": {\"gridcolor\": \"white\", \"linecolor\": \"white\", \"ticks\": \"\"}}, \"title\": {\"x\": 0.05}, \"xaxis\": {\"automargin\": true, \"gridcolor\": \"white\", \"linecolor\": \"white\", \"ticks\": \"\", \"title\": {\"standoff\": 15}, \"zerolinecolor\": \"white\", \"zerolinewidth\": 2}, \"yaxis\": {\"automargin\": true, \"gridcolor\": \"white\", \"linecolor\": \"white\", \"ticks\": \"\", \"title\": {\"standoff\": 15}, \"zerolinecolor\": \"white\", \"zerolinewidth\": 2}}}, \"title\": {\"text\": \"Gender distribution of COVID19 Recovered Patients\"}},\n",
              "                        {\"responsive\": true}\n",
              "                    ).then(function(){\n",
              "                            \n",
              "var gd = document.getElementById('85fe1250-0259-4c9b-a49c-7de6e25ce33e');\n",
              "var x = new MutationObserver(function (mutations, observer) {{\n",
              "        var display = window.getComputedStyle(gd).display;\n",
              "        if (!display || display === 'none') {{\n",
              "            console.log([gd, 'removed!']);\n",
              "            Plotly.purge(gd);\n",
              "            observer.disconnect();\n",
              "        }}\n",
              "}});\n",
              "\n",
              "// Listen for the removal of the full notebook cells\n",
              "var notebookContainer = gd.closest('#notebook-container');\n",
              "if (notebookContainer) {{\n",
              "    x.observe(notebookContainer, {childList: true});\n",
              "}}\n",
              "\n",
              "// Listen for the clearing of the current output cell\n",
              "var outputEl = gd.closest('.output');\n",
              "if (outputEl) {{\n",
              "    x.observe(outputEl, {childList: true});\n",
              "}}\n",
              "\n",
              "                        })\n",
              "                };\n",
              "                \n",
              "            </script>\n",
              "        </div>\n",
              "</body>\n",
              "</html>"
            ]
          },
          "metadata": {
            "tags": []
          }
        }
      ]
    },
    {
      "cell_type": "code",
      "metadata": {
        "colab_type": "code",
        "id": "EP4uh3Bz7NOz",
        "outputId": "874d9f59-ed78-4dad-f2d5-16a44837444f",
        "colab": {
          "base_uri": "https://localhost:8080/",
          "height": 462
        }
      },
      "source": [
        "df.head()"
      ],
      "execution_count": 0,
      "outputs": [
        {
          "output_type": "execute_result",
          "data": {
            "text/html": [
              "<div>\n",
              "<style scoped>\n",
              "    .dataframe tbody tr th:only-of-type {\n",
              "        vertical-align: middle;\n",
              "    }\n",
              "\n",
              "    .dataframe tbody tr th {\n",
              "        vertical-align: top;\n",
              "    }\n",
              "\n",
              "    .dataframe thead th {\n",
              "        text-align: right;\n",
              "    }\n",
              "</style>\n",
              "<table border=\"1\" class=\"dataframe\">\n",
              "  <thead>\n",
              "    <tr style=\"text-align: right;\">\n",
              "      <th></th>\n",
              "      <th>agebracket</th>\n",
              "      <th>backupnotes</th>\n",
              "      <th>contractedfromwhichpatientsuspected</th>\n",
              "      <th>currentstatus</th>\n",
              "      <th>dateannounced</th>\n",
              "      <th>detectedcity</th>\n",
              "      <th>detecteddistrict</th>\n",
              "      <th>detectedstate</th>\n",
              "      <th>estimatedonsetdate</th>\n",
              "      <th>gender</th>\n",
              "      <th>nationality</th>\n",
              "      <th>notes</th>\n",
              "      <th>patientnumber</th>\n",
              "      <th>source1</th>\n",
              "      <th>source2</th>\n",
              "      <th>source3</th>\n",
              "      <th>statecode</th>\n",
              "      <th>statepatientnumber</th>\n",
              "      <th>statuschangedate</th>\n",
              "      <th>typeoftransmission</th>\n",
              "    </tr>\n",
              "  </thead>\n",
              "  <tbody>\n",
              "    <tr>\n",
              "      <th>0</th>\n",
              "      <td>20</td>\n",
              "      <td>Student from Wuhan</td>\n",
              "      <td></td>\n",
              "      <td>Recovered</td>\n",
              "      <td>2020-01-30</td>\n",
              "      <td>Thrissur</td>\n",
              "      <td>Thrissur</td>\n",
              "      <td>Kerala</td>\n",
              "      <td></td>\n",
              "      <td>F</td>\n",
              "      <td>India</td>\n",
              "      <td>Travelled from Wuhan</td>\n",
              "      <td>1</td>\n",
              "      <td>https://twitter.com/vijayanpinarayi/status/122...</td>\n",
              "      <td>https://weather.com/en-IN/india/news/news/2020...</td>\n",
              "      <td></td>\n",
              "      <td>KL</td>\n",
              "      <td>KL-TS-P1</td>\n",
              "      <td>2020-02-14</td>\n",
              "      <td>Imported</td>\n",
              "    </tr>\n",
              "    <tr>\n",
              "      <th>1</th>\n",
              "      <td></td>\n",
              "      <td>Student from Wuhan</td>\n",
              "      <td></td>\n",
              "      <td>Recovered</td>\n",
              "      <td>2020-02-02</td>\n",
              "      <td>Alappuzha</td>\n",
              "      <td>Alappuzha</td>\n",
              "      <td>Kerala</td>\n",
              "      <td></td>\n",
              "      <td></td>\n",
              "      <td>India</td>\n",
              "      <td>Travelled from Wuhan</td>\n",
              "      <td>2</td>\n",
              "      <td>https://www.indiatoday.in/india/story/kerala-r...</td>\n",
              "      <td>https://weather.com/en-IN/india/news/news/2020...</td>\n",
              "      <td></td>\n",
              "      <td>KL</td>\n",
              "      <td>KL-AL-P1</td>\n",
              "      <td>2020-02-14</td>\n",
              "      <td>Imported</td>\n",
              "    </tr>\n",
              "    <tr>\n",
              "      <th>2</th>\n",
              "      <td></td>\n",
              "      <td>Student from Wuhan</td>\n",
              "      <td></td>\n",
              "      <td>Recovered</td>\n",
              "      <td>2020-03-02</td>\n",
              "      <td>Kasaragod</td>\n",
              "      <td>Kasaragod</td>\n",
              "      <td>Kerala</td>\n",
              "      <td></td>\n",
              "      <td></td>\n",
              "      <td>India</td>\n",
              "      <td>Travelled from Wuhan</td>\n",
              "      <td>3</td>\n",
              "      <td>https://www.indiatoday.in/india/story/kerala-n...</td>\n",
              "      <td>https://twitter.com/ANI/status/122422148580539...</td>\n",
              "      <td>https://weather.com/en-IN/india/news/news/2020...</td>\n",
              "      <td>KL</td>\n",
              "      <td>KL-KS-P1</td>\n",
              "      <td>2020-02-14</td>\n",
              "      <td>Imported</td>\n",
              "    </tr>\n",
              "    <tr>\n",
              "      <th>3</th>\n",
              "      <td>45</td>\n",
              "      <td>Travel history to Italy and Austria</td>\n",
              "      <td></td>\n",
              "      <td>Recovered</td>\n",
              "      <td>2020-02-03</td>\n",
              "      <td>East Delhi (Mayur Vihar)</td>\n",
              "      <td>East Delhi</td>\n",
              "      <td>Delhi</td>\n",
              "      <td></td>\n",
              "      <td>M</td>\n",
              "      <td>India</td>\n",
              "      <td>Travelled from Austria, Italy</td>\n",
              "      <td>4</td>\n",
              "      <td>https://www.indiatoday.in/india/story/not-a-ja...</td>\n",
              "      <td>https://economictimes.indiatimes.com/news/poli...</td>\n",
              "      <td></td>\n",
              "      <td>DL</td>\n",
              "      <td>DL-P1</td>\n",
              "      <td>2020-03-15</td>\n",
              "      <td>Imported</td>\n",
              "    </tr>\n",
              "    <tr>\n",
              "      <th>4</th>\n",
              "      <td>24</td>\n",
              "      <td>Travel history to Dubai, Singapore contact</td>\n",
              "      <td></td>\n",
              "      <td>Recovered</td>\n",
              "      <td>2020-02-03</td>\n",
              "      <td>Hyderabad</td>\n",
              "      <td>Hyderabad</td>\n",
              "      <td>Telangana</td>\n",
              "      <td></td>\n",
              "      <td>M</td>\n",
              "      <td>India</td>\n",
              "      <td>Travelled from Dubai to Bangalore on 20th Feb,...</td>\n",
              "      <td>5</td>\n",
              "      <td>https://www.deccanherald.com/national/south/qu...</td>\n",
              "      <td>https://www.indiatoday.in/india/story/coronavi...</td>\n",
              "      <td>https://www.thehindu.com/news/national/coronav...</td>\n",
              "      <td>TG</td>\n",
              "      <td>TS-P1</td>\n",
              "      <td>2020-02-03</td>\n",
              "      <td>Imported</td>\n",
              "    </tr>\n",
              "  </tbody>\n",
              "</table>\n",
              "</div>"
            ],
            "text/plain": [
              "  agebracket  ... typeoftransmission\n",
              "0         20  ...           Imported\n",
              "1             ...           Imported\n",
              "2             ...           Imported\n",
              "3         45  ...           Imported\n",
              "4         24  ...           Imported\n",
              "\n",
              "[5 rows x 20 columns]"
            ]
          },
          "metadata": {
            "tags": []
          },
          "execution_count": 23
        }
      ]
    },
    {
      "cell_type": "code",
      "metadata": {
        "id": "C9-uxbIeA1e_",
        "colab_type": "code",
        "colab": {}
      },
      "source": [
        ""
      ],
      "execution_count": 0,
      "outputs": []
    }
  ]
}