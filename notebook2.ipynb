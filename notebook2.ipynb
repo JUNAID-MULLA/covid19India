import scrapbook as sb
nb = sb.read_notebook('Covid19India.ipynb')
chained = nb.scraps["output"].data
print(chained)
