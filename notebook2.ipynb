import scrapbook as sb
nb = sb.read_notebook('Covid19India.ipynb')
chained = nb.scraps["output"].data
print(chained)
parameters = dict(alpha=0.1, ratio=0.1)
print(parameters)
